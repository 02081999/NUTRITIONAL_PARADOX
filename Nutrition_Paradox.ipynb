{
 "cells": [
  {
   "cell_type": "markdown",
   "metadata": {},
   "source": [
    "# IMPORTING LIBRARIES"
   ]
  },
  {
   "cell_type": "code",
   "execution_count": 1,
   "metadata": {},
   "outputs": [],
   "source": [
    "import pandas as pd  \n",
    "import requests"
   ]
  },
  {
   "cell_type": "markdown",
   "metadata": {},
   "source": [
    "# **-----------------------------------LOADING DATA----------------------------------**"
   ]
  },
  {
   "cell_type": "markdown",
   "metadata": {},
   "source": [
    "# 1.OBESITY DATA"
   ]
  },
  {
   "cell_type": "markdown",
   "metadata": {},
   "source": [
    "**Getting data of obesity among ADULTS**"
   ]
  },
  {
   "cell_type": "code",
   "execution_count": 2,
   "metadata": {},
   "outputs": [
    {
     "name": "stdout",
     "output_type": "stream",
     "text": [
      "<Response [200]>\n"
     ]
    }
   ],
   "source": [
    "url1 = \"https://ghoapi.azureedge.net/api/NCD_BMI_30C\"\n",
    "\n",
    "obe_result_1 = requests.get(url1)\n",
    "obe_adlut_data = obe_result_1.json()\n",
    "print(obe_result_1)"
   ]
  },
  {
   "cell_type": "code",
   "execution_count": 3,
   "metadata": {},
   "outputs": [
    {
     "data": {
      "text/plain": [
       "dict_keys(['@odata.context', 'value'])"
      ]
     },
     "execution_count": 3,
     "metadata": {},
     "output_type": "execute_result"
    }
   ],
   "source": [
    "obe_adlut_data.keys()"
   ]
  },
  {
   "cell_type": "code",
   "execution_count": 4,
   "metadata": {},
   "outputs": [
    {
     "data": {
      "text/html": [
       "<div>\n",
       "<style scoped>\n",
       "    .dataframe tbody tr th:only-of-type {\n",
       "        vertical-align: middle;\n",
       "    }\n",
       "\n",
       "    .dataframe tbody tr th {\n",
       "        vertical-align: top;\n",
       "    }\n",
       "\n",
       "    .dataframe thead th {\n",
       "        text-align: right;\n",
       "    }\n",
       "</style>\n",
       "<table border=\"1\" class=\"dataframe\">\n",
       "  <thead>\n",
       "    <tr style=\"text-align: right;\">\n",
       "      <th></th>\n",
       "      <th>Id</th>\n",
       "      <th>IndicatorCode</th>\n",
       "      <th>SpatialDimType</th>\n",
       "      <th>SpatialDim</th>\n",
       "      <th>ParentLocationCode</th>\n",
       "      <th>TimeDimType</th>\n",
       "      <th>ParentLocation</th>\n",
       "      <th>Dim1Type</th>\n",
       "      <th>TimeDim</th>\n",
       "      <th>Dim1</th>\n",
       "      <th>...</th>\n",
       "      <th>DataSourceDim</th>\n",
       "      <th>Value</th>\n",
       "      <th>NumericValue</th>\n",
       "      <th>Low</th>\n",
       "      <th>High</th>\n",
       "      <th>Comments</th>\n",
       "      <th>Date</th>\n",
       "      <th>TimeDimensionValue</th>\n",
       "      <th>TimeDimensionBegin</th>\n",
       "      <th>TimeDimensionEnd</th>\n",
       "    </tr>\n",
       "  </thead>\n",
       "  <tbody>\n",
       "    <tr>\n",
       "      <td>0</td>\n",
       "      <td>2858234</td>\n",
       "      <td>NCD_BMI_30C</td>\n",
       "      <td>COUNTRY</td>\n",
       "      <td>MLI</td>\n",
       "      <td>AFR</td>\n",
       "      <td>YEAR</td>\n",
       "      <td>Africa</td>\n",
       "      <td>SEX</td>\n",
       "      <td>2002</td>\n",
       "      <td>SEX_FMLE</td>\n",
       "      <td>...</td>\n",
       "      <td>None</td>\n",
       "      <td>4.1 [3.5-4.7]</td>\n",
       "      <td>4.06308</td>\n",
       "      <td>3.45107</td>\n",
       "      <td>4.72689</td>\n",
       "      <td>None</td>\n",
       "      <td>2024-02-29T16:06:41.017+01:00</td>\n",
       "      <td>2002</td>\n",
       "      <td>2002-01-01T00:00:00+01:00</td>\n",
       "      <td>2002-12-31T00:00:00+01:00</td>\n",
       "    </tr>\n",
       "    <tr>\n",
       "      <td>1</td>\n",
       "      <td>2858262</td>\n",
       "      <td>NCD_BMI_30C</td>\n",
       "      <td>COUNTRY</td>\n",
       "      <td>FSM</td>\n",
       "      <td>WPR</td>\n",
       "      <td>YEAR</td>\n",
       "      <td>Western Pacific</td>\n",
       "      <td>SEX</td>\n",
       "      <td>2009</td>\n",
       "      <td>SEX_MLE</td>\n",
       "      <td>...</td>\n",
       "      <td>None</td>\n",
       "      <td>31.0 [27.8-34.3]</td>\n",
       "      <td>30.97840</td>\n",
       "      <td>27.84751</td>\n",
       "      <td>34.26268</td>\n",
       "      <td>None</td>\n",
       "      <td>2024-02-29T16:06:41.017+01:00</td>\n",
       "      <td>2009</td>\n",
       "      <td>2009-01-01T00:00:00+01:00</td>\n",
       "      <td>2009-12-31T00:00:00+01:00</td>\n",
       "    </tr>\n",
       "    <tr>\n",
       "      <td>2</td>\n",
       "      <td>2858360</td>\n",
       "      <td>NCD_BMI_30C</td>\n",
       "      <td>COUNTRY</td>\n",
       "      <td>GTM</td>\n",
       "      <td>AMR</td>\n",
       "      <td>YEAR</td>\n",
       "      <td>Americas</td>\n",
       "      <td>SEX</td>\n",
       "      <td>2002</td>\n",
       "      <td>SEX_MLE</td>\n",
       "      <td>...</td>\n",
       "      <td>None</td>\n",
       "      <td>8.7 [7.2-10.4]</td>\n",
       "      <td>8.73783</td>\n",
       "      <td>7.17497</td>\n",
       "      <td>10.44962</td>\n",
       "      <td>None</td>\n",
       "      <td>2024-02-29T16:06:41.017+01:00</td>\n",
       "      <td>2002</td>\n",
       "      <td>2002-01-01T00:00:00+01:00</td>\n",
       "      <td>2002-12-31T00:00:00+01:00</td>\n",
       "    </tr>\n",
       "  </tbody>\n",
       "</table>\n",
       "<p>3 rows × 25 columns</p>\n",
       "</div>"
      ],
      "text/plain": [
       "        Id IndicatorCode SpatialDimType SpatialDim ParentLocationCode  \\\n",
       "0  2858234   NCD_BMI_30C        COUNTRY        MLI                AFR   \n",
       "1  2858262   NCD_BMI_30C        COUNTRY        FSM                WPR   \n",
       "2  2858360   NCD_BMI_30C        COUNTRY        GTM                AMR   \n",
       "\n",
       "  TimeDimType   ParentLocation Dim1Type  TimeDim      Dim1  ... DataSourceDim  \\\n",
       "0        YEAR           Africa      SEX     2002  SEX_FMLE  ...          None   \n",
       "1        YEAR  Western Pacific      SEX     2009   SEX_MLE  ...          None   \n",
       "2        YEAR         Americas      SEX     2002   SEX_MLE  ...          None   \n",
       "\n",
       "              Value NumericValue       Low      High Comments  \\\n",
       "0     4.1 [3.5-4.7]      4.06308   3.45107   4.72689     None   \n",
       "1  31.0 [27.8-34.3]     30.97840  27.84751  34.26268     None   \n",
       "2    8.7 [7.2-10.4]      8.73783   7.17497  10.44962     None   \n",
       "\n",
       "                            Date  TimeDimensionValue  \\\n",
       "0  2024-02-29T16:06:41.017+01:00                2002   \n",
       "1  2024-02-29T16:06:41.017+01:00                2009   \n",
       "2  2024-02-29T16:06:41.017+01:00                2002   \n",
       "\n",
       "          TimeDimensionBegin           TimeDimensionEnd  \n",
       "0  2002-01-01T00:00:00+01:00  2002-12-31T00:00:00+01:00  \n",
       "1  2009-01-01T00:00:00+01:00  2009-12-31T00:00:00+01:00  \n",
       "2  2002-01-01T00:00:00+01:00  2002-12-31T00:00:00+01:00  \n",
       "\n",
       "[3 rows x 25 columns]"
      ]
     },
     "execution_count": 4,
     "metadata": {},
     "output_type": "execute_result"
    }
   ],
   "source": [
    "obe_df_adult = pd.DataFrame(obe_adlut_data['value'])\n",
    "obe_df_adult.head(3)"
   ]
  },
  {
   "cell_type": "markdown",
   "metadata": {},
   "source": [
    "**Getting data of obesity among CHILDREN**"
   ]
  },
  {
   "cell_type": "code",
   "execution_count": 5,
   "metadata": {},
   "outputs": [
    {
     "name": "stdout",
     "output_type": "stream",
     "text": [
      "<Response [200]>\n"
     ]
    }
   ],
   "source": [
    "url2 = \"https://ghoapi.azureedge.net/api/NCD_BMI_PLUS2C\"\n",
    "\n",
    "obe_result_2 = requests.get(url2)\n",
    "obe_mal_data = obe_result_2.json()\n",
    "print(obe_result_2)"
   ]
  },
  {
   "cell_type": "code",
   "execution_count": 6,
   "metadata": {},
   "outputs": [
    {
     "data": {
      "text/plain": [
       "dict_keys(['@odata.context', 'value'])"
      ]
     },
     "execution_count": 6,
     "metadata": {},
     "output_type": "execute_result"
    }
   ],
   "source": [
    "obe_mal_data.keys()"
   ]
  },
  {
   "cell_type": "code",
   "execution_count": 7,
   "metadata": {},
   "outputs": [
    {
     "data": {
      "text/html": [
       "<div>\n",
       "<style scoped>\n",
       "    .dataframe tbody tr th:only-of-type {\n",
       "        vertical-align: middle;\n",
       "    }\n",
       "\n",
       "    .dataframe tbody tr th {\n",
       "        vertical-align: top;\n",
       "    }\n",
       "\n",
       "    .dataframe thead th {\n",
       "        text-align: right;\n",
       "    }\n",
       "</style>\n",
       "<table border=\"1\" class=\"dataframe\">\n",
       "  <thead>\n",
       "    <tr style=\"text-align: right;\">\n",
       "      <th></th>\n",
       "      <th>Id</th>\n",
       "      <th>IndicatorCode</th>\n",
       "      <th>SpatialDimType</th>\n",
       "      <th>SpatialDim</th>\n",
       "      <th>TimeDimType</th>\n",
       "      <th>ParentLocationCode</th>\n",
       "      <th>ParentLocation</th>\n",
       "      <th>Dim1Type</th>\n",
       "      <th>Dim1</th>\n",
       "      <th>TimeDim</th>\n",
       "      <th>...</th>\n",
       "      <th>DataSourceDim</th>\n",
       "      <th>Value</th>\n",
       "      <th>NumericValue</th>\n",
       "      <th>Low</th>\n",
       "      <th>High</th>\n",
       "      <th>Comments</th>\n",
       "      <th>Date</th>\n",
       "      <th>TimeDimensionValue</th>\n",
       "      <th>TimeDimensionBegin</th>\n",
       "      <th>TimeDimensionEnd</th>\n",
       "    </tr>\n",
       "  </thead>\n",
       "  <tbody>\n",
       "    <tr>\n",
       "      <td>0</td>\n",
       "      <td>2857946</td>\n",
       "      <td>NCD_BMI_PLUS2C</td>\n",
       "      <td>COUNTRY</td>\n",
       "      <td>JAM</td>\n",
       "      <td>YEAR</td>\n",
       "      <td>AMR</td>\n",
       "      <td>Americas</td>\n",
       "      <td>SEX</td>\n",
       "      <td>SEX_MLE</td>\n",
       "      <td>2013</td>\n",
       "      <td>...</td>\n",
       "      <td>None</td>\n",
       "      <td>9.6 [6.0-14.2]</td>\n",
       "      <td>9.64419</td>\n",
       "      <td>6.00452</td>\n",
       "      <td>14.23662</td>\n",
       "      <td>None</td>\n",
       "      <td>2024-02-29T16:06:41.017+01:00</td>\n",
       "      <td>2013</td>\n",
       "      <td>2013-01-01T00:00:00+01:00</td>\n",
       "      <td>2013-12-31T00:00:00+01:00</td>\n",
       "    </tr>\n",
       "    <tr>\n",
       "      <td>1</td>\n",
       "      <td>2858470</td>\n",
       "      <td>NCD_BMI_PLUS2C</td>\n",
       "      <td>COUNTRY</td>\n",
       "      <td>NZL</td>\n",
       "      <td>YEAR</td>\n",
       "      <td>WPR</td>\n",
       "      <td>Western Pacific</td>\n",
       "      <td>SEX</td>\n",
       "      <td>SEX_BTSX</td>\n",
       "      <td>1990</td>\n",
       "      <td>...</td>\n",
       "      <td>None</td>\n",
       "      <td>4.8 [3.3-6.7]</td>\n",
       "      <td>4.82332</td>\n",
       "      <td>3.25374</td>\n",
       "      <td>6.68209</td>\n",
       "      <td>None</td>\n",
       "      <td>2024-02-29T16:06:41.017+01:00</td>\n",
       "      <td>1990</td>\n",
       "      <td>1990-01-01T00:00:00+01:00</td>\n",
       "      <td>1990-12-31T00:00:00+01:00</td>\n",
       "    </tr>\n",
       "    <tr>\n",
       "      <td>2</td>\n",
       "      <td>2858648</td>\n",
       "      <td>NCD_BMI_PLUS2C</td>\n",
       "      <td>COUNTRY</td>\n",
       "      <td>MYS</td>\n",
       "      <td>YEAR</td>\n",
       "      <td>WPR</td>\n",
       "      <td>Western Pacific</td>\n",
       "      <td>SEX</td>\n",
       "      <td>SEX_FMLE</td>\n",
       "      <td>2007</td>\n",
       "      <td>...</td>\n",
       "      <td>None</td>\n",
       "      <td>7.9 [6.6-9.2]</td>\n",
       "      <td>7.85262</td>\n",
       "      <td>6.60982</td>\n",
       "      <td>9.19051</td>\n",
       "      <td>None</td>\n",
       "      <td>2024-02-29T16:06:41.017+01:00</td>\n",
       "      <td>2007</td>\n",
       "      <td>2007-01-01T00:00:00+01:00</td>\n",
       "      <td>2007-12-31T00:00:00+01:00</td>\n",
       "    </tr>\n",
       "  </tbody>\n",
       "</table>\n",
       "<p>3 rows × 25 columns</p>\n",
       "</div>"
      ],
      "text/plain": [
       "        Id   IndicatorCode SpatialDimType SpatialDim TimeDimType  \\\n",
       "0  2857946  NCD_BMI_PLUS2C        COUNTRY        JAM        YEAR   \n",
       "1  2858470  NCD_BMI_PLUS2C        COUNTRY        NZL        YEAR   \n",
       "2  2858648  NCD_BMI_PLUS2C        COUNTRY        MYS        YEAR   \n",
       "\n",
       "  ParentLocationCode   ParentLocation Dim1Type      Dim1  TimeDim  ...  \\\n",
       "0                AMR         Americas      SEX   SEX_MLE     2013  ...   \n",
       "1                WPR  Western Pacific      SEX  SEX_BTSX     1990  ...   \n",
       "2                WPR  Western Pacific      SEX  SEX_FMLE     2007  ...   \n",
       "\n",
       "  DataSourceDim           Value NumericValue      Low      High Comments  \\\n",
       "0          None  9.6 [6.0-14.2]      9.64419  6.00452  14.23662     None   \n",
       "1          None   4.8 [3.3-6.7]      4.82332  3.25374   6.68209     None   \n",
       "2          None   7.9 [6.6-9.2]      7.85262  6.60982   9.19051     None   \n",
       "\n",
       "                            Date  TimeDimensionValue  \\\n",
       "0  2024-02-29T16:06:41.017+01:00                2013   \n",
       "1  2024-02-29T16:06:41.017+01:00                1990   \n",
       "2  2024-02-29T16:06:41.017+01:00                2007   \n",
       "\n",
       "          TimeDimensionBegin           TimeDimensionEnd  \n",
       "0  2013-01-01T00:00:00+01:00  2013-12-31T00:00:00+01:00  \n",
       "1  1990-01-01T00:00:00+01:00  1990-12-31T00:00:00+01:00  \n",
       "2  2007-01-01T00:00:00+01:00  2007-12-31T00:00:00+01:00  \n",
       "\n",
       "[3 rows x 25 columns]"
      ]
     },
     "execution_count": 7,
     "metadata": {},
     "output_type": "execute_result"
    }
   ],
   "source": [
    "obe_df_child = pd.DataFrame(obe_mal_data['value'])\n",
    "obe_df_child.head(3)"
   ]
  },
  {
   "cell_type": "markdown",
   "metadata": {},
   "source": [
    "#  2.MALNUTRITION DATA"
   ]
  },
  {
   "cell_type": "markdown",
   "metadata": {},
   "source": [
    "**Getting data of underweight among ADULTS**"
   ]
  },
  {
   "cell_type": "code",
   "execution_count": 8,
   "metadata": {},
   "outputs": [
    {
     "name": "stdout",
     "output_type": "stream",
     "text": [
      "<Response [200]>\n"
     ]
    }
   ],
   "source": [
    "url3 = \"https://ghoapi.azureedge.net/api/NCD_BMI_18C\"\n",
    "\n",
    "mal_result_1 = requests.get(url3)\n",
    "mal_adlut_data = mal_result_1.json()\n",
    "print(mal_result_1)"
   ]
  },
  {
   "cell_type": "code",
   "execution_count": 9,
   "metadata": {},
   "outputs": [
    {
     "data": {
      "text/plain": [
       "dict_keys(['@odata.context', 'value'])"
      ]
     },
     "execution_count": 9,
     "metadata": {},
     "output_type": "execute_result"
    }
   ],
   "source": [
    "mal_adlut_data.keys()"
   ]
  },
  {
   "cell_type": "code",
   "execution_count": 10,
   "metadata": {},
   "outputs": [
    {
     "data": {
      "text/html": [
       "<div>\n",
       "<style scoped>\n",
       "    .dataframe tbody tr th:only-of-type {\n",
       "        vertical-align: middle;\n",
       "    }\n",
       "\n",
       "    .dataframe tbody tr th {\n",
       "        vertical-align: top;\n",
       "    }\n",
       "\n",
       "    .dataframe thead th {\n",
       "        text-align: right;\n",
       "    }\n",
       "</style>\n",
       "<table border=\"1\" class=\"dataframe\">\n",
       "  <thead>\n",
       "    <tr style=\"text-align: right;\">\n",
       "      <th></th>\n",
       "      <th>Id</th>\n",
       "      <th>IndicatorCode</th>\n",
       "      <th>SpatialDimType</th>\n",
       "      <th>SpatialDim</th>\n",
       "      <th>ParentLocationCode</th>\n",
       "      <th>TimeDimType</th>\n",
       "      <th>ParentLocation</th>\n",
       "      <th>Dim1Type</th>\n",
       "      <th>TimeDim</th>\n",
       "      <th>Dim1</th>\n",
       "      <th>...</th>\n",
       "      <th>DataSourceDim</th>\n",
       "      <th>Value</th>\n",
       "      <th>NumericValue</th>\n",
       "      <th>Low</th>\n",
       "      <th>High</th>\n",
       "      <th>Comments</th>\n",
       "      <th>Date</th>\n",
       "      <th>TimeDimensionValue</th>\n",
       "      <th>TimeDimensionBegin</th>\n",
       "      <th>TimeDimensionEnd</th>\n",
       "    </tr>\n",
       "  </thead>\n",
       "  <tbody>\n",
       "    <tr>\n",
       "      <td>0</td>\n",
       "      <td>2858441</td>\n",
       "      <td>NCD_BMI_18C</td>\n",
       "      <td>COUNTRY</td>\n",
       "      <td>SEN</td>\n",
       "      <td>AFR</td>\n",
       "      <td>YEAR</td>\n",
       "      <td>Africa</td>\n",
       "      <td>SEX</td>\n",
       "      <td>2019</td>\n",
       "      <td>SEX_FMLE</td>\n",
       "      <td>...</td>\n",
       "      <td>None</td>\n",
       "      <td>17.3 [13.7-21.4]</td>\n",
       "      <td>17.32081</td>\n",
       "      <td>13.68145</td>\n",
       "      <td>21.37381</td>\n",
       "      <td>None</td>\n",
       "      <td>2024-02-29T16:06:41.017+01:00</td>\n",
       "      <td>2019</td>\n",
       "      <td>2019-01-01T00:00:00+01:00</td>\n",
       "      <td>2019-12-31T00:00:00+01:00</td>\n",
       "    </tr>\n",
       "    <tr>\n",
       "      <td>1</td>\n",
       "      <td>2858619</td>\n",
       "      <td>NCD_BMI_18C</td>\n",
       "      <td>COUNTRY</td>\n",
       "      <td>GNB</td>\n",
       "      <td>AFR</td>\n",
       "      <td>YEAR</td>\n",
       "      <td>Africa</td>\n",
       "      <td>SEX</td>\n",
       "      <td>1995</td>\n",
       "      <td>SEX_FMLE</td>\n",
       "      <td>...</td>\n",
       "      <td>None</td>\n",
       "      <td>13.8 [8.4-20.1]</td>\n",
       "      <td>13.81540</td>\n",
       "      <td>8.37040</td>\n",
       "      <td>20.11951</td>\n",
       "      <td>None</td>\n",
       "      <td>2024-02-29T16:06:41.017+01:00</td>\n",
       "      <td>1995</td>\n",
       "      <td>1995-01-01T00:00:00+01:00</td>\n",
       "      <td>1995-12-31T00:00:00+01:00</td>\n",
       "    </tr>\n",
       "    <tr>\n",
       "      <td>2</td>\n",
       "      <td>2860030</td>\n",
       "      <td>NCD_BMI_18C</td>\n",
       "      <td>COUNTRY</td>\n",
       "      <td>PRI</td>\n",
       "      <td>AMR</td>\n",
       "      <td>YEAR</td>\n",
       "      <td>Americas</td>\n",
       "      <td>SEX</td>\n",
       "      <td>1994</td>\n",
       "      <td>SEX_FMLE</td>\n",
       "      <td>...</td>\n",
       "      <td>None</td>\n",
       "      <td>3.8 [1.8-6.7]</td>\n",
       "      <td>3.79152</td>\n",
       "      <td>1.81863</td>\n",
       "      <td>6.71566</td>\n",
       "      <td>None</td>\n",
       "      <td>2024-02-29T16:06:41.017+01:00</td>\n",
       "      <td>1994</td>\n",
       "      <td>1994-01-01T00:00:00+01:00</td>\n",
       "      <td>1994-12-31T00:00:00+01:00</td>\n",
       "    </tr>\n",
       "  </tbody>\n",
       "</table>\n",
       "<p>3 rows × 25 columns</p>\n",
       "</div>"
      ],
      "text/plain": [
       "        Id IndicatorCode SpatialDimType SpatialDim ParentLocationCode  \\\n",
       "0  2858441   NCD_BMI_18C        COUNTRY        SEN                AFR   \n",
       "1  2858619   NCD_BMI_18C        COUNTRY        GNB                AFR   \n",
       "2  2860030   NCD_BMI_18C        COUNTRY        PRI                AMR   \n",
       "\n",
       "  TimeDimType ParentLocation Dim1Type  TimeDim      Dim1  ... DataSourceDim  \\\n",
       "0        YEAR         Africa      SEX     2019  SEX_FMLE  ...          None   \n",
       "1        YEAR         Africa      SEX     1995  SEX_FMLE  ...          None   \n",
       "2        YEAR       Americas      SEX     1994  SEX_FMLE  ...          None   \n",
       "\n",
       "              Value NumericValue       Low      High Comments  \\\n",
       "0  17.3 [13.7-21.4]     17.32081  13.68145  21.37381     None   \n",
       "1   13.8 [8.4-20.1]     13.81540   8.37040  20.11951     None   \n",
       "2     3.8 [1.8-6.7]      3.79152   1.81863   6.71566     None   \n",
       "\n",
       "                            Date  TimeDimensionValue  \\\n",
       "0  2024-02-29T16:06:41.017+01:00                2019   \n",
       "1  2024-02-29T16:06:41.017+01:00                1995   \n",
       "2  2024-02-29T16:06:41.017+01:00                1994   \n",
       "\n",
       "          TimeDimensionBegin           TimeDimensionEnd  \n",
       "0  2019-01-01T00:00:00+01:00  2019-12-31T00:00:00+01:00  \n",
       "1  1995-01-01T00:00:00+01:00  1995-12-31T00:00:00+01:00  \n",
       "2  1994-01-01T00:00:00+01:00  1994-12-31T00:00:00+01:00  \n",
       "\n",
       "[3 rows x 25 columns]"
      ]
     },
     "execution_count": 10,
     "metadata": {},
     "output_type": "execute_result"
    }
   ],
   "source": [
    "mal_df_adult = pd.DataFrame(mal_adlut_data['value'])\n",
    "mal_df_adult.head(3)"
   ]
  },
  {
   "cell_type": "markdown",
   "metadata": {},
   "source": [
    "**Getting data of underweight among CHILDREN**"
   ]
  },
  {
   "cell_type": "code",
   "execution_count": 11,
   "metadata": {},
   "outputs": [
    {
     "name": "stdout",
     "output_type": "stream",
     "text": [
      "<Response [200]>\n"
     ]
    }
   ],
   "source": [
    "url4 = \"https://ghoapi.azureedge.net/api/NCD_BMI_MINUS2C\"\n",
    "\n",
    "mal_result_2 = requests.get(url4)\n",
    "mal_child_data = mal_result_2.json()\n",
    "print(mal_result_2)"
   ]
  },
  {
   "cell_type": "code",
   "execution_count": 12,
   "metadata": {},
   "outputs": [
    {
     "data": {
      "text/plain": [
       "dict_keys(['@odata.context', 'value'])"
      ]
     },
     "execution_count": 12,
     "metadata": {},
     "output_type": "execute_result"
    }
   ],
   "source": [
    "mal_child_data.keys()"
   ]
  },
  {
   "cell_type": "code",
   "execution_count": 13,
   "metadata": {},
   "outputs": [
    {
     "data": {
      "text/html": [
       "<div>\n",
       "<style scoped>\n",
       "    .dataframe tbody tr th:only-of-type {\n",
       "        vertical-align: middle;\n",
       "    }\n",
       "\n",
       "    .dataframe tbody tr th {\n",
       "        vertical-align: top;\n",
       "    }\n",
       "\n",
       "    .dataframe thead th {\n",
       "        text-align: right;\n",
       "    }\n",
       "</style>\n",
       "<table border=\"1\" class=\"dataframe\">\n",
       "  <thead>\n",
       "    <tr style=\"text-align: right;\">\n",
       "      <th></th>\n",
       "      <th>Id</th>\n",
       "      <th>IndicatorCode</th>\n",
       "      <th>SpatialDimType</th>\n",
       "      <th>SpatialDim</th>\n",
       "      <th>TimeDimType</th>\n",
       "      <th>ParentLocationCode</th>\n",
       "      <th>ParentLocation</th>\n",
       "      <th>Dim1Type</th>\n",
       "      <th>TimeDim</th>\n",
       "      <th>Dim1</th>\n",
       "      <th>...</th>\n",
       "      <th>DataSourceDim</th>\n",
       "      <th>Value</th>\n",
       "      <th>NumericValue</th>\n",
       "      <th>Low</th>\n",
       "      <th>High</th>\n",
       "      <th>Comments</th>\n",
       "      <th>Date</th>\n",
       "      <th>TimeDimensionValue</th>\n",
       "      <th>TimeDimensionBegin</th>\n",
       "      <th>TimeDimensionEnd</th>\n",
       "    </tr>\n",
       "  </thead>\n",
       "  <tbody>\n",
       "    <tr>\n",
       "      <td>0</td>\n",
       "      <td>2857847</td>\n",
       "      <td>NCD_BMI_MINUS2C</td>\n",
       "      <td>COUNTRY</td>\n",
       "      <td>UKR</td>\n",
       "      <td>YEAR</td>\n",
       "      <td>EUR</td>\n",
       "      <td>Europe</td>\n",
       "      <td>SEX</td>\n",
       "      <td>2022</td>\n",
       "      <td>SEX_FMLE</td>\n",
       "      <td>...</td>\n",
       "      <td>None</td>\n",
       "      <td>6.0 [4.1-8.5]</td>\n",
       "      <td>6.03248</td>\n",
       "      <td>4.06989</td>\n",
       "      <td>8.52919</td>\n",
       "      <td>None</td>\n",
       "      <td>2024-02-29T16:06:41.017+01:00</td>\n",
       "      <td>2022</td>\n",
       "      <td>2022-01-01T00:00:00+01:00</td>\n",
       "      <td>2022-12-31T00:00:00+01:00</td>\n",
       "    </tr>\n",
       "    <tr>\n",
       "      <td>1</td>\n",
       "      <td>2857911</td>\n",
       "      <td>NCD_BMI_MINUS2C</td>\n",
       "      <td>COUNTRY</td>\n",
       "      <td>GRD</td>\n",
       "      <td>YEAR</td>\n",
       "      <td>AMR</td>\n",
       "      <td>Americas</td>\n",
       "      <td>SEX</td>\n",
       "      <td>2001</td>\n",
       "      <td>SEX_MLE</td>\n",
       "      <td>...</td>\n",
       "      <td>None</td>\n",
       "      <td>4.4 [0.7-12.2]</td>\n",
       "      <td>4.36908</td>\n",
       "      <td>0.65904</td>\n",
       "      <td>12.18668</td>\n",
       "      <td>None</td>\n",
       "      <td>2024-02-29T16:06:41.017+01:00</td>\n",
       "      <td>2001</td>\n",
       "      <td>2001-01-01T00:00:00+01:00</td>\n",
       "      <td>2001-12-31T00:00:00+01:00</td>\n",
       "    </tr>\n",
       "    <tr>\n",
       "      <td>2</td>\n",
       "      <td>2857947</td>\n",
       "      <td>NCD_BMI_MINUS2C</td>\n",
       "      <td>COUNTRY</td>\n",
       "      <td>ESP</td>\n",
       "      <td>YEAR</td>\n",
       "      <td>EUR</td>\n",
       "      <td>Europe</td>\n",
       "      <td>SEX</td>\n",
       "      <td>1999</td>\n",
       "      <td>SEX_BTSX</td>\n",
       "      <td>...</td>\n",
       "      <td>None</td>\n",
       "      <td>1.4 [1.0-1.9]</td>\n",
       "      <td>1.39997</td>\n",
       "      <td>1.00139</td>\n",
       "      <td>1.87787</td>\n",
       "      <td>None</td>\n",
       "      <td>2024-02-29T16:06:41.017+01:00</td>\n",
       "      <td>1999</td>\n",
       "      <td>1999-01-01T00:00:00+01:00</td>\n",
       "      <td>1999-12-31T00:00:00+01:00</td>\n",
       "    </tr>\n",
       "  </tbody>\n",
       "</table>\n",
       "<p>3 rows × 25 columns</p>\n",
       "</div>"
      ],
      "text/plain": [
       "        Id    IndicatorCode SpatialDimType SpatialDim TimeDimType  \\\n",
       "0  2857847  NCD_BMI_MINUS2C        COUNTRY        UKR        YEAR   \n",
       "1  2857911  NCD_BMI_MINUS2C        COUNTRY        GRD        YEAR   \n",
       "2  2857947  NCD_BMI_MINUS2C        COUNTRY        ESP        YEAR   \n",
       "\n",
       "  ParentLocationCode ParentLocation Dim1Type  TimeDim      Dim1  ...  \\\n",
       "0                EUR         Europe      SEX     2022  SEX_FMLE  ...   \n",
       "1                AMR       Americas      SEX     2001   SEX_MLE  ...   \n",
       "2                EUR         Europe      SEX     1999  SEX_BTSX  ...   \n",
       "\n",
       "  DataSourceDim           Value NumericValue      Low      High Comments  \\\n",
       "0          None   6.0 [4.1-8.5]      6.03248  4.06989   8.52919     None   \n",
       "1          None  4.4 [0.7-12.2]      4.36908  0.65904  12.18668     None   \n",
       "2          None   1.4 [1.0-1.9]      1.39997  1.00139   1.87787     None   \n",
       "\n",
       "                            Date  TimeDimensionValue  \\\n",
       "0  2024-02-29T16:06:41.017+01:00                2022   \n",
       "1  2024-02-29T16:06:41.017+01:00                2001   \n",
       "2  2024-02-29T16:06:41.017+01:00                1999   \n",
       "\n",
       "          TimeDimensionBegin           TimeDimensionEnd  \n",
       "0  2022-01-01T00:00:00+01:00  2022-12-31T00:00:00+01:00  \n",
       "1  2001-01-01T00:00:00+01:00  2001-12-31T00:00:00+01:00  \n",
       "2  1999-01-01T00:00:00+01:00  1999-12-31T00:00:00+01:00  \n",
       "\n",
       "[3 rows x 25 columns]"
      ]
     },
     "execution_count": 13,
     "metadata": {},
     "output_type": "execute_result"
    }
   ],
   "source": [
    "mal_df_child = pd.DataFrame(mal_child_data['value'])\n",
    "mal_df_child.head(3)"
   ]
  },
  {
   "cell_type": "markdown",
   "metadata": {},
   "source": [
    "# -------------------------------------DATA PREPROCESSING---------------------------------------"
   ]
  },
  {
   "cell_type": "markdown",
   "metadata": {},
   "source": [
    "# 1. ADDING NEW COLUMN"
   ]
  },
  {
   "cell_type": "markdown",
   "metadata": {},
   "source": [
    "**-----FOR OBESITY-----**"
   ]
  },
  {
   "cell_type": "code",
   "execution_count": 14,
   "metadata": {},
   "outputs": [
    {
     "name": "stdout",
     "output_type": "stream",
     "text": [
      "(20790, 25)\n",
      "(62370, 25)\n"
     ]
    }
   ],
   "source": [
    "#BEFORE ADDING NEW COLUMN\n",
    "\n",
    "print(obe_df_adult.shape)\n",
    "print(obe_df_child.shape)"
   ]
  },
  {
   "cell_type": "code",
   "execution_count": 15,
   "metadata": {},
   "outputs": [],
   "source": [
    "obe_df_adult['age_group']=\"Adult\"\n",
    "obe_df_child['age_group'] = 'Children'"
   ]
  },
  {
   "cell_type": "code",
   "execution_count": 16,
   "metadata": {},
   "outputs": [
    {
     "name": "stdout",
     "output_type": "stream",
     "text": [
      "(20790, 26)\n",
      "(62370, 26)\n"
     ]
    }
   ],
   "source": [
    "#AFTER ADDING NEW COLUMN\n",
    "\n",
    "print(obe_df_adult.shape)\n",
    "print(obe_df_child.shape)"
   ]
  },
  {
   "cell_type": "markdown",
   "metadata": {},
   "source": [
    "**-----FOR MALNUTRITION-----**"
   ]
  },
  {
   "cell_type": "code",
   "execution_count": 17,
   "metadata": {},
   "outputs": [
    {
     "name": "stdout",
     "output_type": "stream",
     "text": [
      "(20790, 25)\n",
      "(62370, 25)\n"
     ]
    }
   ],
   "source": [
    "#BEFORE ADDING NEW COLUMN \n",
    "\n",
    "print(mal_df_adult.shape)\n",
    "print(mal_df_child.shape)"
   ]
  },
  {
   "cell_type": "code",
   "execution_count": 18,
   "metadata": {},
   "outputs": [],
   "source": [
    "mal_df_adult['age_group']='Adult'\n",
    "mal_df_child['age_group'] = 'Children'"
   ]
  },
  {
   "cell_type": "code",
   "execution_count": 19,
   "metadata": {},
   "outputs": [
    {
     "name": "stdout",
     "output_type": "stream",
     "text": [
      "(20790, 26)\n",
      "(62370, 26)\n"
     ]
    }
   ],
   "source": [
    "#AFTER ADDING NEW COLUMN\n",
    "\n",
    "print(mal_df_adult.shape)\n",
    "print(mal_df_child.shape)"
   ]
  },
  {
   "cell_type": "markdown",
   "metadata": {},
   "source": [
    "# 2.CONCATENATING DATAFRAMES"
   ]
  },
  {
   "cell_type": "markdown",
   "metadata": {},
   "source": [
    "**COMBAINING OBESITY DATAFRAME**"
   ]
  },
  {
   "cell_type": "code",
   "execution_count": 20,
   "metadata": {},
   "outputs": [
    {
     "name": "stdout",
     "output_type": "stream",
     "text": [
      "(20790, 26)\n",
      "(62370, 26)\n"
     ]
    }
   ],
   "source": [
    "#BEFORE COMBAINING\n",
    "\n",
    "print(obe_df_adult.shape)\n",
    "print(obe_df_child.shape)"
   ]
  },
  {
   "cell_type": "code",
   "execution_count": 21,
   "metadata": {},
   "outputs": [],
   "source": [
    "df_obesity = pd.concat([obe_df_adult, obe_df_child],sort=False)"
   ]
  },
  {
   "cell_type": "code",
   "execution_count": 22,
   "metadata": {},
   "outputs": [
    {
     "name": "stdout",
     "output_type": "stream",
     "text": [
      "(83160, 26)\n"
     ]
    }
   ],
   "source": [
    "#AFTER COMBAINING\n",
    "\n",
    "print(df_obesity.shape)"
   ]
  },
  {
   "cell_type": "markdown",
   "metadata": {},
   "source": [
    "**COMBAINING MALNUTRITION DATAFRAMES**"
   ]
  },
  {
   "cell_type": "code",
   "execution_count": 23,
   "metadata": {},
   "outputs": [
    {
     "name": "stdout",
     "output_type": "stream",
     "text": [
      "(20790, 26)\n",
      "(62370, 26)\n"
     ]
    }
   ],
   "source": [
    "#BEFORE COMBAINING\n",
    "\n",
    "print(mal_df_adult.shape)\n",
    "print(mal_df_child.shape)"
   ]
  },
  {
   "cell_type": "code",
   "execution_count": 24,
   "metadata": {},
   "outputs": [],
   "source": [
    "df_malnutrition = pd.concat([mal_df_adult,mal_df_child],sort=False)"
   ]
  },
  {
   "cell_type": "code",
   "execution_count": 25,
   "metadata": {},
   "outputs": [
    {
     "name": "stdout",
     "output_type": "stream",
     "text": [
      "(83160, 26)\n"
     ]
    }
   ],
   "source": [
    "#AFTER COMBAINING\n",
    "\n",
    "print(df_malnutrition.shape)"
   ]
  },
  {
   "cell_type": "markdown",
   "metadata": {},
   "source": [
    "# 3.FILTERING RECORDS ONLY FROM THE YEARS 2012 TO 2022"
   ]
  },
  {
   "cell_type": "markdown",
   "metadata": {},
   "source": [
    "**FROM OBESITY DATASET**"
   ]
  },
  {
   "cell_type": "code",
   "execution_count": 26,
   "metadata": {},
   "outputs": [],
   "source": [
    "df_obesity = df_obesity[(df_obesity[\"TimeDimensionValue\"] >= '2012') & (df_obesity[\"TimeDimensionValue\"] <= '2022')]"
   ]
  },
  {
   "cell_type": "code",
   "execution_count": 27,
   "metadata": {},
   "outputs": [
    {
     "data": {
      "text/plain": [
       "(27720, 26)"
      ]
     },
     "execution_count": 27,
     "metadata": {},
     "output_type": "execute_result"
    }
   ],
   "source": [
    "df_obesity.shape"
   ]
  },
  {
   "cell_type": "markdown",
   "metadata": {},
   "source": [
    "**FROM MALNUTRITION DATASET**"
   ]
  },
  {
   "cell_type": "code",
   "execution_count": 28,
   "metadata": {},
   "outputs": [],
   "source": [
    "df_malnutrition = df_malnutrition[(df_malnutrition[\"TimeDimensionValue\"] >= '2012') & (df_malnutrition[\"TimeDimensionValue\"] <= '2022')]"
   ]
  },
  {
   "cell_type": "code",
   "execution_count": 29,
   "metadata": {},
   "outputs": [
    {
     "data": {
      "text/plain": [
       "(27720, 26)"
      ]
     },
     "execution_count": 29,
     "metadata": {},
     "output_type": "execute_result"
    }
   ],
   "source": [
    "df_malnutrition.shape"
   ]
  },
  {
   "cell_type": "markdown",
   "metadata": {},
   "source": [
    "# ----------------DATA CLEANING AND FEATURE ENGINEERING---------------"
   ]
  },
  {
   "cell_type": "markdown",
   "metadata": {},
   "source": [
    "# 1.COLUMNS TO RETAIN"
   ]
  },
  {
   "cell_type": "markdown",
   "metadata": {},
   "source": [
    "**FOR OBESITY**"
   ]
  },
  {
   "cell_type": "code",
   "execution_count": 30,
   "metadata": {},
   "outputs": [],
   "source": [
    "df_obesity = df_obesity[['ParentLocation', 'Dim1', 'TimeDim','Low','High','NumericValue','SpatialDim','age_group']]\n",
    "df_obesity = df_obesity.reset_index(drop=True)"
   ]
  },
  {
   "cell_type": "code",
   "execution_count": 31,
   "metadata": {},
   "outputs": [
    {
     "data": {
      "text/html": [
       "<div>\n",
       "<style scoped>\n",
       "    .dataframe tbody tr th:only-of-type {\n",
       "        vertical-align: middle;\n",
       "    }\n",
       "\n",
       "    .dataframe tbody tr th {\n",
       "        vertical-align: top;\n",
       "    }\n",
       "\n",
       "    .dataframe thead th {\n",
       "        text-align: right;\n",
       "    }\n",
       "</style>\n",
       "<table border=\"1\" class=\"dataframe\">\n",
       "  <thead>\n",
       "    <tr style=\"text-align: right;\">\n",
       "      <th></th>\n",
       "      <th>ParentLocation</th>\n",
       "      <th>Dim1</th>\n",
       "      <th>TimeDim</th>\n",
       "      <th>Low</th>\n",
       "      <th>High</th>\n",
       "      <th>NumericValue</th>\n",
       "      <th>SpatialDim</th>\n",
       "      <th>age_group</th>\n",
       "    </tr>\n",
       "  </thead>\n",
       "  <tbody>\n",
       "    <tr>\n",
       "      <td>0</td>\n",
       "      <td>Eastern Mediterranean</td>\n",
       "      <td>SEX_BTSX</td>\n",
       "      <td>2012</td>\n",
       "      <td>7.61715</td>\n",
       "      <td>10.73760</td>\n",
       "      <td>9.08931</td>\n",
       "      <td>AFG</td>\n",
       "      <td>Adult</td>\n",
       "    </tr>\n",
       "    <tr>\n",
       "      <td>1</td>\n",
       "      <td>Western Pacific</td>\n",
       "      <td>SEX_MLE</td>\n",
       "      <td>2015</td>\n",
       "      <td>0.77819</td>\n",
       "      <td>1.25472</td>\n",
       "      <td>0.99617</td>\n",
       "      <td>VNM</td>\n",
       "      <td>Adult</td>\n",
       "    </tr>\n",
       "    <tr>\n",
       "      <td>2</td>\n",
       "      <td>Africa</td>\n",
       "      <td>SEX_MLE</td>\n",
       "      <td>2021</td>\n",
       "      <td>3.95796</td>\n",
       "      <td>8.52200</td>\n",
       "      <td>5.97085</td>\n",
       "      <td>BEN</td>\n",
       "      <td>Adult</td>\n",
       "    </tr>\n",
       "    <tr>\n",
       "      <td>3</td>\n",
       "      <td>Eastern Mediterranean</td>\n",
       "      <td>SEX_MLE</td>\n",
       "      <td>2014</td>\n",
       "      <td>4.63586</td>\n",
       "      <td>7.55673</td>\n",
       "      <td>5.99229</td>\n",
       "      <td>SDN</td>\n",
       "      <td>Adult</td>\n",
       "    </tr>\n",
       "    <tr>\n",
       "      <td>4</td>\n",
       "      <td>Eastern Mediterranean</td>\n",
       "      <td>SEX_MLE</td>\n",
       "      <td>2020</td>\n",
       "      <td>15.79378</td>\n",
       "      <td>19.24573</td>\n",
       "      <td>17.48764</td>\n",
       "      <td>IRN</td>\n",
       "      <td>Adult</td>\n",
       "    </tr>\n",
       "    <tr>\n",
       "      <td>...</td>\n",
       "      <td>...</td>\n",
       "      <td>...</td>\n",
       "      <td>...</td>\n",
       "      <td>...</td>\n",
       "      <td>...</td>\n",
       "      <td>...</td>\n",
       "      <td>...</td>\n",
       "      <td>...</td>\n",
       "    </tr>\n",
       "    <tr>\n",
       "      <td>27715</td>\n",
       "      <td>Europe</td>\n",
       "      <td>SEX_BTSX</td>\n",
       "      <td>2020</td>\n",
       "      <td>0.96418</td>\n",
       "      <td>2.19743</td>\n",
       "      <td>1.47593</td>\n",
       "      <td>TJK</td>\n",
       "      <td>Children</td>\n",
       "    </tr>\n",
       "    <tr>\n",
       "      <td>27716</td>\n",
       "      <td>Eastern Mediterranean</td>\n",
       "      <td>SEX_FMLE</td>\n",
       "      <td>2012</td>\n",
       "      <td>0.30204</td>\n",
       "      <td>5.87241</td>\n",
       "      <td>1.96619</td>\n",
       "      <td>SOM</td>\n",
       "      <td>Children</td>\n",
       "    </tr>\n",
       "    <tr>\n",
       "      <td>27717</td>\n",
       "      <td>Western Pacific</td>\n",
       "      <td>SEX_MLE</td>\n",
       "      <td>2021</td>\n",
       "      <td>3.32590</td>\n",
       "      <td>34.87782</td>\n",
       "      <td>16.63489</td>\n",
       "      <td>VUT</td>\n",
       "      <td>Children</td>\n",
       "    </tr>\n",
       "    <tr>\n",
       "      <td>27718</td>\n",
       "      <td>Africa</td>\n",
       "      <td>SEX_MLE</td>\n",
       "      <td>2014</td>\n",
       "      <td>0.23648</td>\n",
       "      <td>6.34118</td>\n",
       "      <td>2.03219</td>\n",
       "      <td>MDG</td>\n",
       "      <td>Children</td>\n",
       "    </tr>\n",
       "    <tr>\n",
       "      <td>27719</td>\n",
       "      <td>Europe</td>\n",
       "      <td>SEX_MLE</td>\n",
       "      <td>2017</td>\n",
       "      <td>10.08785</td>\n",
       "      <td>12.76015</td>\n",
       "      <td>11.39063</td>\n",
       "      <td>FIN</td>\n",
       "      <td>Children</td>\n",
       "    </tr>\n",
       "  </tbody>\n",
       "</table>\n",
       "<p>27720 rows × 8 columns</p>\n",
       "</div>"
      ],
      "text/plain": [
       "              ParentLocation      Dim1  TimeDim       Low      High  \\\n",
       "0      Eastern Mediterranean  SEX_BTSX     2012   7.61715  10.73760   \n",
       "1            Western Pacific   SEX_MLE     2015   0.77819   1.25472   \n",
       "2                     Africa   SEX_MLE     2021   3.95796   8.52200   \n",
       "3      Eastern Mediterranean   SEX_MLE     2014   4.63586   7.55673   \n",
       "4      Eastern Mediterranean   SEX_MLE     2020  15.79378  19.24573   \n",
       "...                      ...       ...      ...       ...       ...   \n",
       "27715                 Europe  SEX_BTSX     2020   0.96418   2.19743   \n",
       "27716  Eastern Mediterranean  SEX_FMLE     2012   0.30204   5.87241   \n",
       "27717        Western Pacific   SEX_MLE     2021   3.32590  34.87782   \n",
       "27718                 Africa   SEX_MLE     2014   0.23648   6.34118   \n",
       "27719                 Europe   SEX_MLE     2017  10.08785  12.76015   \n",
       "\n",
       "       NumericValue SpatialDim age_group  \n",
       "0           9.08931        AFG     Adult  \n",
       "1           0.99617        VNM     Adult  \n",
       "2           5.97085        BEN     Adult  \n",
       "3           5.99229        SDN     Adult  \n",
       "4          17.48764        IRN     Adult  \n",
       "...             ...        ...       ...  \n",
       "27715       1.47593        TJK  Children  \n",
       "27716       1.96619        SOM  Children  \n",
       "27717      16.63489        VUT  Children  \n",
       "27718       2.03219        MDG  Children  \n",
       "27719      11.39063        FIN  Children  \n",
       "\n",
       "[27720 rows x 8 columns]"
      ]
     },
     "execution_count": 31,
     "metadata": {},
     "output_type": "execute_result"
    }
   ],
   "source": [
    "df_obesity"
   ]
  },
  {
   "cell_type": "markdown",
   "metadata": {},
   "source": [
    "**FOR MALNUTRITION**"
   ]
  },
  {
   "cell_type": "code",
   "execution_count": 32,
   "metadata": {},
   "outputs": [],
   "source": [
    "df_malnutrition = df_malnutrition[['ParentLocation', 'Dim1', 'TimeDim','Low','High','NumericValue','SpatialDim','age_group']]\n",
    "df_malnutrition = df_malnutrition.reset_index(drop=True)"
   ]
  },
  {
   "cell_type": "code",
   "execution_count": 33,
   "metadata": {},
   "outputs": [
    {
     "data": {
      "text/html": [
       "<div>\n",
       "<style scoped>\n",
       "    .dataframe tbody tr th:only-of-type {\n",
       "        vertical-align: middle;\n",
       "    }\n",
       "\n",
       "    .dataframe tbody tr th {\n",
       "        vertical-align: top;\n",
       "    }\n",
       "\n",
       "    .dataframe thead th {\n",
       "        text-align: right;\n",
       "    }\n",
       "</style>\n",
       "<table border=\"1\" class=\"dataframe\">\n",
       "  <thead>\n",
       "    <tr style=\"text-align: right;\">\n",
       "      <th></th>\n",
       "      <th>ParentLocation</th>\n",
       "      <th>Dim1</th>\n",
       "      <th>TimeDim</th>\n",
       "      <th>Low</th>\n",
       "      <th>High</th>\n",
       "      <th>NumericValue</th>\n",
       "      <th>SpatialDim</th>\n",
       "      <th>age_group</th>\n",
       "    </tr>\n",
       "  </thead>\n",
       "  <tbody>\n",
       "    <tr>\n",
       "      <td>0</td>\n",
       "      <td>Africa</td>\n",
       "      <td>SEX_FMLE</td>\n",
       "      <td>2019</td>\n",
       "      <td>13.68145</td>\n",
       "      <td>21.37381</td>\n",
       "      <td>17.32081</td>\n",
       "      <td>SEN</td>\n",
       "      <td>Adult</td>\n",
       "    </tr>\n",
       "    <tr>\n",
       "      <td>1</td>\n",
       "      <td>Western Pacific</td>\n",
       "      <td>SEX_MLE</td>\n",
       "      <td>2017</td>\n",
       "      <td>0.04792</td>\n",
       "      <td>0.73164</td>\n",
       "      <td>0.26032</td>\n",
       "      <td>ASM</td>\n",
       "      <td>Adult</td>\n",
       "    </tr>\n",
       "    <tr>\n",
       "      <td>2</td>\n",
       "      <td>Africa</td>\n",
       "      <td>SEX_FMLE</td>\n",
       "      <td>2021</td>\n",
       "      <td>3.97204</td>\n",
       "      <td>8.07702</td>\n",
       "      <td>5.79511</td>\n",
       "      <td>GAB</td>\n",
       "      <td>Adult</td>\n",
       "    </tr>\n",
       "    <tr>\n",
       "      <td>3</td>\n",
       "      <td>Western Pacific</td>\n",
       "      <td>SEX_BTSX</td>\n",
       "      <td>2017</td>\n",
       "      <td>2.42823</td>\n",
       "      <td>3.84215</td>\n",
       "      <td>3.09065</td>\n",
       "      <td>MNG</td>\n",
       "      <td>Adult</td>\n",
       "    </tr>\n",
       "    <tr>\n",
       "      <td>4</td>\n",
       "      <td>Africa</td>\n",
       "      <td>SEX_FMLE</td>\n",
       "      <td>2016</td>\n",
       "      <td>6.65567</td>\n",
       "      <td>10.25312</td>\n",
       "      <td>8.37172</td>\n",
       "      <td>SLE</td>\n",
       "      <td>Adult</td>\n",
       "    </tr>\n",
       "    <tr>\n",
       "      <td>...</td>\n",
       "      <td>...</td>\n",
       "      <td>...</td>\n",
       "      <td>...</td>\n",
       "      <td>...</td>\n",
       "      <td>...</td>\n",
       "      <td>...</td>\n",
       "      <td>...</td>\n",
       "      <td>...</td>\n",
       "    </tr>\n",
       "    <tr>\n",
       "      <td>27715</td>\n",
       "      <td>Americas</td>\n",
       "      <td>SEX_FMLE</td>\n",
       "      <td>2013</td>\n",
       "      <td>2.79550</td>\n",
       "      <td>5.71434</td>\n",
       "      <td>4.14069</td>\n",
       "      <td>HTI</td>\n",
       "      <td>Children</td>\n",
       "    </tr>\n",
       "    <tr>\n",
       "      <td>27716</td>\n",
       "      <td>Europe</td>\n",
       "      <td>SEX_BTSX</td>\n",
       "      <td>2018</td>\n",
       "      <td>5.42817</td>\n",
       "      <td>10.21840</td>\n",
       "      <td>7.57499</td>\n",
       "      <td>TJK</td>\n",
       "      <td>Children</td>\n",
       "    </tr>\n",
       "    <tr>\n",
       "      <td>27717</td>\n",
       "      <td>Western Pacific</td>\n",
       "      <td>SEX_BTSX</td>\n",
       "      <td>2016</td>\n",
       "      <td>0.62172</td>\n",
       "      <td>3.50706</td>\n",
       "      <td>1.70365</td>\n",
       "      <td>PNG</td>\n",
       "      <td>Children</td>\n",
       "    </tr>\n",
       "    <tr>\n",
       "      <td>27718</td>\n",
       "      <td>Western Pacific</td>\n",
       "      <td>SEX_FMLE</td>\n",
       "      <td>2020</td>\n",
       "      <td>0.06415</td>\n",
       "      <td>2.81018</td>\n",
       "      <td>0.73407</td>\n",
       "      <td>WSM</td>\n",
       "      <td>Children</td>\n",
       "    </tr>\n",
       "    <tr>\n",
       "      <td>27719</td>\n",
       "      <td>Europe</td>\n",
       "      <td>SEX_MLE</td>\n",
       "      <td>2018</td>\n",
       "      <td>0.46517</td>\n",
       "      <td>7.30748</td>\n",
       "      <td>2.54279</td>\n",
       "      <td>ISL</td>\n",
       "      <td>Children</td>\n",
       "    </tr>\n",
       "  </tbody>\n",
       "</table>\n",
       "<p>27720 rows × 8 columns</p>\n",
       "</div>"
      ],
      "text/plain": [
       "        ParentLocation      Dim1  TimeDim       Low      High  NumericValue  \\\n",
       "0               Africa  SEX_FMLE     2019  13.68145  21.37381      17.32081   \n",
       "1      Western Pacific   SEX_MLE     2017   0.04792   0.73164       0.26032   \n",
       "2               Africa  SEX_FMLE     2021   3.97204   8.07702       5.79511   \n",
       "3      Western Pacific  SEX_BTSX     2017   2.42823   3.84215       3.09065   \n",
       "4               Africa  SEX_FMLE     2016   6.65567  10.25312       8.37172   \n",
       "...                ...       ...      ...       ...       ...           ...   \n",
       "27715         Americas  SEX_FMLE     2013   2.79550   5.71434       4.14069   \n",
       "27716           Europe  SEX_BTSX     2018   5.42817  10.21840       7.57499   \n",
       "27717  Western Pacific  SEX_BTSX     2016   0.62172   3.50706       1.70365   \n",
       "27718  Western Pacific  SEX_FMLE     2020   0.06415   2.81018       0.73407   \n",
       "27719           Europe   SEX_MLE     2018   0.46517   7.30748       2.54279   \n",
       "\n",
       "      SpatialDim age_group  \n",
       "0            SEN     Adult  \n",
       "1            ASM     Adult  \n",
       "2            GAB     Adult  \n",
       "3            MNG     Adult  \n",
       "4            SLE     Adult  \n",
       "...          ...       ...  \n",
       "27715        HTI  Children  \n",
       "27716        TJK  Children  \n",
       "27717        PNG  Children  \n",
       "27718        WSM  Children  \n",
       "27719        ISL  Children  \n",
       "\n",
       "[27720 rows x 8 columns]"
      ]
     },
     "execution_count": 33,
     "metadata": {},
     "output_type": "execute_result"
    }
   ],
   "source": [
    "df_malnutrition"
   ]
  },
  {
   "cell_type": "markdown",
   "metadata": {},
   "source": [
    "# 2.RENAME COLUMNS FOR EASY UNDERSTANDING"
   ]
  },
  {
   "cell_type": "code",
   "execution_count": 34,
   "metadata": {},
   "outputs": [],
   "source": [
    "\n",
    "#CHANGING OBESITY COLUMN NAMES\n",
    "\n",
    "df_obesity=df_obesity.rename(columns={\n",
    "    'TimeDim':'Year',\n",
    "    'Dim1':'Gender',\n",
    "    'NumericValue':'Mean_Estimate',\n",
    "    'Low':'LowerBound',\n",
    "    'High':'UpperBound',\n",
    "    'ParentLocation':'Region',\n",
    "    'SpatialDim':'Country',\n",
    "    'age_group':'Age_Group'\n",
    "})\n",
    "\n",
    "\n",
    "#CHANGING MALNUTRITION COLUMN NAMES\n",
    "\n",
    "df_malnutrition=df_malnutrition.rename(columns={\n",
    "    'TimeDim':'Year',\n",
    "    'Dim1':'Gender',\n",
    "    'NumericValue':'Mean_Estimate',\n",
    "    'Low':'LowerBound',\n",
    "    'High':'UpperBound',\n",
    "    'ParentLocation':'Region',\n",
    "    'SpatialDim':'Country',\n",
    "    'age_group':'Age_Group'\n",
    "})"
   ]
  },
  {
   "cell_type": "code",
   "execution_count": 35,
   "metadata": {},
   "outputs": [
    {
     "data": {
      "text/html": [
       "<div>\n",
       "<style scoped>\n",
       "    .dataframe tbody tr th:only-of-type {\n",
       "        vertical-align: middle;\n",
       "    }\n",
       "\n",
       "    .dataframe tbody tr th {\n",
       "        vertical-align: top;\n",
       "    }\n",
       "\n",
       "    .dataframe thead th {\n",
       "        text-align: right;\n",
       "    }\n",
       "</style>\n",
       "<table border=\"1\" class=\"dataframe\">\n",
       "  <thead>\n",
       "    <tr style=\"text-align: right;\">\n",
       "      <th></th>\n",
       "      <th>Region</th>\n",
       "      <th>Gender</th>\n",
       "      <th>Year</th>\n",
       "      <th>LowerBound</th>\n",
       "      <th>UpperBound</th>\n",
       "      <th>Mean_Estimate</th>\n",
       "      <th>Country</th>\n",
       "      <th>Age_Group</th>\n",
       "    </tr>\n",
       "  </thead>\n",
       "  <tbody>\n",
       "    <tr>\n",
       "      <td>0</td>\n",
       "      <td>Eastern Mediterranean</td>\n",
       "      <td>SEX_BTSX</td>\n",
       "      <td>2012</td>\n",
       "      <td>7.61715</td>\n",
       "      <td>10.73760</td>\n",
       "      <td>9.08931</td>\n",
       "      <td>AFG</td>\n",
       "      <td>Adult</td>\n",
       "    </tr>\n",
       "    <tr>\n",
       "      <td>1</td>\n",
       "      <td>Western Pacific</td>\n",
       "      <td>SEX_MLE</td>\n",
       "      <td>2015</td>\n",
       "      <td>0.77819</td>\n",
       "      <td>1.25472</td>\n",
       "      <td>0.99617</td>\n",
       "      <td>VNM</td>\n",
       "      <td>Adult</td>\n",
       "    </tr>\n",
       "    <tr>\n",
       "      <td>2</td>\n",
       "      <td>Africa</td>\n",
       "      <td>SEX_MLE</td>\n",
       "      <td>2021</td>\n",
       "      <td>3.95796</td>\n",
       "      <td>8.52200</td>\n",
       "      <td>5.97085</td>\n",
       "      <td>BEN</td>\n",
       "      <td>Adult</td>\n",
       "    </tr>\n",
       "  </tbody>\n",
       "</table>\n",
       "</div>"
      ],
      "text/plain": [
       "                  Region    Gender  Year  LowerBound  UpperBound  \\\n",
       "0  Eastern Mediterranean  SEX_BTSX  2012     7.61715    10.73760   \n",
       "1        Western Pacific   SEX_MLE  2015     0.77819     1.25472   \n",
       "2                 Africa   SEX_MLE  2021     3.95796     8.52200   \n",
       "\n",
       "   Mean_Estimate Country Age_Group  \n",
       "0        9.08931     AFG     Adult  \n",
       "1        0.99617     VNM     Adult  \n",
       "2        5.97085     BEN     Adult  "
      ]
     },
     "execution_count": 35,
     "metadata": {},
     "output_type": "execute_result"
    }
   ],
   "source": [
    "df_obesity.head(3)"
   ]
  },
  {
   "cell_type": "code",
   "execution_count": 36,
   "metadata": {},
   "outputs": [
    {
     "data": {
      "text/html": [
       "<div>\n",
       "<style scoped>\n",
       "    .dataframe tbody tr th:only-of-type {\n",
       "        vertical-align: middle;\n",
       "    }\n",
       "\n",
       "    .dataframe tbody tr th {\n",
       "        vertical-align: top;\n",
       "    }\n",
       "\n",
       "    .dataframe thead th {\n",
       "        text-align: right;\n",
       "    }\n",
       "</style>\n",
       "<table border=\"1\" class=\"dataframe\">\n",
       "  <thead>\n",
       "    <tr style=\"text-align: right;\">\n",
       "      <th></th>\n",
       "      <th>Region</th>\n",
       "      <th>Gender</th>\n",
       "      <th>Year</th>\n",
       "      <th>LowerBound</th>\n",
       "      <th>UpperBound</th>\n",
       "      <th>Mean_Estimate</th>\n",
       "      <th>Country</th>\n",
       "      <th>Age_Group</th>\n",
       "    </tr>\n",
       "  </thead>\n",
       "  <tbody>\n",
       "    <tr>\n",
       "      <td>0</td>\n",
       "      <td>Africa</td>\n",
       "      <td>SEX_FMLE</td>\n",
       "      <td>2019</td>\n",
       "      <td>13.68145</td>\n",
       "      <td>21.37381</td>\n",
       "      <td>17.32081</td>\n",
       "      <td>SEN</td>\n",
       "      <td>Adult</td>\n",
       "    </tr>\n",
       "    <tr>\n",
       "      <td>1</td>\n",
       "      <td>Western Pacific</td>\n",
       "      <td>SEX_MLE</td>\n",
       "      <td>2017</td>\n",
       "      <td>0.04792</td>\n",
       "      <td>0.73164</td>\n",
       "      <td>0.26032</td>\n",
       "      <td>ASM</td>\n",
       "      <td>Adult</td>\n",
       "    </tr>\n",
       "    <tr>\n",
       "      <td>2</td>\n",
       "      <td>Africa</td>\n",
       "      <td>SEX_FMLE</td>\n",
       "      <td>2021</td>\n",
       "      <td>3.97204</td>\n",
       "      <td>8.07702</td>\n",
       "      <td>5.79511</td>\n",
       "      <td>GAB</td>\n",
       "      <td>Adult</td>\n",
       "    </tr>\n",
       "  </tbody>\n",
       "</table>\n",
       "</div>"
      ],
      "text/plain": [
       "            Region    Gender  Year  LowerBound  UpperBound  Mean_Estimate  \\\n",
       "0           Africa  SEX_FMLE  2019    13.68145    21.37381       17.32081   \n",
       "1  Western Pacific   SEX_MLE  2017     0.04792     0.73164        0.26032   \n",
       "2           Africa  SEX_FMLE  2021     3.97204     8.07702        5.79511   \n",
       "\n",
       "  Country Age_Group  \n",
       "0     SEN     Adult  \n",
       "1     ASM     Adult  \n",
       "2     GAB     Adult  "
      ]
     },
     "execution_count": 36,
     "metadata": {},
     "output_type": "execute_result"
    }
   ],
   "source": [
    "df_malnutrition.head(3)"
   ]
  },
  {
   "cell_type": "markdown",
   "metadata": {},
   "source": [
    "# 3.CONVERT COUNTRY CODES TO COUNTRIES FULL NAME"
   ]
  },
  {
   "cell_type": "markdown",
   "metadata": {},
   "source": [
    "## FOR CONVERTING COUNTRY CODE - INSTALL AND IMPORT PYCOUNTRY PACKAGE**"
   ]
  },
  {
   "cell_type": "code",
   "execution_count": 37,
   "metadata": {},
   "outputs": [],
   "source": [
    "import pycountry"
   ]
  },
  {
   "cell_type": "markdown",
   "metadata": {},
   "source": [
    "**FOR OBESITY**"
   ]
  },
  {
   "cell_type": "code",
   "execution_count": 38,
   "metadata": {},
   "outputs": [],
   "source": [
    "#special cases\n",
    "special_cases = {\n",
    "    'GLOBAL': 'Global',\n",
    "    'WB_LMI': 'Low & Middle Income',\n",
    "    'WB_HI': 'High Income',\n",
    "    'WB_LI': 'Low Income',\n",
    "    'EMR': 'Eastern Mediterranean Region',\n",
    "    'EUR': 'Europe',\n",
    "    'AFR': 'Africa',\n",
    "    'SEAR': 'South-East Asia Region',\n",
    "    'WPR': 'Western Pacific Region',\n",
    "    'AMR': 'Americas Region',\n",
    "    'WB_UMI': 'Upper Middle Income'\n",
    "}\n",
    "\n",
    "# Build a new list of full names\n",
    "full_names = []\n",
    "\n",
    "for code in df_obesity['Country']:\n",
    "    if code in special_cases:\n",
    "        full_names.append(special_cases[code])\n",
    "    elif pycountry.countries.get(alpha_3=code):\n",
    "        full_names.append(pycountry.countries.get(alpha_3=code).name)\n",
    "    else:\n",
    "        full_names.append(code)\n",
    "\n",
    "# Replace the original Country column\n",
    "df_obesity['Country'] = full_names\n"
   ]
  },
  {
   "cell_type": "code",
   "execution_count": 39,
   "metadata": {},
   "outputs": [
    {
     "data": {
      "text/html": [
       "<div>\n",
       "<style scoped>\n",
       "    .dataframe tbody tr th:only-of-type {\n",
       "        vertical-align: middle;\n",
       "    }\n",
       "\n",
       "    .dataframe tbody tr th {\n",
       "        vertical-align: top;\n",
       "    }\n",
       "\n",
       "    .dataframe thead th {\n",
       "        text-align: right;\n",
       "    }\n",
       "</style>\n",
       "<table border=\"1\" class=\"dataframe\">\n",
       "  <thead>\n",
       "    <tr style=\"text-align: right;\">\n",
       "      <th></th>\n",
       "      <th>Region</th>\n",
       "      <th>Gender</th>\n",
       "      <th>Year</th>\n",
       "      <th>LowerBound</th>\n",
       "      <th>UpperBound</th>\n",
       "      <th>Mean_Estimate</th>\n",
       "      <th>Country</th>\n",
       "      <th>Age_Group</th>\n",
       "    </tr>\n",
       "  </thead>\n",
       "  <tbody>\n",
       "    <tr>\n",
       "      <td>0</td>\n",
       "      <td>Eastern Mediterranean</td>\n",
       "      <td>SEX_BTSX</td>\n",
       "      <td>2012</td>\n",
       "      <td>7.61715</td>\n",
       "      <td>10.73760</td>\n",
       "      <td>9.08931</td>\n",
       "      <td>Afghanistan</td>\n",
       "      <td>Adult</td>\n",
       "    </tr>\n",
       "    <tr>\n",
       "      <td>1</td>\n",
       "      <td>Western Pacific</td>\n",
       "      <td>SEX_MLE</td>\n",
       "      <td>2015</td>\n",
       "      <td>0.77819</td>\n",
       "      <td>1.25472</td>\n",
       "      <td>0.99617</td>\n",
       "      <td>Viet Nam</td>\n",
       "      <td>Adult</td>\n",
       "    </tr>\n",
       "    <tr>\n",
       "      <td>2</td>\n",
       "      <td>Africa</td>\n",
       "      <td>SEX_MLE</td>\n",
       "      <td>2021</td>\n",
       "      <td>3.95796</td>\n",
       "      <td>8.52200</td>\n",
       "      <td>5.97085</td>\n",
       "      <td>Benin</td>\n",
       "      <td>Adult</td>\n",
       "    </tr>\n",
       "  </tbody>\n",
       "</table>\n",
       "</div>"
      ],
      "text/plain": [
       "                  Region    Gender  Year  LowerBound  UpperBound  \\\n",
       "0  Eastern Mediterranean  SEX_BTSX  2012     7.61715    10.73760   \n",
       "1        Western Pacific   SEX_MLE  2015     0.77819     1.25472   \n",
       "2                 Africa   SEX_MLE  2021     3.95796     8.52200   \n",
       "\n",
       "   Mean_Estimate      Country Age_Group  \n",
       "0        9.08931  Afghanistan     Adult  \n",
       "1        0.99617     Viet Nam     Adult  \n",
       "2        5.97085        Benin     Adult  "
      ]
     },
     "execution_count": 39,
     "metadata": {},
     "output_type": "execute_result"
    }
   ],
   "source": [
    "df_obesity.head(3)"
   ]
  },
  {
   "cell_type": "markdown",
   "metadata": {},
   "source": [
    "**FOR MALNUTRITION**"
   ]
  },
  {
   "cell_type": "code",
   "execution_count": 40,
   "metadata": {},
   "outputs": [],
   "source": [
    "#special cases\n",
    "special_cases = {\n",
    "    'GLOBAL': 'Global',\n",
    "    'WB_LMI': 'Low & Middle Income',\n",
    "    'WB_HI': 'High Income',\n",
    "    'WB_LI': 'Low Income',\n",
    "    'EMR': 'Eastern Mediterranean Region',\n",
    "    'EUR': 'Europe',\n",
    "    'AFR': 'Africa',\n",
    "    'SEAR': 'South-East Asia Region',\n",
    "    'WPR': 'Western Pacific Region',\n",
    "    'AMR': 'Americas Region',\n",
    "    'WB_UMI': 'Upper Middle Income'\n",
    "}\n",
    "\n",
    "# Build a new list of full names\n",
    "full_names = []\n",
    "\n",
    "for code in df_malnutrition['Country']:\n",
    "    if code in special_cases:\n",
    "        full_names.append(special_cases[code])\n",
    "    elif pycountry.countries.get(alpha_3=code):\n",
    "        full_names.append(pycountry.countries.get(alpha_3=code).name)\n",
    "    else:\n",
    "        full_names.append(code)\n",
    "\n",
    "# Replace the original Country column\n",
    "df_malnutrition['Country'] = full_names\n"
   ]
  },
  {
   "cell_type": "code",
   "execution_count": 41,
   "metadata": {},
   "outputs": [
    {
     "data": {
      "text/html": [
       "<div>\n",
       "<style scoped>\n",
       "    .dataframe tbody tr th:only-of-type {\n",
       "        vertical-align: middle;\n",
       "    }\n",
       "\n",
       "    .dataframe tbody tr th {\n",
       "        vertical-align: top;\n",
       "    }\n",
       "\n",
       "    .dataframe thead th {\n",
       "        text-align: right;\n",
       "    }\n",
       "</style>\n",
       "<table border=\"1\" class=\"dataframe\">\n",
       "  <thead>\n",
       "    <tr style=\"text-align: right;\">\n",
       "      <th></th>\n",
       "      <th>Region</th>\n",
       "      <th>Gender</th>\n",
       "      <th>Year</th>\n",
       "      <th>LowerBound</th>\n",
       "      <th>UpperBound</th>\n",
       "      <th>Mean_Estimate</th>\n",
       "      <th>Country</th>\n",
       "      <th>Age_Group</th>\n",
       "    </tr>\n",
       "  </thead>\n",
       "  <tbody>\n",
       "    <tr>\n",
       "      <td>0</td>\n",
       "      <td>Africa</td>\n",
       "      <td>SEX_FMLE</td>\n",
       "      <td>2019</td>\n",
       "      <td>13.68145</td>\n",
       "      <td>21.37381</td>\n",
       "      <td>17.32081</td>\n",
       "      <td>Senegal</td>\n",
       "      <td>Adult</td>\n",
       "    </tr>\n",
       "    <tr>\n",
       "      <td>1</td>\n",
       "      <td>Western Pacific</td>\n",
       "      <td>SEX_MLE</td>\n",
       "      <td>2017</td>\n",
       "      <td>0.04792</td>\n",
       "      <td>0.73164</td>\n",
       "      <td>0.26032</td>\n",
       "      <td>American Samoa</td>\n",
       "      <td>Adult</td>\n",
       "    </tr>\n",
       "    <tr>\n",
       "      <td>2</td>\n",
       "      <td>Africa</td>\n",
       "      <td>SEX_FMLE</td>\n",
       "      <td>2021</td>\n",
       "      <td>3.97204</td>\n",
       "      <td>8.07702</td>\n",
       "      <td>5.79511</td>\n",
       "      <td>Gabon</td>\n",
       "      <td>Adult</td>\n",
       "    </tr>\n",
       "  </tbody>\n",
       "</table>\n",
       "</div>"
      ],
      "text/plain": [
       "            Region    Gender  Year  LowerBound  UpperBound  Mean_Estimate  \\\n",
       "0           Africa  SEX_FMLE  2019    13.68145    21.37381       17.32081   \n",
       "1  Western Pacific   SEX_MLE  2017     0.04792     0.73164        0.26032   \n",
       "2           Africa  SEX_FMLE  2021     3.97204     8.07702        5.79511   \n",
       "\n",
       "          Country Age_Group  \n",
       "0         Senegal     Adult  \n",
       "1  American Samoa     Adult  \n",
       "2           Gabon     Adult  "
      ]
     },
     "execution_count": 41,
     "metadata": {},
     "output_type": "execute_result"
    }
   ],
   "source": [
    "df_malnutrition.head(3)"
   ]
  },
  {
   "cell_type": "markdown",
   "metadata": {},
   "source": [
    "# 4.ADD NEW COLUMN AS CI_WIDTH"
   ]
  },
  {
   "cell_type": "markdown",
   "metadata": {},
   "source": [
    "**CI_WIDTH TO OBESITY DATAFRAME**"
   ]
  },
  {
   "cell_type": "code",
   "execution_count": 42,
   "metadata": {},
   "outputs": [],
   "source": [
    "df_obesity['CI_width']=df_obesity['UpperBound']-df_obesity['LowerBound']"
   ]
  },
  {
   "cell_type": "code",
   "execution_count": 43,
   "metadata": {},
   "outputs": [
    {
     "data": {
      "text/html": [
       "<div>\n",
       "<style scoped>\n",
       "    .dataframe tbody tr th:only-of-type {\n",
       "        vertical-align: middle;\n",
       "    }\n",
       "\n",
       "    .dataframe tbody tr th {\n",
       "        vertical-align: top;\n",
       "    }\n",
       "\n",
       "    .dataframe thead th {\n",
       "        text-align: right;\n",
       "    }\n",
       "</style>\n",
       "<table border=\"1\" class=\"dataframe\">\n",
       "  <thead>\n",
       "    <tr style=\"text-align: right;\">\n",
       "      <th></th>\n",
       "      <th>Region</th>\n",
       "      <th>Gender</th>\n",
       "      <th>Year</th>\n",
       "      <th>LowerBound</th>\n",
       "      <th>UpperBound</th>\n",
       "      <th>Mean_Estimate</th>\n",
       "      <th>Country</th>\n",
       "      <th>Age_Group</th>\n",
       "      <th>CI_width</th>\n",
       "    </tr>\n",
       "  </thead>\n",
       "  <tbody>\n",
       "    <tr>\n",
       "      <td>0</td>\n",
       "      <td>Eastern Mediterranean</td>\n",
       "      <td>SEX_BTSX</td>\n",
       "      <td>2012</td>\n",
       "      <td>7.61715</td>\n",
       "      <td>10.73760</td>\n",
       "      <td>9.08931</td>\n",
       "      <td>Afghanistan</td>\n",
       "      <td>Adult</td>\n",
       "      <td>3.12045</td>\n",
       "    </tr>\n",
       "    <tr>\n",
       "      <td>1</td>\n",
       "      <td>Western Pacific</td>\n",
       "      <td>SEX_MLE</td>\n",
       "      <td>2015</td>\n",
       "      <td>0.77819</td>\n",
       "      <td>1.25472</td>\n",
       "      <td>0.99617</td>\n",
       "      <td>Viet Nam</td>\n",
       "      <td>Adult</td>\n",
       "      <td>0.47653</td>\n",
       "    </tr>\n",
       "    <tr>\n",
       "      <td>2</td>\n",
       "      <td>Africa</td>\n",
       "      <td>SEX_MLE</td>\n",
       "      <td>2021</td>\n",
       "      <td>3.95796</td>\n",
       "      <td>8.52200</td>\n",
       "      <td>5.97085</td>\n",
       "      <td>Benin</td>\n",
       "      <td>Adult</td>\n",
       "      <td>4.56404</td>\n",
       "    </tr>\n",
       "  </tbody>\n",
       "</table>\n",
       "</div>"
      ],
      "text/plain": [
       "                  Region    Gender  Year  LowerBound  UpperBound  \\\n",
       "0  Eastern Mediterranean  SEX_BTSX  2012     7.61715    10.73760   \n",
       "1        Western Pacific   SEX_MLE  2015     0.77819     1.25472   \n",
       "2                 Africa   SEX_MLE  2021     3.95796     8.52200   \n",
       "\n",
       "   Mean_Estimate      Country Age_Group  CI_width  \n",
       "0        9.08931  Afghanistan     Adult   3.12045  \n",
       "1        0.99617     Viet Nam     Adult   0.47653  \n",
       "2        5.97085        Benin     Adult   4.56404  "
      ]
     },
     "execution_count": 43,
     "metadata": {},
     "output_type": "execute_result"
    }
   ],
   "source": [
    "df_obesity.head(3)"
   ]
  },
  {
   "cell_type": "markdown",
   "metadata": {},
   "source": [
    "**CI_WIDTH TO MALNUTRITION DATAFRAME**"
   ]
  },
  {
   "cell_type": "code",
   "execution_count": 44,
   "metadata": {},
   "outputs": [],
   "source": [
    "df_malnutrition['CI_width']=df_malnutrition['UpperBound']-df_malnutrition['LowerBound']"
   ]
  },
  {
   "cell_type": "code",
   "execution_count": 45,
   "metadata": {},
   "outputs": [
    {
     "data": {
      "text/html": [
       "<div>\n",
       "<style scoped>\n",
       "    .dataframe tbody tr th:only-of-type {\n",
       "        vertical-align: middle;\n",
       "    }\n",
       "\n",
       "    .dataframe tbody tr th {\n",
       "        vertical-align: top;\n",
       "    }\n",
       "\n",
       "    .dataframe thead th {\n",
       "        text-align: right;\n",
       "    }\n",
       "</style>\n",
       "<table border=\"1\" class=\"dataframe\">\n",
       "  <thead>\n",
       "    <tr style=\"text-align: right;\">\n",
       "      <th></th>\n",
       "      <th>Region</th>\n",
       "      <th>Gender</th>\n",
       "      <th>Year</th>\n",
       "      <th>LowerBound</th>\n",
       "      <th>UpperBound</th>\n",
       "      <th>Mean_Estimate</th>\n",
       "      <th>Country</th>\n",
       "      <th>Age_Group</th>\n",
       "      <th>CI_width</th>\n",
       "    </tr>\n",
       "  </thead>\n",
       "  <tbody>\n",
       "    <tr>\n",
       "      <td>0</td>\n",
       "      <td>Africa</td>\n",
       "      <td>SEX_FMLE</td>\n",
       "      <td>2019</td>\n",
       "      <td>13.68145</td>\n",
       "      <td>21.37381</td>\n",
       "      <td>17.32081</td>\n",
       "      <td>Senegal</td>\n",
       "      <td>Adult</td>\n",
       "      <td>7.69236</td>\n",
       "    </tr>\n",
       "    <tr>\n",
       "      <td>1</td>\n",
       "      <td>Western Pacific</td>\n",
       "      <td>SEX_MLE</td>\n",
       "      <td>2017</td>\n",
       "      <td>0.04792</td>\n",
       "      <td>0.73164</td>\n",
       "      <td>0.26032</td>\n",
       "      <td>American Samoa</td>\n",
       "      <td>Adult</td>\n",
       "      <td>0.68372</td>\n",
       "    </tr>\n",
       "    <tr>\n",
       "      <td>2</td>\n",
       "      <td>Africa</td>\n",
       "      <td>SEX_FMLE</td>\n",
       "      <td>2021</td>\n",
       "      <td>3.97204</td>\n",
       "      <td>8.07702</td>\n",
       "      <td>5.79511</td>\n",
       "      <td>Gabon</td>\n",
       "      <td>Adult</td>\n",
       "      <td>4.10498</td>\n",
       "    </tr>\n",
       "  </tbody>\n",
       "</table>\n",
       "</div>"
      ],
      "text/plain": [
       "            Region    Gender  Year  LowerBound  UpperBound  Mean_Estimate  \\\n",
       "0           Africa  SEX_FMLE  2019    13.68145    21.37381       17.32081   \n",
       "1  Western Pacific   SEX_MLE  2017     0.04792     0.73164        0.26032   \n",
       "2           Africa  SEX_FMLE  2021     3.97204     8.07702        5.79511   \n",
       "\n",
       "          Country Age_Group  CI_width  \n",
       "0         Senegal     Adult   7.69236  \n",
       "1  American Samoa     Adult   0.68372  \n",
       "2           Gabon     Adult   4.10498  "
      ]
     },
     "execution_count": 45,
     "metadata": {},
     "output_type": "execute_result"
    }
   ],
   "source": [
    "df_malnutrition.head(3)"
   ]
  },
  {
   "cell_type": "markdown",
   "metadata": {},
   "source": [
    "# 5.CHANGING GENDER VALUES"
   ]
  },
  {
   "cell_type": "code",
   "execution_count": 46,
   "metadata": {},
   "outputs": [],
   "source": [
    "#FOR OBESITY DATAFRAME\n",
    "\n",
    "\n",
    "df_obesity['Gender']=df_obesity['Gender'].replace({\n",
    "    'SEX_MLE':'Male',\n",
    "    'SEX_FMLE':'Female',\n",
    "    'SEX_BTSX':'Both'\n",
    "})\n",
    "\n",
    "\n",
    "\n",
    "#FOR MALNUTRITION DATAFRAME\n",
    "\n",
    "df_malnutrition['Gender']=df_malnutrition['Gender'].replace({\n",
    "    'SEX_MLE':'Male',\n",
    "    'SEX_FMLE':'Female',\n",
    "    'SEX_BTSX':'Both'\n",
    "    \n",
    "})"
   ]
  },
  {
   "cell_type": "code",
   "execution_count": 47,
   "metadata": {},
   "outputs": [
    {
     "name": "stdout",
     "output_type": "stream",
     "text": [
      "                  Region Gender  Year  LowerBound  UpperBound  Mean_Estimate  \\\n",
      "0  Eastern Mediterranean   Both  2012     7.61715    10.73760        9.08931   \n",
      "1        Western Pacific   Male  2015     0.77819     1.25472        0.99617   \n",
      "2                 Africa   Male  2021     3.95796     8.52200        5.97085   \n",
      "\n",
      "       Country Age_Group  CI_width  \n",
      "0  Afghanistan     Adult   3.12045  \n",
      "1     Viet Nam     Adult   0.47653  \n",
      "2        Benin     Adult   4.56404  \n",
      "            Region  Gender  Year  LowerBound  UpperBound  Mean_Estimate  \\\n",
      "0           Africa  Female  2019    13.68145    21.37381       17.32081   \n",
      "1  Western Pacific    Male  2017     0.04792     0.73164        0.26032   \n",
      "2           Africa  Female  2021     3.97204     8.07702        5.79511   \n",
      "\n",
      "          Country Age_Group  CI_width  \n",
      "0         Senegal     Adult   7.69236  \n",
      "1  American Samoa     Adult   0.68372  \n",
      "2           Gabon     Adult   4.10498  \n"
     ]
    }
   ],
   "source": [
    "print(df_obesity.head(3))\n",
    "print(df_malnutrition.head(3))"
   ]
  },
  {
   "cell_type": "markdown",
   "metadata": {},
   "source": [
    "# 6.CATEGORIZE LEVELS BASED ON NUMERIC VALUE"
   ]
  },
  {
   "cell_type": "markdown",
   "metadata": {},
   "source": [
    "**FOR OBESITY DATAFRAME**"
   ]
  },
  {
   "cell_type": "code",
   "execution_count": 48,
   "metadata": {},
   "outputs": [],
   "source": [
    "#setting high,moderate,low to new column\n",
    "\n",
    "#1.define a function\n",
    "def obesity_level(value):\n",
    "    if value >= 30:\n",
    "        return 'High'\n",
    "    elif value >= 25  and value<30:\n",
    "        return 'Moderate'\n",
    "    else:\n",
    "        return 'Low'\n",
    "\n",
    "#2: apply the function to the Mean_Estimate column\n",
    "df_obesity['Obesity_Level'] = df_obesity['Mean_Estimate'].apply(obesity_level)"
   ]
  },
  {
   "cell_type": "code",
   "execution_count": 49,
   "metadata": {},
   "outputs": [
    {
     "data": {
      "text/html": [
       "<div>\n",
       "<style scoped>\n",
       "    .dataframe tbody tr th:only-of-type {\n",
       "        vertical-align: middle;\n",
       "    }\n",
       "\n",
       "    .dataframe tbody tr th {\n",
       "        vertical-align: top;\n",
       "    }\n",
       "\n",
       "    .dataframe thead th {\n",
       "        text-align: right;\n",
       "    }\n",
       "</style>\n",
       "<table border=\"1\" class=\"dataframe\">\n",
       "  <thead>\n",
       "    <tr style=\"text-align: right;\">\n",
       "      <th></th>\n",
       "      <th>Region</th>\n",
       "      <th>Gender</th>\n",
       "      <th>Year</th>\n",
       "      <th>LowerBound</th>\n",
       "      <th>UpperBound</th>\n",
       "      <th>Mean_Estimate</th>\n",
       "      <th>Country</th>\n",
       "      <th>Age_Group</th>\n",
       "      <th>CI_width</th>\n",
       "      <th>Obesity_Level</th>\n",
       "    </tr>\n",
       "  </thead>\n",
       "  <tbody>\n",
       "    <tr>\n",
       "      <td>0</td>\n",
       "      <td>Eastern Mediterranean</td>\n",
       "      <td>Both</td>\n",
       "      <td>2012</td>\n",
       "      <td>7.61715</td>\n",
       "      <td>10.73760</td>\n",
       "      <td>9.08931</td>\n",
       "      <td>Afghanistan</td>\n",
       "      <td>Adult</td>\n",
       "      <td>3.12045</td>\n",
       "      <td>Low</td>\n",
       "    </tr>\n",
       "    <tr>\n",
       "      <td>1</td>\n",
       "      <td>Western Pacific</td>\n",
       "      <td>Male</td>\n",
       "      <td>2015</td>\n",
       "      <td>0.77819</td>\n",
       "      <td>1.25472</td>\n",
       "      <td>0.99617</td>\n",
       "      <td>Viet Nam</td>\n",
       "      <td>Adult</td>\n",
       "      <td>0.47653</td>\n",
       "      <td>Low</td>\n",
       "    </tr>\n",
       "    <tr>\n",
       "      <td>2</td>\n",
       "      <td>Africa</td>\n",
       "      <td>Male</td>\n",
       "      <td>2021</td>\n",
       "      <td>3.95796</td>\n",
       "      <td>8.52200</td>\n",
       "      <td>5.97085</td>\n",
       "      <td>Benin</td>\n",
       "      <td>Adult</td>\n",
       "      <td>4.56404</td>\n",
       "      <td>Low</td>\n",
       "    </tr>\n",
       "    <tr>\n",
       "      <td>3</td>\n",
       "      <td>Eastern Mediterranean</td>\n",
       "      <td>Male</td>\n",
       "      <td>2014</td>\n",
       "      <td>4.63586</td>\n",
       "      <td>7.55673</td>\n",
       "      <td>5.99229</td>\n",
       "      <td>Sudan</td>\n",
       "      <td>Adult</td>\n",
       "      <td>2.92087</td>\n",
       "      <td>Low</td>\n",
       "    </tr>\n",
       "    <tr>\n",
       "      <td>4</td>\n",
       "      <td>Eastern Mediterranean</td>\n",
       "      <td>Male</td>\n",
       "      <td>2020</td>\n",
       "      <td>15.79378</td>\n",
       "      <td>19.24573</td>\n",
       "      <td>17.48764</td>\n",
       "      <td>Iran, Islamic Republic of</td>\n",
       "      <td>Adult</td>\n",
       "      <td>3.45195</td>\n",
       "      <td>Low</td>\n",
       "    </tr>\n",
       "  </tbody>\n",
       "</table>\n",
       "</div>"
      ],
      "text/plain": [
       "                  Region Gender  Year  LowerBound  UpperBound  Mean_Estimate  \\\n",
       "0  Eastern Mediterranean   Both  2012     7.61715    10.73760        9.08931   \n",
       "1        Western Pacific   Male  2015     0.77819     1.25472        0.99617   \n",
       "2                 Africa   Male  2021     3.95796     8.52200        5.97085   \n",
       "3  Eastern Mediterranean   Male  2014     4.63586     7.55673        5.99229   \n",
       "4  Eastern Mediterranean   Male  2020    15.79378    19.24573       17.48764   \n",
       "\n",
       "                     Country Age_Group  CI_width Obesity_Level  \n",
       "0                Afghanistan     Adult   3.12045           Low  \n",
       "1                   Viet Nam     Adult   0.47653           Low  \n",
       "2                      Benin     Adult   4.56404           Low  \n",
       "3                      Sudan     Adult   2.92087           Low  \n",
       "4  Iran, Islamic Republic of     Adult   3.45195           Low  "
      ]
     },
     "execution_count": 49,
     "metadata": {},
     "output_type": "execute_result"
    }
   ],
   "source": [
    "df_obesity.head(5)"
   ]
  },
  {
   "cell_type": "markdown",
   "metadata": {},
   "source": [
    "**FOR MALNUTRITION DATAFRAME**"
   ]
  },
  {
   "cell_type": "code",
   "execution_count": 50,
   "metadata": {},
   "outputs": [],
   "source": [
    "#1.define a function\n",
    "def malnutrition_level(value):\n",
    "    if value >= 20:\n",
    "        return 'High'\n",
    "    elif value >= 10 and value<=20:\n",
    "        return 'Moderate'\n",
    "    else:\n",
    "        return 'Low'\n",
    "\n",
    "\n",
    "#2: apply the function to the Mean_Estimate column\n",
    "df_malnutrition['Malnutrition_Level'] = df_malnutrition['Mean_Estimate'].apply(malnutrition_level)\n"
   ]
  },
  {
   "cell_type": "code",
   "execution_count": 51,
   "metadata": {},
   "outputs": [
    {
     "data": {
      "text/html": [
       "<div>\n",
       "<style scoped>\n",
       "    .dataframe tbody tr th:only-of-type {\n",
       "        vertical-align: middle;\n",
       "    }\n",
       "\n",
       "    .dataframe tbody tr th {\n",
       "        vertical-align: top;\n",
       "    }\n",
       "\n",
       "    .dataframe thead th {\n",
       "        text-align: right;\n",
       "    }\n",
       "</style>\n",
       "<table border=\"1\" class=\"dataframe\">\n",
       "  <thead>\n",
       "    <tr style=\"text-align: right;\">\n",
       "      <th></th>\n",
       "      <th>Region</th>\n",
       "      <th>Gender</th>\n",
       "      <th>Year</th>\n",
       "      <th>LowerBound</th>\n",
       "      <th>UpperBound</th>\n",
       "      <th>Mean_Estimate</th>\n",
       "      <th>Country</th>\n",
       "      <th>Age_Group</th>\n",
       "      <th>CI_width</th>\n",
       "      <th>Malnutrition_Level</th>\n",
       "    </tr>\n",
       "  </thead>\n",
       "  <tbody>\n",
       "    <tr>\n",
       "      <td>0</td>\n",
       "      <td>Africa</td>\n",
       "      <td>Female</td>\n",
       "      <td>2019</td>\n",
       "      <td>13.68145</td>\n",
       "      <td>21.37381</td>\n",
       "      <td>17.32081</td>\n",
       "      <td>Senegal</td>\n",
       "      <td>Adult</td>\n",
       "      <td>7.69236</td>\n",
       "      <td>Moderate</td>\n",
       "    </tr>\n",
       "    <tr>\n",
       "      <td>1</td>\n",
       "      <td>Western Pacific</td>\n",
       "      <td>Male</td>\n",
       "      <td>2017</td>\n",
       "      <td>0.04792</td>\n",
       "      <td>0.73164</td>\n",
       "      <td>0.26032</td>\n",
       "      <td>American Samoa</td>\n",
       "      <td>Adult</td>\n",
       "      <td>0.68372</td>\n",
       "      <td>Low</td>\n",
       "    </tr>\n",
       "    <tr>\n",
       "      <td>2</td>\n",
       "      <td>Africa</td>\n",
       "      <td>Female</td>\n",
       "      <td>2021</td>\n",
       "      <td>3.97204</td>\n",
       "      <td>8.07702</td>\n",
       "      <td>5.79511</td>\n",
       "      <td>Gabon</td>\n",
       "      <td>Adult</td>\n",
       "      <td>4.10498</td>\n",
       "      <td>Low</td>\n",
       "    </tr>\n",
       "    <tr>\n",
       "      <td>3</td>\n",
       "      <td>Western Pacific</td>\n",
       "      <td>Both</td>\n",
       "      <td>2017</td>\n",
       "      <td>2.42823</td>\n",
       "      <td>3.84215</td>\n",
       "      <td>3.09065</td>\n",
       "      <td>Mongolia</td>\n",
       "      <td>Adult</td>\n",
       "      <td>1.41392</td>\n",
       "      <td>Low</td>\n",
       "    </tr>\n",
       "    <tr>\n",
       "      <td>4</td>\n",
       "      <td>Africa</td>\n",
       "      <td>Female</td>\n",
       "      <td>2016</td>\n",
       "      <td>6.65567</td>\n",
       "      <td>10.25312</td>\n",
       "      <td>8.37172</td>\n",
       "      <td>Sierra Leone</td>\n",
       "      <td>Adult</td>\n",
       "      <td>3.59745</td>\n",
       "      <td>Low</td>\n",
       "    </tr>\n",
       "  </tbody>\n",
       "</table>\n",
       "</div>"
      ],
      "text/plain": [
       "            Region  Gender  Year  LowerBound  UpperBound  Mean_Estimate  \\\n",
       "0           Africa  Female  2019    13.68145    21.37381       17.32081   \n",
       "1  Western Pacific    Male  2017     0.04792     0.73164        0.26032   \n",
       "2           Africa  Female  2021     3.97204     8.07702        5.79511   \n",
       "3  Western Pacific    Both  2017     2.42823     3.84215        3.09065   \n",
       "4           Africa  Female  2016     6.65567    10.25312        8.37172   \n",
       "\n",
       "          Country Age_Group  CI_width Malnutrition_Level  \n",
       "0         Senegal     Adult   7.69236           Moderate  \n",
       "1  American Samoa     Adult   0.68372                Low  \n",
       "2           Gabon     Adult   4.10498                Low  \n",
       "3        Mongolia     Adult   1.41392                Low  \n",
       "4    Sierra Leone     Adult   3.59745                Low  "
      ]
     },
     "execution_count": 51,
     "metadata": {},
     "output_type": "execute_result"
    }
   ],
   "source": [
    "df_malnutrition.head(5)"
   ]
  },
  {
   "cell_type": "code",
   "execution_count": 52,
   "metadata": {},
   "outputs": [
    {
     "data": {
      "text/plain": [
       "Region            object\n",
       "Gender            object\n",
       "Year               int64\n",
       "LowerBound       float64\n",
       "UpperBound       float64\n",
       "Mean_Estimate    float64\n",
       "Country           object\n",
       "Age_Group         object\n",
       "CI_width         float64\n",
       "Obesity_Level     object\n",
       "dtype: object"
      ]
     },
     "execution_count": 52,
     "metadata": {},
     "output_type": "execute_result"
    }
   ],
   "source": [
    "df_obesity.dtypes"
   ]
  },
  {
   "cell_type": "code",
   "execution_count": 53,
   "metadata": {},
   "outputs": [
    {
     "data": {
      "text/plain": [
       "Region                 object\n",
       "Gender                 object\n",
       "Year                    int64\n",
       "LowerBound            float64\n",
       "UpperBound            float64\n",
       "Mean_Estimate         float64\n",
       "Country                object\n",
       "Age_Group              object\n",
       "CI_width              float64\n",
       "Malnutrition_Level     object\n",
       "dtype: object"
      ]
     },
     "execution_count": 53,
     "metadata": {},
     "output_type": "execute_result"
    }
   ],
   "source": [
    "df_malnutrition.dtypes"
   ]
  },
  {
   "cell_type": "markdown",
   "metadata": {},
   "source": [
    "# ----------------------------EXPLORATORY DATA ANALYSIS(EDA)---------------------------"
   ]
  },
  {
   "cell_type": "code",
   "execution_count": 55,
   "metadata": {},
   "outputs": [
    {
     "name": "stdout",
     "output_type": "stream",
     "text": [
      "Requirement already satisfied: plotly in c:\\users\\iswar\\anaconda3\\lib\\site-packages (5.18.0)\n",
      "Requirement already satisfied: packaging in c:\\users\\iswar\\anaconda3\\lib\\site-packages (from plotly) (19.2)\n",
      "Requirement already satisfied: tenacity>=6.2.0 in c:\\users\\iswar\\anaconda3\\lib\\site-packages (from plotly) (8.2.3)\n",
      "Requirement already satisfied: pyparsing>=2.0.2 in c:\\users\\iswar\\anaconda3\\lib\\site-packages (from packaging->plotly) (2.4.2)\n",
      "Requirement already satisfied: six in c:\\users\\iswar\\anaconda3\\lib\\site-packages (from packaging->plotly) (1.12.0)\n",
      "Note: you may need to restart the kernel to use updated packages.\n"
     ]
    }
   ],
   "source": [
    "pip install plotly"
   ]
  },
  {
   "cell_type": "markdown",
   "metadata": {},
   "source": [
    "# 1.CONVERT DATAFRAME INTO CSV"
   ]
  },
  {
   "cell_type": "code",
   "execution_count": 107,
   "metadata": {},
   "outputs": [],
   "source": [
    "df_obesity.to_csv(\"obesity_data.csv\", index=False)\n",
    "df_malnutrition.to_csv(\"malnutrition_data.csv\", index=False)"
   ]
  },
  {
   "cell_type": "code",
   "execution_count": 108,
   "metadata": {},
   "outputs": [
    {
     "name": "stdout",
     "output_type": "stream",
     "text": [
      "(27720, 10)\n",
      "(27720, 10)\n"
     ]
    }
   ],
   "source": [
    "print(df_obesity.shape)\n",
    "print(df_malnutrition.shape)"
   ]
  },
  {
   "cell_type": "markdown",
   "metadata": {},
   "source": [
    "# 2.IMPORT LIBRARIES"
   ]
  },
  {
   "cell_type": "code",
   "execution_count": 109,
   "metadata": {},
   "outputs": [],
   "source": [
    "import pandas as pd\n",
    "import numpy as np\n",
    "import matplotlib.pyplot as plt\n",
    "import seaborn as sns\n",
    "import plotly.express as px"
   ]
  },
  {
   "cell_type": "markdown",
   "metadata": {},
   "source": [
    "# 3.LOAD DATASET"
   ]
  },
  {
   "cell_type": "code",
   "execution_count": 110,
   "metadata": {},
   "outputs": [],
   "source": [
    "obesity = pd.read_csv(\"obesity_data.csv\") \n",
    "malnutrition = pd.read_csv(\"malnutrition_data.csv\")"
   ]
  },
  {
   "cell_type": "code",
   "execution_count": 111,
   "metadata": {},
   "outputs": [
    {
     "data": {
      "text/html": [
       "<div>\n",
       "<style scoped>\n",
       "    .dataframe tbody tr th:only-of-type {\n",
       "        vertical-align: middle;\n",
       "    }\n",
       "\n",
       "    .dataframe tbody tr th {\n",
       "        vertical-align: top;\n",
       "    }\n",
       "\n",
       "    .dataframe thead th {\n",
       "        text-align: right;\n",
       "    }\n",
       "</style>\n",
       "<table border=\"1\" class=\"dataframe\">\n",
       "  <thead>\n",
       "    <tr style=\"text-align: right;\">\n",
       "      <th></th>\n",
       "      <th>Region</th>\n",
       "      <th>Gender</th>\n",
       "      <th>Year</th>\n",
       "      <th>LowerBound</th>\n",
       "      <th>UpperBound</th>\n",
       "      <th>Mean_Estimate</th>\n",
       "      <th>Country</th>\n",
       "      <th>Age_Group</th>\n",
       "      <th>CI_width</th>\n",
       "      <th>Obesity_Level</th>\n",
       "    </tr>\n",
       "  </thead>\n",
       "  <tbody>\n",
       "    <tr>\n",
       "      <td>0</td>\n",
       "      <td>Eastern Mediterranean</td>\n",
       "      <td>Both</td>\n",
       "      <td>2012</td>\n",
       "      <td>7.61715</td>\n",
       "      <td>10.73760</td>\n",
       "      <td>9.08931</td>\n",
       "      <td>Afghanistan</td>\n",
       "      <td>Adult</td>\n",
       "      <td>3.12045</td>\n",
       "      <td>Low</td>\n",
       "    </tr>\n",
       "    <tr>\n",
       "      <td>1</td>\n",
       "      <td>Western Pacific</td>\n",
       "      <td>Male</td>\n",
       "      <td>2015</td>\n",
       "      <td>0.77819</td>\n",
       "      <td>1.25472</td>\n",
       "      <td>0.99617</td>\n",
       "      <td>Viet Nam</td>\n",
       "      <td>Adult</td>\n",
       "      <td>0.47653</td>\n",
       "      <td>Low</td>\n",
       "    </tr>\n",
       "    <tr>\n",
       "      <td>2</td>\n",
       "      <td>Africa</td>\n",
       "      <td>Male</td>\n",
       "      <td>2021</td>\n",
       "      <td>3.95796</td>\n",
       "      <td>8.52200</td>\n",
       "      <td>5.97085</td>\n",
       "      <td>Benin</td>\n",
       "      <td>Adult</td>\n",
       "      <td>4.56404</td>\n",
       "      <td>Low</td>\n",
       "    </tr>\n",
       "    <tr>\n",
       "      <td>3</td>\n",
       "      <td>Eastern Mediterranean</td>\n",
       "      <td>Male</td>\n",
       "      <td>2014</td>\n",
       "      <td>4.63586</td>\n",
       "      <td>7.55673</td>\n",
       "      <td>5.99229</td>\n",
       "      <td>Sudan</td>\n",
       "      <td>Adult</td>\n",
       "      <td>2.92087</td>\n",
       "      <td>Low</td>\n",
       "    </tr>\n",
       "    <tr>\n",
       "      <td>4</td>\n",
       "      <td>Eastern Mediterranean</td>\n",
       "      <td>Male</td>\n",
       "      <td>2020</td>\n",
       "      <td>15.79378</td>\n",
       "      <td>19.24573</td>\n",
       "      <td>17.48764</td>\n",
       "      <td>Iran, Islamic Republic of</td>\n",
       "      <td>Adult</td>\n",
       "      <td>3.45195</td>\n",
       "      <td>Low</td>\n",
       "    </tr>\n",
       "    <tr>\n",
       "      <td>...</td>\n",
       "      <td>...</td>\n",
       "      <td>...</td>\n",
       "      <td>...</td>\n",
       "      <td>...</td>\n",
       "      <td>...</td>\n",
       "      <td>...</td>\n",
       "      <td>...</td>\n",
       "      <td>...</td>\n",
       "      <td>...</td>\n",
       "      <td>...</td>\n",
       "    </tr>\n",
       "    <tr>\n",
       "      <td>27715</td>\n",
       "      <td>Europe</td>\n",
       "      <td>Both</td>\n",
       "      <td>2020</td>\n",
       "      <td>0.96418</td>\n",
       "      <td>2.19743</td>\n",
       "      <td>1.47593</td>\n",
       "      <td>Tajikistan</td>\n",
       "      <td>Children</td>\n",
       "      <td>1.23325</td>\n",
       "      <td>Low</td>\n",
       "    </tr>\n",
       "    <tr>\n",
       "      <td>27716</td>\n",
       "      <td>Eastern Mediterranean</td>\n",
       "      <td>Female</td>\n",
       "      <td>2012</td>\n",
       "      <td>0.30204</td>\n",
       "      <td>5.87241</td>\n",
       "      <td>1.96619</td>\n",
       "      <td>Somalia</td>\n",
       "      <td>Children</td>\n",
       "      <td>5.57037</td>\n",
       "      <td>Low</td>\n",
       "    </tr>\n",
       "    <tr>\n",
       "      <td>27717</td>\n",
       "      <td>Western Pacific</td>\n",
       "      <td>Male</td>\n",
       "      <td>2021</td>\n",
       "      <td>3.32590</td>\n",
       "      <td>34.87782</td>\n",
       "      <td>16.63489</td>\n",
       "      <td>Vanuatu</td>\n",
       "      <td>Children</td>\n",
       "      <td>31.55192</td>\n",
       "      <td>Low</td>\n",
       "    </tr>\n",
       "    <tr>\n",
       "      <td>27718</td>\n",
       "      <td>Africa</td>\n",
       "      <td>Male</td>\n",
       "      <td>2014</td>\n",
       "      <td>0.23648</td>\n",
       "      <td>6.34118</td>\n",
       "      <td>2.03219</td>\n",
       "      <td>Madagascar</td>\n",
       "      <td>Children</td>\n",
       "      <td>6.10470</td>\n",
       "      <td>Low</td>\n",
       "    </tr>\n",
       "    <tr>\n",
       "      <td>27719</td>\n",
       "      <td>Europe</td>\n",
       "      <td>Male</td>\n",
       "      <td>2017</td>\n",
       "      <td>10.08785</td>\n",
       "      <td>12.76015</td>\n",
       "      <td>11.39063</td>\n",
       "      <td>Finland</td>\n",
       "      <td>Children</td>\n",
       "      <td>2.67230</td>\n",
       "      <td>Low</td>\n",
       "    </tr>\n",
       "  </tbody>\n",
       "</table>\n",
       "<p>27720 rows × 10 columns</p>\n",
       "</div>"
      ],
      "text/plain": [
       "                      Region  Gender  Year  LowerBound  UpperBound  \\\n",
       "0      Eastern Mediterranean    Both  2012     7.61715    10.73760   \n",
       "1            Western Pacific    Male  2015     0.77819     1.25472   \n",
       "2                     Africa    Male  2021     3.95796     8.52200   \n",
       "3      Eastern Mediterranean    Male  2014     4.63586     7.55673   \n",
       "4      Eastern Mediterranean    Male  2020    15.79378    19.24573   \n",
       "...                      ...     ...   ...         ...         ...   \n",
       "27715                 Europe    Both  2020     0.96418     2.19743   \n",
       "27716  Eastern Mediterranean  Female  2012     0.30204     5.87241   \n",
       "27717        Western Pacific    Male  2021     3.32590    34.87782   \n",
       "27718                 Africa    Male  2014     0.23648     6.34118   \n",
       "27719                 Europe    Male  2017    10.08785    12.76015   \n",
       "\n",
       "       Mean_Estimate                    Country Age_Group  CI_width  \\\n",
       "0            9.08931                Afghanistan     Adult   3.12045   \n",
       "1            0.99617                   Viet Nam     Adult   0.47653   \n",
       "2            5.97085                      Benin     Adult   4.56404   \n",
       "3            5.99229                      Sudan     Adult   2.92087   \n",
       "4           17.48764  Iran, Islamic Republic of     Adult   3.45195   \n",
       "...              ...                        ...       ...       ...   \n",
       "27715        1.47593                 Tajikistan  Children   1.23325   \n",
       "27716        1.96619                    Somalia  Children   5.57037   \n",
       "27717       16.63489                    Vanuatu  Children  31.55192   \n",
       "27718        2.03219                 Madagascar  Children   6.10470   \n",
       "27719       11.39063                    Finland  Children   2.67230   \n",
       "\n",
       "      Obesity_Level  \n",
       "0               Low  \n",
       "1               Low  \n",
       "2               Low  \n",
       "3               Low  \n",
       "4               Low  \n",
       "...             ...  \n",
       "27715           Low  \n",
       "27716           Low  \n",
       "27717           Low  \n",
       "27718           Low  \n",
       "27719           Low  \n",
       "\n",
       "[27720 rows x 10 columns]"
      ]
     },
     "execution_count": 111,
     "metadata": {},
     "output_type": "execute_result"
    }
   ],
   "source": [
    "obesity"
   ]
  },
  {
   "cell_type": "code",
   "execution_count": 112,
   "metadata": {},
   "outputs": [
    {
     "data": {
      "text/html": [
       "<div>\n",
       "<style scoped>\n",
       "    .dataframe tbody tr th:only-of-type {\n",
       "        vertical-align: middle;\n",
       "    }\n",
       "\n",
       "    .dataframe tbody tr th {\n",
       "        vertical-align: top;\n",
       "    }\n",
       "\n",
       "    .dataframe thead th {\n",
       "        text-align: right;\n",
       "    }\n",
       "</style>\n",
       "<table border=\"1\" class=\"dataframe\">\n",
       "  <thead>\n",
       "    <tr style=\"text-align: right;\">\n",
       "      <th></th>\n",
       "      <th>Region</th>\n",
       "      <th>Gender</th>\n",
       "      <th>Year</th>\n",
       "      <th>LowerBound</th>\n",
       "      <th>UpperBound</th>\n",
       "      <th>Mean_Estimate</th>\n",
       "      <th>Country</th>\n",
       "      <th>Age_Group</th>\n",
       "      <th>CI_width</th>\n",
       "      <th>Malnutrition_Level</th>\n",
       "    </tr>\n",
       "  </thead>\n",
       "  <tbody>\n",
       "    <tr>\n",
       "      <td>0</td>\n",
       "      <td>Africa</td>\n",
       "      <td>Female</td>\n",
       "      <td>2019</td>\n",
       "      <td>13.68145</td>\n",
       "      <td>21.37381</td>\n",
       "      <td>17.32081</td>\n",
       "      <td>Senegal</td>\n",
       "      <td>Adult</td>\n",
       "      <td>7.69236</td>\n",
       "      <td>Moderate</td>\n",
       "    </tr>\n",
       "    <tr>\n",
       "      <td>1</td>\n",
       "      <td>Western Pacific</td>\n",
       "      <td>Male</td>\n",
       "      <td>2017</td>\n",
       "      <td>0.04792</td>\n",
       "      <td>0.73164</td>\n",
       "      <td>0.26032</td>\n",
       "      <td>American Samoa</td>\n",
       "      <td>Adult</td>\n",
       "      <td>0.68372</td>\n",
       "      <td>Low</td>\n",
       "    </tr>\n",
       "    <tr>\n",
       "      <td>2</td>\n",
       "      <td>Africa</td>\n",
       "      <td>Female</td>\n",
       "      <td>2021</td>\n",
       "      <td>3.97204</td>\n",
       "      <td>8.07702</td>\n",
       "      <td>5.79511</td>\n",
       "      <td>Gabon</td>\n",
       "      <td>Adult</td>\n",
       "      <td>4.10498</td>\n",
       "      <td>Low</td>\n",
       "    </tr>\n",
       "    <tr>\n",
       "      <td>3</td>\n",
       "      <td>Western Pacific</td>\n",
       "      <td>Both</td>\n",
       "      <td>2017</td>\n",
       "      <td>2.42823</td>\n",
       "      <td>3.84215</td>\n",
       "      <td>3.09065</td>\n",
       "      <td>Mongolia</td>\n",
       "      <td>Adult</td>\n",
       "      <td>1.41392</td>\n",
       "      <td>Low</td>\n",
       "    </tr>\n",
       "    <tr>\n",
       "      <td>4</td>\n",
       "      <td>Africa</td>\n",
       "      <td>Female</td>\n",
       "      <td>2016</td>\n",
       "      <td>6.65567</td>\n",
       "      <td>10.25312</td>\n",
       "      <td>8.37172</td>\n",
       "      <td>Sierra Leone</td>\n",
       "      <td>Adult</td>\n",
       "      <td>3.59745</td>\n",
       "      <td>Low</td>\n",
       "    </tr>\n",
       "    <tr>\n",
       "      <td>...</td>\n",
       "      <td>...</td>\n",
       "      <td>...</td>\n",
       "      <td>...</td>\n",
       "      <td>...</td>\n",
       "      <td>...</td>\n",
       "      <td>...</td>\n",
       "      <td>...</td>\n",
       "      <td>...</td>\n",
       "      <td>...</td>\n",
       "      <td>...</td>\n",
       "    </tr>\n",
       "    <tr>\n",
       "      <td>27715</td>\n",
       "      <td>Americas</td>\n",
       "      <td>Female</td>\n",
       "      <td>2013</td>\n",
       "      <td>2.79550</td>\n",
       "      <td>5.71434</td>\n",
       "      <td>4.14069</td>\n",
       "      <td>Haiti</td>\n",
       "      <td>Children</td>\n",
       "      <td>2.91884</td>\n",
       "      <td>Low</td>\n",
       "    </tr>\n",
       "    <tr>\n",
       "      <td>27716</td>\n",
       "      <td>Europe</td>\n",
       "      <td>Both</td>\n",
       "      <td>2018</td>\n",
       "      <td>5.42817</td>\n",
       "      <td>10.21840</td>\n",
       "      <td>7.57499</td>\n",
       "      <td>Tajikistan</td>\n",
       "      <td>Children</td>\n",
       "      <td>4.79023</td>\n",
       "      <td>Low</td>\n",
       "    </tr>\n",
       "    <tr>\n",
       "      <td>27717</td>\n",
       "      <td>Western Pacific</td>\n",
       "      <td>Both</td>\n",
       "      <td>2016</td>\n",
       "      <td>0.62172</td>\n",
       "      <td>3.50706</td>\n",
       "      <td>1.70365</td>\n",
       "      <td>Papua New Guinea</td>\n",
       "      <td>Children</td>\n",
       "      <td>2.88534</td>\n",
       "      <td>Low</td>\n",
       "    </tr>\n",
       "    <tr>\n",
       "      <td>27718</td>\n",
       "      <td>Western Pacific</td>\n",
       "      <td>Female</td>\n",
       "      <td>2020</td>\n",
       "      <td>0.06415</td>\n",
       "      <td>2.81018</td>\n",
       "      <td>0.73407</td>\n",
       "      <td>Samoa</td>\n",
       "      <td>Children</td>\n",
       "      <td>2.74603</td>\n",
       "      <td>Low</td>\n",
       "    </tr>\n",
       "    <tr>\n",
       "      <td>27719</td>\n",
       "      <td>Europe</td>\n",
       "      <td>Male</td>\n",
       "      <td>2018</td>\n",
       "      <td>0.46517</td>\n",
       "      <td>7.30748</td>\n",
       "      <td>2.54279</td>\n",
       "      <td>Iceland</td>\n",
       "      <td>Children</td>\n",
       "      <td>6.84231</td>\n",
       "      <td>Low</td>\n",
       "    </tr>\n",
       "  </tbody>\n",
       "</table>\n",
       "<p>27720 rows × 10 columns</p>\n",
       "</div>"
      ],
      "text/plain": [
       "                Region  Gender  Year  LowerBound  UpperBound  Mean_Estimate  \\\n",
       "0               Africa  Female  2019    13.68145    21.37381       17.32081   \n",
       "1      Western Pacific    Male  2017     0.04792     0.73164        0.26032   \n",
       "2               Africa  Female  2021     3.97204     8.07702        5.79511   \n",
       "3      Western Pacific    Both  2017     2.42823     3.84215        3.09065   \n",
       "4               Africa  Female  2016     6.65567    10.25312        8.37172   \n",
       "...                ...     ...   ...         ...         ...            ...   \n",
       "27715         Americas  Female  2013     2.79550     5.71434        4.14069   \n",
       "27716           Europe    Both  2018     5.42817    10.21840        7.57499   \n",
       "27717  Western Pacific    Both  2016     0.62172     3.50706        1.70365   \n",
       "27718  Western Pacific  Female  2020     0.06415     2.81018        0.73407   \n",
       "27719           Europe    Male  2018     0.46517     7.30748        2.54279   \n",
       "\n",
       "                Country Age_Group  CI_width Malnutrition_Level  \n",
       "0               Senegal     Adult   7.69236           Moderate  \n",
       "1        American Samoa     Adult   0.68372                Low  \n",
       "2                 Gabon     Adult   4.10498                Low  \n",
       "3              Mongolia     Adult   1.41392                Low  \n",
       "4          Sierra Leone     Adult   3.59745                Low  \n",
       "...                 ...       ...       ...                ...  \n",
       "27715             Haiti  Children   2.91884                Low  \n",
       "27716        Tajikistan  Children   4.79023                Low  \n",
       "27717  Papua New Guinea  Children   2.88534                Low  \n",
       "27718             Samoa  Children   2.74603                Low  \n",
       "27719           Iceland  Children   6.84231                Low  \n",
       "\n",
       "[27720 rows x 10 columns]"
      ]
     },
     "execution_count": 112,
     "metadata": {},
     "output_type": "execute_result"
    }
   ],
   "source": [
    "malnutrition"
   ]
  },
  {
   "cell_type": "markdown",
   "metadata": {},
   "source": [
    "# 3. SHAPE AND STRUCTURE OF THE DATAFRAMES"
   ]
  },
  {
   "cell_type": "markdown",
   "metadata": {},
   "source": [
    "**DATAFRAME SHAPE**"
   ]
  },
  {
   "cell_type": "code",
   "execution_count": 113,
   "metadata": {},
   "outputs": [
    {
     "data": {
      "text/plain": [
       "(27720, 10)"
      ]
     },
     "execution_count": 113,
     "metadata": {},
     "output_type": "execute_result"
    }
   ],
   "source": [
    "obesity.shape"
   ]
  },
  {
   "cell_type": "code",
   "execution_count": 114,
   "metadata": {},
   "outputs": [
    {
     "data": {
      "text/plain": [
       "(27720, 10)"
      ]
     },
     "execution_count": 114,
     "metadata": {},
     "output_type": "execute_result"
    }
   ],
   "source": [
    "malnutrition.shape"
   ]
  },
  {
   "cell_type": "markdown",
   "metadata": {},
   "source": [
    "**DATAFRAME INFORMATION**"
   ]
  },
  {
   "cell_type": "code",
   "execution_count": 115,
   "metadata": {},
   "outputs": [
    {
     "data": {
      "text/plain": [
       "<bound method DataFrame.info of                       Region  Gender  Year  LowerBound  UpperBound  \\\n",
       "0      Eastern Mediterranean    Both  2012     7.61715    10.73760   \n",
       "1            Western Pacific    Male  2015     0.77819     1.25472   \n",
       "2                     Africa    Male  2021     3.95796     8.52200   \n",
       "3      Eastern Mediterranean    Male  2014     4.63586     7.55673   \n",
       "4      Eastern Mediterranean    Male  2020    15.79378    19.24573   \n",
       "...                      ...     ...   ...         ...         ...   \n",
       "27715                 Europe    Both  2020     0.96418     2.19743   \n",
       "27716  Eastern Mediterranean  Female  2012     0.30204     5.87241   \n",
       "27717        Western Pacific    Male  2021     3.32590    34.87782   \n",
       "27718                 Africa    Male  2014     0.23648     6.34118   \n",
       "27719                 Europe    Male  2017    10.08785    12.76015   \n",
       "\n",
       "       Mean_Estimate                    Country Age_Group  CI_width  \\\n",
       "0            9.08931                Afghanistan     Adult   3.12045   \n",
       "1            0.99617                   Viet Nam     Adult   0.47653   \n",
       "2            5.97085                      Benin     Adult   4.56404   \n",
       "3            5.99229                      Sudan     Adult   2.92087   \n",
       "4           17.48764  Iran, Islamic Republic of     Adult   3.45195   \n",
       "...              ...                        ...       ...       ...   \n",
       "27715        1.47593                 Tajikistan  Children   1.23325   \n",
       "27716        1.96619                    Somalia  Children   5.57037   \n",
       "27717       16.63489                    Vanuatu  Children  31.55192   \n",
       "27718        2.03219                 Madagascar  Children   6.10470   \n",
       "27719       11.39063                    Finland  Children   2.67230   \n",
       "\n",
       "      Obesity_Level  \n",
       "0               Low  \n",
       "1               Low  \n",
       "2               Low  \n",
       "3               Low  \n",
       "4               Low  \n",
       "...             ...  \n",
       "27715           Low  \n",
       "27716           Low  \n",
       "27717           Low  \n",
       "27718           Low  \n",
       "27719           Low  \n",
       "\n",
       "[27720 rows x 10 columns]>"
      ]
     },
     "execution_count": 115,
     "metadata": {},
     "output_type": "execute_result"
    }
   ],
   "source": [
    "obesity.info"
   ]
  },
  {
   "cell_type": "code",
   "execution_count": 116,
   "metadata": {
    "scrolled": true
   },
   "outputs": [
    {
     "data": {
      "text/plain": [
       "<bound method DataFrame.info of                 Region  Gender  Year  LowerBound  UpperBound  Mean_Estimate  \\\n",
       "0               Africa  Female  2019    13.68145    21.37381       17.32081   \n",
       "1      Western Pacific    Male  2017     0.04792     0.73164        0.26032   \n",
       "2               Africa  Female  2021     3.97204     8.07702        5.79511   \n",
       "3      Western Pacific    Both  2017     2.42823     3.84215        3.09065   \n",
       "4               Africa  Female  2016     6.65567    10.25312        8.37172   \n",
       "...                ...     ...   ...         ...         ...            ...   \n",
       "27715         Americas  Female  2013     2.79550     5.71434        4.14069   \n",
       "27716           Europe    Both  2018     5.42817    10.21840        7.57499   \n",
       "27717  Western Pacific    Both  2016     0.62172     3.50706        1.70365   \n",
       "27718  Western Pacific  Female  2020     0.06415     2.81018        0.73407   \n",
       "27719           Europe    Male  2018     0.46517     7.30748        2.54279   \n",
       "\n",
       "                Country Age_Group  CI_width Malnutrition_Level  \n",
       "0               Senegal     Adult   7.69236           Moderate  \n",
       "1        American Samoa     Adult   0.68372                Low  \n",
       "2                 Gabon     Adult   4.10498                Low  \n",
       "3              Mongolia     Adult   1.41392                Low  \n",
       "4          Sierra Leone     Adult   3.59745                Low  \n",
       "...                 ...       ...       ...                ...  \n",
       "27715             Haiti  Children   2.91884                Low  \n",
       "27716        Tajikistan  Children   4.79023                Low  \n",
       "27717  Papua New Guinea  Children   2.88534                Low  \n",
       "27718             Samoa  Children   2.74603                Low  \n",
       "27719           Iceland  Children   6.84231                Low  \n",
       "\n",
       "[27720 rows x 10 columns]>"
      ]
     },
     "execution_count": 116,
     "metadata": {},
     "output_type": "execute_result"
    }
   ],
   "source": [
    "malnutrition.info"
   ]
  },
  {
   "cell_type": "markdown",
   "metadata": {},
   "source": [
    "**NUMERIC COLUMN STATIC MEASURES**"
   ]
  },
  {
   "cell_type": "code",
   "execution_count": 117,
   "metadata": {},
   "outputs": [
    {
     "data": {
      "text/plain": [
       "pandas.core.frame.DataFrame"
      ]
     },
     "execution_count": 117,
     "metadata": {},
     "output_type": "execute_result"
    }
   ],
   "source": [
    "type(obesity)"
   ]
  },
  {
   "cell_type": "markdown",
   "metadata": {},
   "source": [
    "# 4.CHECKING MISSING VALUES OR UNUSUAL VALUES"
   ]
  },
  {
   "cell_type": "code",
   "execution_count": 118,
   "metadata": {},
   "outputs": [
    {
     "data": {
      "text/plain": [
       "Region           1452\n",
       "Gender              0\n",
       "Year                0\n",
       "LowerBound          0\n",
       "UpperBound          0\n",
       "Mean_Estimate       0\n",
       "Country             0\n",
       "Age_Group           0\n",
       "CI_width            0\n",
       "Obesity_Level       0\n",
       "dtype: int64"
      ]
     },
     "execution_count": 118,
     "metadata": {},
     "output_type": "execute_result"
    }
   ],
   "source": [
    "obesity.isnull().sum()"
   ]
  },
  {
   "cell_type": "code",
   "execution_count": 119,
   "metadata": {},
   "outputs": [
    {
     "data": {
      "text/plain": [
       "Region                1452\n",
       "Gender                   0\n",
       "Year                     0\n",
       "LowerBound               0\n",
       "UpperBound               0\n",
       "Mean_Estimate            0\n",
       "Country                  0\n",
       "Age_Group                0\n",
       "CI_width                 0\n",
       "Malnutrition_Level       0\n",
       "dtype: int64"
      ]
     },
     "execution_count": 119,
     "metadata": {},
     "output_type": "execute_result"
    }
   ],
   "source": [
    "malnutrition.isnull().sum()"
   ]
  },
  {
   "cell_type": "markdown",
   "metadata": {},
   "source": [
    "### NOTE:\n",
    "            --> Only 'REGION' column has missing values.\n",
    "            --> To solve this issue, either we can fill these missing values or drop column or row.\n",
    "            --> since it is crucial column, we can't drop the column. \n",
    "            --> Inorder to fill, there are numerous method to fill these missing values.\n",
    "            --> Here we have one of methods 'FORWARD FILL' to fill missing values.\n",
    "               "
   ]
  },
  {
   "cell_type": "markdown",
   "metadata": {},
   "source": [
    "**FILL MISSING VALUES WITH FORWARD FILL(ffill)**"
   ]
  },
  {
   "cell_type": "code",
   "execution_count": 120,
   "metadata": {},
   "outputs": [],
   "source": [
    "obesity['Region']=obesity['Region'].fillna(method='ffill')\n",
    "\n",
    "malnutrition['Region']=malnutrition['Region'].fillna(method='ffill')"
   ]
  },
  {
   "cell_type": "markdown",
   "metadata": {},
   "source": [
    "**AFTER FILLING**"
   ]
  },
  {
   "cell_type": "code",
   "execution_count": 121,
   "metadata": {},
   "outputs": [
    {
     "name": "stdout",
     "output_type": "stream",
     "text": [
      "obesity info:\n",
      " Region           0\n",
      "Gender           0\n",
      "Year             0\n",
      "LowerBound       0\n",
      "UpperBound       0\n",
      "Mean_Estimate    0\n",
      "Country          0\n",
      "Age_Group        0\n",
      "CI_width         0\n",
      "Obesity_Level    0\n",
      "dtype: int64\n",
      "\n",
      "\n",
      "malnutrition info:\n",
      " Region                0\n",
      "Gender                0\n",
      "Year                  0\n",
      "LowerBound            0\n",
      "UpperBound            0\n",
      "Mean_Estimate         0\n",
      "Country               0\n",
      "Age_Group             0\n",
      "CI_width              0\n",
      "Malnutrition_Level    0\n",
      "dtype: int64\n"
     ]
    }
   ],
   "source": [
    "print('obesity info:\\n', obesity.isnull().sum())\n",
    "print('\\n')\n",
    "print('malnutrition info:\\n', malnutrition.isnull().sum())"
   ]
  },
  {
   "cell_type": "markdown",
   "metadata": {},
   "source": [
    "# VISUALIZATION"
   ]
  },
  {
   "cell_type": "markdown",
   "metadata": {},
   "source": [
    "## DISTRIBUTION OF MEAN ESTIMATE"
   ]
  },
  {
   "cell_type": "code",
   "execution_count": 87,
   "metadata": {},
   "outputs": [
    {
     "name": "stdout",
     "output_type": "stream",
     "text": [
      "Requirement already up-to-date: seaborn in c:\\users\\iswar\\appdata\\roaming\\python\\python37\\site-packages (0.12.2)\n",
      "Requirement already satisfied, skipping upgrade: pandas>=0.25 in c:\\users\\iswar\\anaconda3\\lib\\site-packages (from seaborn) (0.25.1)\n",
      "Requirement already satisfied, skipping upgrade: numpy!=1.24.0,>=1.17 in c:\\users\\iswar\\anaconda3\\lib\\site-packages (from seaborn) (1.21.6)\n",
      "Requirement already satisfied, skipping upgrade: matplotlib!=3.6.1,>=3.1 in c:\\users\\iswar\\anaconda3\\lib\\site-packages (from seaborn) (3.1.1)\n",
      "Requirement already satisfied, skipping upgrade: typing_extensions; python_version < \"3.8\" in c:\\users\\iswar\\appdata\\roaming\\python\\python37\\site-packages (from seaborn) (4.7.1)\n",
      "Requirement already satisfied, skipping upgrade: python-dateutil>=2.6.1 in c:\\users\\iswar\\anaconda3\\lib\\site-packages (from pandas>=0.25->seaborn) (2.8.0)\n",
      "Requirement already satisfied, skipping upgrade: pytz>=2017.2 in c:\\users\\iswar\\anaconda3\\lib\\site-packages (from pandas>=0.25->seaborn) (2019.3)\n",
      "Requirement already satisfied, skipping upgrade: cycler>=0.10 in c:\\users\\iswar\\anaconda3\\lib\\site-packages (from matplotlib!=3.6.1,>=3.1->seaborn) (0.10.0)\n",
      "Requirement already satisfied, skipping upgrade: kiwisolver>=1.0.1 in c:\\users\\iswar\\anaconda3\\lib\\site-packages (from matplotlib!=3.6.1,>=3.1->seaborn) (1.1.0)\n",
      "Requirement already satisfied, skipping upgrade: pyparsing!=2.0.4,!=2.1.2,!=2.1.6,>=2.0.1 in c:\\users\\iswar\\anaconda3\\lib\\site-packages (from matplotlib!=3.6.1,>=3.1->seaborn) (2.4.2)\n",
      "Requirement already satisfied, skipping upgrade: six>=1.5 in c:\\users\\iswar\\anaconda3\\lib\\site-packages (from python-dateutil>=2.6.1->pandas>=0.25->seaborn) (1.12.0)\n",
      "Requirement already satisfied, skipping upgrade: setuptools in c:\\users\\iswar\\anaconda3\\lib\\site-packages (from kiwisolver>=1.0.1->matplotlib!=3.6.1,>=3.1->seaborn) (41.4.0)\n",
      "Note: you may need to restart the kernel to use updated packages.\n"
     ]
    }
   ],
   "source": [
    "pip install --upgrade seaborn"
   ]
  },
  {
   "cell_type": "markdown",
   "metadata": {},
   "source": [
    "### DISTRIBUTION OF OBESITY MEAN_ESTIMATE"
   ]
  },
  {
   "cell_type": "code",
   "execution_count": 69,
   "metadata": {},
   "outputs": [
    {
     "name": "stdout",
     "output_type": "stream",
     "text": [
      "['bmh', 'classic', 'dark_background', 'fast', 'fivethirtyeight', 'ggplot', 'grayscale', 'seaborn-bright', 'seaborn-colorblind', 'seaborn-dark-palette', 'seaborn-dark', 'seaborn-darkgrid', 'seaborn-deep', 'seaborn-muted', 'seaborn-notebook', 'seaborn-paper', 'seaborn-pastel', 'seaborn-poster', 'seaborn-talk', 'seaborn-ticks', 'seaborn-white', 'seaborn-whitegrid', 'seaborn', 'Solarize_Light2', 'tableau-colorblind10', '_classic_test']\n"
     ]
    }
   ],
   "source": [
    "print(plt.style.available)"
   ]
  },
  {
   "cell_type": "code",
   "execution_count": 70,
   "metadata": {},
   "outputs": [
    {
     "data": {
      "text/plain": [
       "array(['Eastern Mediterranean', 'Western Pacific', 'Africa', 'Europe',\n",
       "       'Americas', 'South-East Asia'], dtype=object)"
      ]
     },
     "execution_count": 70,
     "metadata": {},
     "output_type": "execute_result"
    }
   ],
   "source": [
    "obesity['Region'].unique()"
   ]
  },
  {
   "cell_type": "code",
   "execution_count": 73,
   "metadata": {},
   "outputs": [
    {
     "data": {
      "image/png": "[encoded data removed]",
      "text/plain": [
       "<Figure size 1152x360 with 1 Axes>"
      ]
     },
     "metadata": {
      "needs_background": "light"
     },
     "output_type": "display_data"
    }
   ],
   "source": [
    "plt.figure(figsize=(16,5))\n",
    "sns.histplot(obesity['Mean_Estimate'], bins=30, kde=True,color='green',alpha=0.5)\n",
    "plt.title(\"Distribution of Obesity Mean_Estimate\")\n",
    "plt.xlabel(\"Mean_Estimate\")\n",
    "plt.ylabel(\"Frequency\")\n",
    "plt.style.use('seaborn-dark-palette')\n",
    "plt.show()"
   ]
  },
  {
   "cell_type": "markdown",
   "metadata": {},
   "source": [
    "### DISTRIBUTION OF MALNUTRITION MEAN_ESTIMATE"
   ]
  },
  {
   "cell_type": "code",
   "execution_count": 74,
   "metadata": {},
   "outputs": [
    {
     "data": {
      "image/png": "[encoded data removed]",
      "text/plain": [
       "<Figure size 1152x360 with 1 Axes>"
      ]
     },
     "metadata": {
      "needs_background": "light"
     },
     "output_type": "display_data"
    }
   ],
   "source": [
    "plt.figure(figsize=(16,5))\n",
    "sns.histplot(malnutrition['Mean_Estimate'], bins=30, kde=True,color='orange',alpha=0.5)\n",
    "plt.title(\"Distribution of Malnutrition Mean_Estimate\")\n",
    "plt.xlabel(\"Mean_Estimate\")\n",
    "plt.ylabel(\"Frequency\")\n",
    "plt.style.use('seaborn-dark-palette')\n",
    "plt.show()"
   ]
  },
  {
   "cell_type": "markdown",
   "metadata": {},
   "source": [
    "### DISTRIBUTION OF OBESITY CI_WIDTH"
   ]
  },
  {
   "cell_type": "code",
   "execution_count": 75,
   "metadata": {},
   "outputs": [
    {
     "data": {
      "image/png": "[encoded data removed]",
      "text/plain": [
       "<Figure size 1152x360 with 1 Axes>"
      ]
     },
     "metadata": {
      "needs_background": "light"
     },
     "output_type": "display_data"
    }
   ],
   "source": [
    "plt.figure(figsize=(16,5))\n",
    "sns.histplot(obesity['CI_width'], bins=30, kde=True,color='brown',alpha=0.5)\n",
    "plt.title(\"Distribution of Obesity CI_width\")\n",
    "plt.xlabel(\"Confidence Interval Width\")\n",
    "plt.ylabel(\"Frequency\")\n",
    "plt.style.use('seaborn-dark-palette')\n",
    "plt.show()"
   ]
  },
  {
   "cell_type": "markdown",
   "metadata": {},
   "source": [
    "### DISTRIBUTION OF MALNUTRITION MEAN_ESTIMATE"
   ]
  },
  {
   "cell_type": "code",
   "execution_count": 76,
   "metadata": {},
   "outputs": [
    {
     "data": {
      "image/png": "[encoded data removed]",
      "text/plain": [
       "<Figure size 1152x360 with 1 Axes>"
      ]
     },
     "metadata": {
      "needs_background": "light"
     },
     "output_type": "display_data"
    }
   ],
   "source": [
    "plt.figure(figsize=(16,5))\n",
    "sns.histplot(malnutrition['CI_width'], bins=30, kde=True,color='black',alpha=0.5)\n",
    "plt.title(\"Distribution of Malnutrition CI_width\")\n",
    "plt.xlabel(\"Confidence Interval Width\")\n",
    "plt.ylabel(\"Frequency\")\n",
    "plt.style.use('seaborn-dark-palette')\n",
    "plt.show()"
   ]
  },
  {
   "cell_type": "markdown",
   "metadata": {},
   "source": [
    "### AVEREAGE TREND ACROSS YEARS"
   ]
  },
  {
   "cell_type": "code",
   "execution_count": 77,
   "metadata": {},
   "outputs": [
    {
     "data": {
      "image/png": "[encoded data removed]",
      "text/plain": [
       "<Figure size 1008x360 with 2 Axes>"
      ]
     },
     "metadata": {
      "needs_background": "light"
     },
     "output_type": "display_data"
    }
   ],
   "source": [
    "plt.figure(figsize=(14, 5))\n",
    "\n",
    "plt.subplot(1,2,1)\n",
    "obesity = obesity.groupby('Year')['Mean_Estimate'].mean().reset_index()\n",
    "sns.lineplot(data=obesity, x='Year', y='Mean_Estimate', marker = 'o', color = 'orange')\n",
    "plt.title('Average obesity Trends Over Years')\n",
    "plt.grid(True)\n",
    "\n",
    "plt.subplot(1,2,2)\n",
    "malnutrition = malnutrition.groupby('Year')['Mean_Estimate'].mean().reset_index()\n",
    "sns.lineplot(data=malnutrition, x='Year', y='Mean_Estimate', marker = 'o', color = 'green')\n",
    "plt.title('Average malnutrition Tends Over Years')\n",
    "plt.grid(True)\n",
    "\n",
    "\n",
    "\n",
    "plt.tight_layout()\n",
    "plt.show()"
   ]
  },
  {
   "cell_type": "markdown",
   "metadata": {},
   "source": [
    "### OBESITY VS MALNUTRITION DISTRIBUTION"
   ]
  },
  {
   "cell_type": "code",
   "execution_count": 79,
   "metadata": {},
   "outputs": [
    {
     "name": "stderr",
     "output_type": "stream",
     "text": [
      "C:\\Users\\iswar\\Anaconda3\\lib\\site-packages\\ipykernel_launcher.py:2: FutureWarning: \n",
      "\n",
      "`shade` is now deprecated in favor of `fill`; setting `fill=True`.\n",
      "This will become an error in seaborn v0.14.0; please update your code.\n",
      "\n",
      "  \n",
      "C:\\Users\\iswar\\Anaconda3\\lib\\site-packages\\ipykernel_launcher.py:3: FutureWarning: \n",
      "\n",
      "`shade` is now deprecated in favor of `fill`; setting `fill=True`.\n",
      "This will become an error in seaborn v0.14.0; please update your code.\n",
      "\n",
      "  This is separate from the ipykernel package so we can avoid doing imports until\n"
     ]
    },
    {
     "data": {
      "image/png": "[encoded data removed]",
      "text/plain": [
       "<Figure size 1152x576 with 1 Axes>"
      ]
     },
     "metadata": {
      "needs_background": "light"
     },
     "output_type": "display_data"
    }
   ],
   "source": [
    "plt.figure(figsize=(16,8))\n",
    "sns.kdeplot(obesity[\"Mean_Estimate\"], label='Obesity', shade=True)\n",
    "sns.kdeplot(malnutrition[\"Mean_Estimate\"], label='Malnutrition', shade=True)\n",
    "plt.title(\"Obesity vs Malnutrition Distribution\")\n",
    "plt.legend()\n",
    "plt.show()"
   ]
  },
  {
   "cell_type": "code",
   "execution_count": 92,
   "metadata": {},
   "outputs": [
    {
     "data": {
      "text/html": [
       "<div>\n",
       "<style scoped>\n",
       "    .dataframe tbody tr th:only-of-type {\n",
       "        vertical-align: middle;\n",
       "    }\n",
       "\n",
       "    .dataframe tbody tr th {\n",
       "        vertical-align: top;\n",
       "    }\n",
       "\n",
       "    .dataframe thead th {\n",
       "        text-align: right;\n",
       "    }\n",
       "</style>\n",
       "<table border=\"1\" class=\"dataframe\">\n",
       "  <thead>\n",
       "    <tr style=\"text-align: right;\">\n",
       "      <th></th>\n",
       "      <th>Region</th>\n",
       "      <th>Gender</th>\n",
       "      <th>Year</th>\n",
       "      <th>LowerBound</th>\n",
       "      <th>UpperBound</th>\n",
       "      <th>Mean_Estimate</th>\n",
       "      <th>Country</th>\n",
       "      <th>Age_Group</th>\n",
       "      <th>CI_width</th>\n",
       "      <th>Obesity_Level</th>\n",
       "    </tr>\n",
       "  </thead>\n",
       "  <tbody>\n",
       "    <tr>\n",
       "      <td>0</td>\n",
       "      <td>Eastern Mediterranean</td>\n",
       "      <td>Both</td>\n",
       "      <td>2012</td>\n",
       "      <td>7.61715</td>\n",
       "      <td>10.73760</td>\n",
       "      <td>9.08931</td>\n",
       "      <td>Afghanistan</td>\n",
       "      <td>Adult</td>\n",
       "      <td>3.12045</td>\n",
       "      <td>Low</td>\n",
       "    </tr>\n",
       "    <tr>\n",
       "      <td>1</td>\n",
       "      <td>Western Pacific</td>\n",
       "      <td>Male</td>\n",
       "      <td>2015</td>\n",
       "      <td>0.77819</td>\n",
       "      <td>1.25472</td>\n",
       "      <td>0.99617</td>\n",
       "      <td>Viet Nam</td>\n",
       "      <td>Adult</td>\n",
       "      <td>0.47653</td>\n",
       "      <td>Low</td>\n",
       "    </tr>\n",
       "    <tr>\n",
       "      <td>2</td>\n",
       "      <td>Africa</td>\n",
       "      <td>Male</td>\n",
       "      <td>2021</td>\n",
       "      <td>3.95796</td>\n",
       "      <td>8.52200</td>\n",
       "      <td>5.97085</td>\n",
       "      <td>Benin</td>\n",
       "      <td>Adult</td>\n",
       "      <td>4.56404</td>\n",
       "      <td>Low</td>\n",
       "    </tr>\n",
       "    <tr>\n",
       "      <td>3</td>\n",
       "      <td>Eastern Mediterranean</td>\n",
       "      <td>Male</td>\n",
       "      <td>2014</td>\n",
       "      <td>4.63586</td>\n",
       "      <td>7.55673</td>\n",
       "      <td>5.99229</td>\n",
       "      <td>Sudan</td>\n",
       "      <td>Adult</td>\n",
       "      <td>2.92087</td>\n",
       "      <td>Low</td>\n",
       "    </tr>\n",
       "    <tr>\n",
       "      <td>4</td>\n",
       "      <td>Eastern Mediterranean</td>\n",
       "      <td>Male</td>\n",
       "      <td>2020</td>\n",
       "      <td>15.79378</td>\n",
       "      <td>19.24573</td>\n",
       "      <td>17.48764</td>\n",
       "      <td>Iran, Islamic Republic of</td>\n",
       "      <td>Adult</td>\n",
       "      <td>3.45195</td>\n",
       "      <td>Low</td>\n",
       "    </tr>\n",
       "    <tr>\n",
       "      <td>...</td>\n",
       "      <td>...</td>\n",
       "      <td>...</td>\n",
       "      <td>...</td>\n",
       "      <td>...</td>\n",
       "      <td>...</td>\n",
       "      <td>...</td>\n",
       "      <td>...</td>\n",
       "      <td>...</td>\n",
       "      <td>...</td>\n",
       "      <td>...</td>\n",
       "    </tr>\n",
       "    <tr>\n",
       "      <td>27715</td>\n",
       "      <td>Europe</td>\n",
       "      <td>Both</td>\n",
       "      <td>2020</td>\n",
       "      <td>0.96418</td>\n",
       "      <td>2.19743</td>\n",
       "      <td>1.47593</td>\n",
       "      <td>Tajikistan</td>\n",
       "      <td>Children</td>\n",
       "      <td>1.23325</td>\n",
       "      <td>Low</td>\n",
       "    </tr>\n",
       "    <tr>\n",
       "      <td>27716</td>\n",
       "      <td>Eastern Mediterranean</td>\n",
       "      <td>Female</td>\n",
       "      <td>2012</td>\n",
       "      <td>0.30204</td>\n",
       "      <td>5.87241</td>\n",
       "      <td>1.96619</td>\n",
       "      <td>Somalia</td>\n",
       "      <td>Children</td>\n",
       "      <td>5.57037</td>\n",
       "      <td>Low</td>\n",
       "    </tr>\n",
       "    <tr>\n",
       "      <td>27717</td>\n",
       "      <td>Western Pacific</td>\n",
       "      <td>Male</td>\n",
       "      <td>2021</td>\n",
       "      <td>3.32590</td>\n",
       "      <td>34.87782</td>\n",
       "      <td>16.63489</td>\n",
       "      <td>Vanuatu</td>\n",
       "      <td>Children</td>\n",
       "      <td>31.55192</td>\n",
       "      <td>Low</td>\n",
       "    </tr>\n",
       "    <tr>\n",
       "      <td>27718</td>\n",
       "      <td>Africa</td>\n",
       "      <td>Male</td>\n",
       "      <td>2014</td>\n",
       "      <td>0.23648</td>\n",
       "      <td>6.34118</td>\n",
       "      <td>2.03219</td>\n",
       "      <td>Madagascar</td>\n",
       "      <td>Children</td>\n",
       "      <td>6.10470</td>\n",
       "      <td>Low</td>\n",
       "    </tr>\n",
       "    <tr>\n",
       "      <td>27719</td>\n",
       "      <td>Europe</td>\n",
       "      <td>Male</td>\n",
       "      <td>2017</td>\n",
       "      <td>10.08785</td>\n",
       "      <td>12.76015</td>\n",
       "      <td>11.39063</td>\n",
       "      <td>Finland</td>\n",
       "      <td>Children</td>\n",
       "      <td>2.67230</td>\n",
       "      <td>Low</td>\n",
       "    </tr>\n",
       "  </tbody>\n",
       "</table>\n",
       "<p>27720 rows × 10 columns</p>\n",
       "</div>"
      ],
      "text/plain": [
       "                      Region  Gender  Year  LowerBound  UpperBound  \\\n",
       "0      Eastern Mediterranean    Both  2012     7.61715    10.73760   \n",
       "1            Western Pacific    Male  2015     0.77819     1.25472   \n",
       "2                     Africa    Male  2021     3.95796     8.52200   \n",
       "3      Eastern Mediterranean    Male  2014     4.63586     7.55673   \n",
       "4      Eastern Mediterranean    Male  2020    15.79378    19.24573   \n",
       "...                      ...     ...   ...         ...         ...   \n",
       "27715                 Europe    Both  2020     0.96418     2.19743   \n",
       "27716  Eastern Mediterranean  Female  2012     0.30204     5.87241   \n",
       "27717        Western Pacific    Male  2021     3.32590    34.87782   \n",
       "27718                 Africa    Male  2014     0.23648     6.34118   \n",
       "27719                 Europe    Male  2017    10.08785    12.76015   \n",
       "\n",
       "       Mean_Estimate                    Country Age_Group  CI_width  \\\n",
       "0            9.08931                Afghanistan     Adult   3.12045   \n",
       "1            0.99617                   Viet Nam     Adult   0.47653   \n",
       "2            5.97085                      Benin     Adult   4.56404   \n",
       "3            5.99229                      Sudan     Adult   2.92087   \n",
       "4           17.48764  Iran, Islamic Republic of     Adult   3.45195   \n",
       "...              ...                        ...       ...       ...   \n",
       "27715        1.47593                 Tajikistan  Children   1.23325   \n",
       "27716        1.96619                    Somalia  Children   5.57037   \n",
       "27717       16.63489                    Vanuatu  Children  31.55192   \n",
       "27718        2.03219                 Madagascar  Children   6.10470   \n",
       "27719       11.39063                    Finland  Children   2.67230   \n",
       "\n",
       "      Obesity_Level  \n",
       "0               Low  \n",
       "1               Low  \n",
       "2               Low  \n",
       "3               Low  \n",
       "4               Low  \n",
       "...             ...  \n",
       "27715           Low  \n",
       "27716           Low  \n",
       "27717           Low  \n",
       "27718           Low  \n",
       "27719           Low  \n",
       "\n",
       "[27720 rows x 10 columns]"
      ]
     },
     "execution_count": 92,
     "metadata": {},
     "output_type": "execute_result"
    }
   ],
   "source": [
    "obesity"
   ]
  },
  {
   "cell_type": "markdown",
   "metadata": {},
   "source": [
    "### OBESITY LEVELS BY REGION"
   ]
  },
  {
   "cell_type": "code",
   "execution_count": 93,
   "metadata": {},
   "outputs": [
    {
     "data": {
      "image/png": "[encoded data removed]",
      "text/plain": [
       "<Figure size 1152x576 with 1 Axes>"
      ]
     },
     "metadata": {
      "needs_background": "light"
     },
     "output_type": "display_data"
    }
   ],
   "source": [
    "plt.figure(figsize=(16,8))\n",
    "sns.lineplot(data= obesity, x='Year', y='Mean_Estimate', hue='Region', marker=\"o\")\n",
    "plt.xlabel('Obesity Trend Over Years by Region')\n",
    "\n",
    "plt.legend()\n",
    "plt.show()"
   ]
  },
  {
   "cell_type": "markdown",
   "metadata": {},
   "source": [
    "### MALNUTRITION LEVELS BY REGION"
   ]
  },
  {
   "cell_type": "code",
   "execution_count": 94,
   "metadata": {},
   "outputs": [
    {
     "data": {
      "image/png": "[encoded data removed]",
      "text/plain": [
       "<Figure size 1152x576 with 1 Axes>"
      ]
     },
     "metadata": {
      "needs_background": "light"
     },
     "output_type": "display_data"
    }
   ],
   "source": [
    "plt.figure(figsize=(16,8))\n",
    "sns.lineplot(data= malnutrition, x='Year', y='Mean_Estimate', hue='Region', marker=\"o\")\n",
    "plt.xlabel('Malnutrition Trend Over Years by Region')\n",
    "\n",
    "plt.legend()\n",
    "plt.show()"
   ]
  },
  {
   "cell_type": "markdown",
   "metadata": {},
   "source": [
    "**OBESITY OVER YEARS BY GENDER**"
   ]
  },
  {
   "cell_type": "code",
   "execution_count": 74,
   "metadata": {},
   "outputs": [
    {
     "data": {
      "image/png": "[encoded data removed]",
      "text/plain": [
       "<Figure size 1152x576 with 1 Axes>"
      ]
     },
     "metadata": {
      "needs_background": "light"
     },
     "output_type": "display_data"
    }
   ],
   "source": [
    "plt.figure(figsize=(16,8))\n",
    "sns.lineplot(data=obesity, x='Year', y='Mean_Estimate', hue='Gender', marker='o')\n",
    "plt.title('Trend of Malnutrition Over Years by Gender')\n",
    "plt.ylabel('Mean Estimate')\n",
    "plt.show()"
   ]
  },
  {
   "cell_type": "markdown",
   "metadata": {},
   "source": [
    "**MALNUTRITION OVER YEARS BY GENDER**"
   ]
  },
  {
   "cell_type": "code",
   "execution_count": 72,
   "metadata": {},
   "outputs": [
    {
     "data": {
      "image/png": "[encoded data removed]",
      "text/plain": [
       "<Figure size 864x432 with 1 Axes>"
      ]
     },
     "metadata": {
      "needs_background": "light"
     },
     "output_type": "display_data"
    }
   ],
   "source": [
    "plt.figure(figsize=(12,6))\n",
    "sns.lineplot(data=malnutrition, x='Year', y='Mean_Estimate', hue='Gender', marker='o')\n",
    "plt.title('Trend of Malnutrition Over Years by Gender')\n",
    "plt.ylabel('Mean Estimate')\n",
    "plt.show()"
   ]
  },
  {
   "cell_type": "markdown",
   "metadata": {},
   "source": [
    "**OBESITY VS MALNUTRITION OF MEAN_ESTIMATE**"
   ]
  },
  {
   "cell_type": "code",
   "execution_count": 92,
   "metadata": {},
   "outputs": [
    {
     "data": {
      "image/png": "[encoded data removed]",
      "text/plain": [
       "<Figure size 1152x576 with 1 Axes>"
      ]
     },
     "metadata": {
      "needs_background": "light"
     },
     "output_type": "display_data"
    }
   ],
   "source": [
    "obesity['Type'] = 'Obesity'\n",
    "malnutrition['Type'] = 'Malnutrition'\n",
    "combined_df = pd.concat([obesity[['Mean_Estimate', 'Type']], malnutrition[['Mean_Estimate', 'Type']]])\n",
    "\n",
    "plt.figure(figsize=(16,8))\n",
    "sns.boxplot(data=combined_df, x='Type', y='Mean_Estimate', palette=['teal', 'pink'])\n",
    "plt.title(\"Boxplot: Obesity vs Malnutrition\")\n",
    "plt.ylabel(\"Category\")\n",
    "plt.ylabel(\"Mean_Estimate\")\n",
    "plt.show()"
   ]
  },
  {
   "cell_type": "code",
   "execution_count": 137,
   "metadata": {},
   "outputs": [
    {
     "data": {
      "image/png": "[encoded data removed]",
      "text/plain": [
       "<Figure size 1152x432 with 2 Axes>"
      ]
     },
     "metadata": {
      "needs_background": "light"
     },
     "output_type": "display_data"
    },
    {
     "data": {
      "image/png": "[encoded data removed]",
      "text/plain": [
       "<Figure size 1152x432 with 2 Axes>"
      ]
     },
     "metadata": {
      "needs_background": "light"
     },
     "output_type": "display_data"
    }
   ],
   "source": [
    "pivot_ob = obesity.pivot_table(values='CI_width', index='Region', columns='Year', aggfunc='mean')\n",
    "plt.figure(figsize=(16, 6))\n",
    "sns.heatmap(pivot_ob, cmap='coolwarm', annot=True, fmt=\".1f\")\n",
    "plt.title(\"Average CI Width by Region & Year (Obesity)\")\n",
    "plt.show()\n",
    "\n",
    "pivot_ob = malnutrition.pivot_table(values='CI_width', index='Region', columns='Year', aggfunc='mean')\n",
    "plt.figure(figsize=(16, 6))\n",
    "sns.heatmap(pivot_ob, cmap='viridis', annot=True, fmt=\".1f\")\n",
    "plt.title(\"Average CI Width by Region & Year (Obesity)\")\n",
    "plt.show()"
   ]
  },
  {
   "cell_type": "code",
   "execution_count": null,
   "metadata": {},
   "outputs": [],
   "source": []
  },
  {
   "cell_type": "markdown",
   "metadata": {},
   "source": [
    "# CONNECTING MYSQL"
   ]
  },
  {
   "cell_type": "markdown",
   "metadata": {},
   "source": [
    "### IMPORT LIBRARIES"
   ]
  },
  {
   "cell_type": "code",
   "execution_count": 138,
   "metadata": {},
   "outputs": [],
   "source": [
    "import numpy as np\n",
    "import pandas as pd\n",
    "import pymysql"
   ]
  },
  {
   "cell_type": "code",
   "execution_count": 139,
   "metadata": {},
   "outputs": [],
   "source": [
    "myconnection = pymysql.connect(host = '127.0.0.1',user='root',passwd='Ishu@0208')"
   ]
  },
  {
   "cell_type": "code",
   "execution_count": 140,
   "metadata": {},
   "outputs": [],
   "source": [
    "cur = myconnection.cursor()"
   ]
  },
  {
   "cell_type": "code",
   "execution_count": 98,
   "metadata": {},
   "outputs": [
    {
     "data": {
      "text/plain": [
       "1"
      ]
     },
     "execution_count": 98,
     "metadata": {},
     "output_type": "execute_result"
    }
   ],
   "source": [
    "cur.execute(\"create database NUTRITION_PARADOX\")"
   ]
  },
  {
   "cell_type": "code",
   "execution_count": 141,
   "metadata": {},
   "outputs": [],
   "source": [
    "myconnection = pymysql.connect(host = '127.0.0.1',user='root',passwd='Ishu@0208',database = \"NUTRITION_PARADOX\")"
   ]
  },
  {
   "cell_type": "code",
   "execution_count": 142,
   "metadata": {},
   "outputs": [],
   "source": [
    "cur = myconnection.cursor()"
   ]
  },
  {
   "cell_type": "code",
   "execution_count": 143,
   "metadata": {},
   "outputs": [
    {
     "data": {
      "text/html": [
       "<div>\n",
       "<style scoped>\n",
       "    .dataframe tbody tr th:only-of-type {\n",
       "        vertical-align: middle;\n",
       "    }\n",
       "\n",
       "    .dataframe tbody tr th {\n",
       "        vertical-align: top;\n",
       "    }\n",
       "\n",
       "    .dataframe thead th {\n",
       "        text-align: right;\n",
       "    }\n",
       "</style>\n",
       "<table border=\"1\" class=\"dataframe\">\n",
       "  <thead>\n",
       "    <tr style=\"text-align: right;\">\n",
       "      <th></th>\n",
       "      <th>Region</th>\n",
       "      <th>Gender</th>\n",
       "      <th>Year</th>\n",
       "      <th>LowerBound</th>\n",
       "      <th>UpperBound</th>\n",
       "      <th>Mean_Estimate</th>\n",
       "      <th>Country</th>\n",
       "      <th>Age_Group</th>\n",
       "      <th>CI_width</th>\n",
       "      <th>Obesity_Level</th>\n",
       "    </tr>\n",
       "  </thead>\n",
       "  <tbody>\n",
       "    <tr>\n",
       "      <td>0</td>\n",
       "      <td>Eastern Mediterranean</td>\n",
       "      <td>Both</td>\n",
       "      <td>2012</td>\n",
       "      <td>7.61715</td>\n",
       "      <td>10.73760</td>\n",
       "      <td>9.08931</td>\n",
       "      <td>Afghanistan</td>\n",
       "      <td>Adult</td>\n",
       "      <td>3.12045</td>\n",
       "      <td>Low</td>\n",
       "    </tr>\n",
       "    <tr>\n",
       "      <td>1</td>\n",
       "      <td>Western Pacific</td>\n",
       "      <td>Male</td>\n",
       "      <td>2015</td>\n",
       "      <td>0.77819</td>\n",
       "      <td>1.25472</td>\n",
       "      <td>0.99617</td>\n",
       "      <td>Viet Nam</td>\n",
       "      <td>Adult</td>\n",
       "      <td>0.47653</td>\n",
       "      <td>Low</td>\n",
       "    </tr>\n",
       "    <tr>\n",
       "      <td>2</td>\n",
       "      <td>Africa</td>\n",
       "      <td>Male</td>\n",
       "      <td>2021</td>\n",
       "      <td>3.95796</td>\n",
       "      <td>8.52200</td>\n",
       "      <td>5.97085</td>\n",
       "      <td>Benin</td>\n",
       "      <td>Adult</td>\n",
       "      <td>4.56404</td>\n",
       "      <td>Low</td>\n",
       "    </tr>\n",
       "  </tbody>\n",
       "</table>\n",
       "</div>"
      ],
      "text/plain": [
       "                  Region Gender  Year  LowerBound  UpperBound  Mean_Estimate  \\\n",
       "0  Eastern Mediterranean   Both  2012     7.61715    10.73760        9.08931   \n",
       "1        Western Pacific   Male  2015     0.77819     1.25472        0.99617   \n",
       "2                 Africa   Male  2021     3.95796     8.52200        5.97085   \n",
       "\n",
       "       Country Age_Group  CI_width Obesity_Level  \n",
       "0  Afghanistan     Adult   3.12045           Low  \n",
       "1     Viet Nam     Adult   0.47653           Low  \n",
       "2        Benin     Adult   4.56404           Low  "
      ]
     },
     "execution_count": 143,
     "metadata": {},
     "output_type": "execute_result"
    }
   ],
   "source": [
    "obesity.head(3)"
   ]
  },
  {
   "cell_type": "code",
   "execution_count": 144,
   "metadata": {},
   "outputs": [
    {
     "data": {
      "text/html": [
       "<div>\n",
       "<style scoped>\n",
       "    .dataframe tbody tr th:only-of-type {\n",
       "        vertical-align: middle;\n",
       "    }\n",
       "\n",
       "    .dataframe tbody tr th {\n",
       "        vertical-align: top;\n",
       "    }\n",
       "\n",
       "    .dataframe thead th {\n",
       "        text-align: right;\n",
       "    }\n",
       "</style>\n",
       "<table border=\"1\" class=\"dataframe\">\n",
       "  <thead>\n",
       "    <tr style=\"text-align: right;\">\n",
       "      <th></th>\n",
       "      <th>Region</th>\n",
       "      <th>Gender</th>\n",
       "      <th>Year</th>\n",
       "      <th>LowerBound</th>\n",
       "      <th>UpperBound</th>\n",
       "      <th>Mean_Estimate</th>\n",
       "      <th>Country</th>\n",
       "      <th>Age_Group</th>\n",
       "      <th>CI_width</th>\n",
       "      <th>Malnutrition_Level</th>\n",
       "    </tr>\n",
       "  </thead>\n",
       "  <tbody>\n",
       "    <tr>\n",
       "      <td>0</td>\n",
       "      <td>Africa</td>\n",
       "      <td>Female</td>\n",
       "      <td>2019</td>\n",
       "      <td>13.68145</td>\n",
       "      <td>21.37381</td>\n",
       "      <td>17.32081</td>\n",
       "      <td>Senegal</td>\n",
       "      <td>Adult</td>\n",
       "      <td>7.69236</td>\n",
       "      <td>Moderate</td>\n",
       "    </tr>\n",
       "    <tr>\n",
       "      <td>1</td>\n",
       "      <td>Western Pacific</td>\n",
       "      <td>Male</td>\n",
       "      <td>2017</td>\n",
       "      <td>0.04792</td>\n",
       "      <td>0.73164</td>\n",
       "      <td>0.26032</td>\n",
       "      <td>American Samoa</td>\n",
       "      <td>Adult</td>\n",
       "      <td>0.68372</td>\n",
       "      <td>Low</td>\n",
       "    </tr>\n",
       "    <tr>\n",
       "      <td>2</td>\n",
       "      <td>Africa</td>\n",
       "      <td>Female</td>\n",
       "      <td>2021</td>\n",
       "      <td>3.97204</td>\n",
       "      <td>8.07702</td>\n",
       "      <td>5.79511</td>\n",
       "      <td>Gabon</td>\n",
       "      <td>Adult</td>\n",
       "      <td>4.10498</td>\n",
       "      <td>Low</td>\n",
       "    </tr>\n",
       "  </tbody>\n",
       "</table>\n",
       "</div>"
      ],
      "text/plain": [
       "            Region  Gender  Year  LowerBound  UpperBound  Mean_Estimate  \\\n",
       "0           Africa  Female  2019    13.68145    21.37381       17.32081   \n",
       "1  Western Pacific    Male  2017     0.04792     0.73164        0.26032   \n",
       "2           Africa  Female  2021     3.97204     8.07702        5.79511   \n",
       "\n",
       "          Country Age_Group  CI_width Malnutrition_Level  \n",
       "0         Senegal     Adult   7.69236           Moderate  \n",
       "1  American Samoa     Adult   0.68372                Low  \n",
       "2           Gabon     Adult   4.10498                Low  "
      ]
     },
     "execution_count": 144,
     "metadata": {},
     "output_type": "execute_result"
    }
   ],
   "source": [
    "malnutrition.head(3)"
   ]
  },
  {
   "cell_type": "markdown",
   "metadata": {},
   "source": [
    "### CREATING TABLES"
   ]
  },
  {
   "cell_type": "code",
   "execution_count": 103,
   "metadata": {},
   "outputs": [
    {
     "data": {
      "text/plain": [
       "0"
      ]
     },
     "execution_count": 103,
     "metadata": {},
     "output_type": "execute_result"
    }
   ],
   "source": [
    "cur.execute(\"create table obesity(Region varchar(50),Gender varchar(10),Year int,LowerBound float,UpperBound float,Mean_Estimate float,Country varchar(50),Age_Group varchar(10),CI_width float,Obesity_Level varchar(15))\")"
   ]
  },
  {
   "cell_type": "code",
   "execution_count": 104,
   "metadata": {},
   "outputs": [
    {
     "data": {
      "text/plain": [
       "0"
      ]
     },
     "execution_count": 104,
     "metadata": {},
     "output_type": "execute_result"
    }
   ],
   "source": [
    "cur.execute(\"create table malnutrition(Region varchar(50),Gender varchar(10),Year int,LowerBound float,UpperBound float,Mean_Estimate float,Country varchar(50),Age_Group varchar(10),CI_width float,Malnutrition_Level varchar(15))\")"
   ]
  },
  {
   "cell_type": "markdown",
   "metadata": {},
   "source": [
    "### INSERTING VALUES INTO TABLES"
   ]
  },
  {
   "cell_type": "code",
   "execution_count": 145,
   "metadata": {},
   "outputs": [
    {
     "name": "stdout",
     "output_type": "stream",
     "text": [
      "Successfully values are inserted into their respective tables\n"
     ]
    }
   ],
   "source": [
    "# Insert into obesity table\n",
    "for index, row in obesity.iterrows():\n",
    "    cur.execute(\"\"\"\n",
    "        INSERT INTO obesity (Year, Gender, Mean_Estimate, LowerBound, UpperBound,\n",
    "            Age_Group, Country, Region, CI_width, Obesity_Level)\n",
    "        VALUES (%s, %s, %s, %s, %s, %s, %s, %s, %s, %s)\n",
    "    \"\"\", (\n",
    "        row['Year'], row['Gender'], row['Mean_Estimate'], row['LowerBound'],\n",
    "        row['UpperBound'], row['Age_Group'], row['Country'], row['Region'],        \n",
    "        row['CI_width'], row['Obesity_Level']\n",
    "    ))\n",
    "\n",
    "# Insert into malnutrition table\n",
    "for index, row in malnutrition.iterrows():\n",
    "    cur.execute(\"\"\"\n",
    "        INSERT INTO malnutrition (Year, Gender, Mean_Estimate, LowerBound, UpperBound,\n",
    "            Age_Group, Country, Region, CI_width, Malnutrition_Level)\n",
    "        VALUES (%s, %s, %s, %s, %s, %s, %s, %s, %s, %s)\n",
    "    \"\"\", (\n",
    "        row['Year'], row['Gender'], row['Mean_Estimate'], row['LowerBound'],\n",
    "        row['UpperBound'], row['Age_Group'], row['Country'], row['Region'],\n",
    "        row['CI_width'], row['Malnutrition_Level']\n",
    "    ))\n",
    "    \n",
    "    \n",
    "print(\"Successfully values are inserted into their respective tables\")"
   ]
  },
  {
   "cell_type": "code",
   "execution_count": 146,
   "metadata": {},
   "outputs": [
    {
     "data": {
      "text/html": [
       "<div>\n",
       "<style scoped>\n",
       "    .dataframe tbody tr th:only-of-type {\n",
       "        vertical-align: middle;\n",
       "    }\n",
       "\n",
       "    .dataframe tbody tr th {\n",
       "        vertical-align: top;\n",
       "    }\n",
       "\n",
       "    .dataframe thead th {\n",
       "        text-align: right;\n",
       "    }\n",
       "</style>\n",
       "<table border=\"1\" class=\"dataframe\">\n",
       "  <thead>\n",
       "    <tr style=\"text-align: right;\">\n",
       "      <th></th>\n",
       "      <th>Region</th>\n",
       "      <th>Gender</th>\n",
       "      <th>Year</th>\n",
       "      <th>LowerBound</th>\n",
       "      <th>UpperBound</th>\n",
       "      <th>Mean_Estimate</th>\n",
       "      <th>Country</th>\n",
       "      <th>Age_Group</th>\n",
       "      <th>CI_width</th>\n",
       "      <th>Obesity_Level</th>\n",
       "    </tr>\n",
       "  </thead>\n",
       "  <tbody>\n",
       "    <tr>\n",
       "      <td>0</td>\n",
       "      <td>Eastern Mediterranean</td>\n",
       "      <td>Both</td>\n",
       "      <td>2012</td>\n",
       "      <td>7.61715</td>\n",
       "      <td>10.73760</td>\n",
       "      <td>9.08931</td>\n",
       "      <td>Afghanistan</td>\n",
       "      <td>Adult</td>\n",
       "      <td>3.12045</td>\n",
       "      <td>Low</td>\n",
       "    </tr>\n",
       "    <tr>\n",
       "      <td>1</td>\n",
       "      <td>Western Pacific</td>\n",
       "      <td>Male</td>\n",
       "      <td>2015</td>\n",
       "      <td>0.77819</td>\n",
       "      <td>1.25472</td>\n",
       "      <td>0.99617</td>\n",
       "      <td>Viet Nam</td>\n",
       "      <td>Adult</td>\n",
       "      <td>0.47653</td>\n",
       "      <td>Low</td>\n",
       "    </tr>\n",
       "    <tr>\n",
       "      <td>2</td>\n",
       "      <td>Africa</td>\n",
       "      <td>Male</td>\n",
       "      <td>2021</td>\n",
       "      <td>3.95796</td>\n",
       "      <td>8.52200</td>\n",
       "      <td>5.97085</td>\n",
       "      <td>Benin</td>\n",
       "      <td>Adult</td>\n",
       "      <td>4.56404</td>\n",
       "      <td>Low</td>\n",
       "    </tr>\n",
       "    <tr>\n",
       "      <td>3</td>\n",
       "      <td>Eastern Mediterranean</td>\n",
       "      <td>Male</td>\n",
       "      <td>2014</td>\n",
       "      <td>4.63586</td>\n",
       "      <td>7.55673</td>\n",
       "      <td>5.99229</td>\n",
       "      <td>Sudan</td>\n",
       "      <td>Adult</td>\n",
       "      <td>2.92087</td>\n",
       "      <td>Low</td>\n",
       "    </tr>\n",
       "    <tr>\n",
       "      <td>4</td>\n",
       "      <td>Eastern Mediterranean</td>\n",
       "      <td>Male</td>\n",
       "      <td>2020</td>\n",
       "      <td>15.79380</td>\n",
       "      <td>19.24570</td>\n",
       "      <td>17.48760</td>\n",
       "      <td>Iran, Islamic Republic of</td>\n",
       "      <td>Adult</td>\n",
       "      <td>3.45195</td>\n",
       "      <td>Low</td>\n",
       "    </tr>\n",
       "    <tr>\n",
       "      <td>...</td>\n",
       "      <td>...</td>\n",
       "      <td>...</td>\n",
       "      <td>...</td>\n",
       "      <td>...</td>\n",
       "      <td>...</td>\n",
       "      <td>...</td>\n",
       "      <td>...</td>\n",
       "      <td>...</td>\n",
       "      <td>...</td>\n",
       "      <td>...</td>\n",
       "    </tr>\n",
       "    <tr>\n",
       "      <td>55435</td>\n",
       "      <td>Europe</td>\n",
       "      <td>Both</td>\n",
       "      <td>2020</td>\n",
       "      <td>0.96418</td>\n",
       "      <td>2.19743</td>\n",
       "      <td>1.47593</td>\n",
       "      <td>Tajikistan</td>\n",
       "      <td>Children</td>\n",
       "      <td>1.23325</td>\n",
       "      <td>Low</td>\n",
       "    </tr>\n",
       "    <tr>\n",
       "      <td>55436</td>\n",
       "      <td>Eastern Mediterranean</td>\n",
       "      <td>Female</td>\n",
       "      <td>2012</td>\n",
       "      <td>0.30204</td>\n",
       "      <td>5.87241</td>\n",
       "      <td>1.96619</td>\n",
       "      <td>Somalia</td>\n",
       "      <td>Children</td>\n",
       "      <td>5.57037</td>\n",
       "      <td>Low</td>\n",
       "    </tr>\n",
       "    <tr>\n",
       "      <td>55437</td>\n",
       "      <td>Western Pacific</td>\n",
       "      <td>Male</td>\n",
       "      <td>2021</td>\n",
       "      <td>3.32590</td>\n",
       "      <td>34.87780</td>\n",
       "      <td>16.63490</td>\n",
       "      <td>Vanuatu</td>\n",
       "      <td>Children</td>\n",
       "      <td>31.55190</td>\n",
       "      <td>Low</td>\n",
       "    </tr>\n",
       "    <tr>\n",
       "      <td>55438</td>\n",
       "      <td>Africa</td>\n",
       "      <td>Male</td>\n",
       "      <td>2014</td>\n",
       "      <td>0.23648</td>\n",
       "      <td>6.34118</td>\n",
       "      <td>2.03219</td>\n",
       "      <td>Madagascar</td>\n",
       "      <td>Children</td>\n",
       "      <td>6.10470</td>\n",
       "      <td>Low</td>\n",
       "    </tr>\n",
       "    <tr>\n",
       "      <td>55439</td>\n",
       "      <td>Europe</td>\n",
       "      <td>Male</td>\n",
       "      <td>2017</td>\n",
       "      <td>10.08780</td>\n",
       "      <td>12.76010</td>\n",
       "      <td>11.39060</td>\n",
       "      <td>Finland</td>\n",
       "      <td>Children</td>\n",
       "      <td>2.67230</td>\n",
       "      <td>Low</td>\n",
       "    </tr>\n",
       "  </tbody>\n",
       "</table>\n",
       "<p>55440 rows × 10 columns</p>\n",
       "</div>"
      ],
      "text/plain": [
       "                      Region  Gender  Year  LowerBound  UpperBound  \\\n",
       "0      Eastern Mediterranean    Both  2012     7.61715    10.73760   \n",
       "1            Western Pacific    Male  2015     0.77819     1.25472   \n",
       "2                     Africa    Male  2021     3.95796     8.52200   \n",
       "3      Eastern Mediterranean    Male  2014     4.63586     7.55673   \n",
       "4      Eastern Mediterranean    Male  2020    15.79380    19.24570   \n",
       "...                      ...     ...   ...         ...         ...   \n",
       "55435                 Europe    Both  2020     0.96418     2.19743   \n",
       "55436  Eastern Mediterranean  Female  2012     0.30204     5.87241   \n",
       "55437        Western Pacific    Male  2021     3.32590    34.87780   \n",
       "55438                 Africa    Male  2014     0.23648     6.34118   \n",
       "55439                 Europe    Male  2017    10.08780    12.76010   \n",
       "\n",
       "       Mean_Estimate                    Country Age_Group  CI_width  \\\n",
       "0            9.08931                Afghanistan     Adult   3.12045   \n",
       "1            0.99617                   Viet Nam     Adult   0.47653   \n",
       "2            5.97085                      Benin     Adult   4.56404   \n",
       "3            5.99229                      Sudan     Adult   2.92087   \n",
       "4           17.48760  Iran, Islamic Republic of     Adult   3.45195   \n",
       "...              ...                        ...       ...       ...   \n",
       "55435        1.47593                 Tajikistan  Children   1.23325   \n",
       "55436        1.96619                    Somalia  Children   5.57037   \n",
       "55437       16.63490                    Vanuatu  Children  31.55190   \n",
       "55438        2.03219                 Madagascar  Children   6.10470   \n",
       "55439       11.39060                    Finland  Children   2.67230   \n",
       "\n",
       "      Obesity_Level  \n",
       "0               Low  \n",
       "1               Low  \n",
       "2               Low  \n",
       "3               Low  \n",
       "4               Low  \n",
       "...             ...  \n",
       "55435           Low  \n",
       "55436           Low  \n",
       "55437           Low  \n",
       "55438           Low  \n",
       "55439           Low  \n",
       "\n",
       "[55440 rows x 10 columns]"
      ]
     },
     "execution_count": 146,
     "metadata": {},
     "output_type": "execute_result"
    }
   ],
   "source": [
    "pd.read_sql_query(\"SELECT * from obesity\",myconnection)"
   ]
  },
  {
   "cell_type": "code",
   "execution_count": 147,
   "metadata": {},
   "outputs": [
    {
     "data": {
      "text/html": [
       "<div>\n",
       "<style scoped>\n",
       "    .dataframe tbody tr th:only-of-type {\n",
       "        vertical-align: middle;\n",
       "    }\n",
       "\n",
       "    .dataframe tbody tr th {\n",
       "        vertical-align: top;\n",
       "    }\n",
       "\n",
       "    .dataframe thead th {\n",
       "        text-align: right;\n",
       "    }\n",
       "</style>\n",
       "<table border=\"1\" class=\"dataframe\">\n",
       "  <thead>\n",
       "    <tr style=\"text-align: right;\">\n",
       "      <th></th>\n",
       "      <th>Region</th>\n",
       "      <th>Gender</th>\n",
       "      <th>Year</th>\n",
       "      <th>LowerBound</th>\n",
       "      <th>UpperBound</th>\n",
       "      <th>Mean_Estimate</th>\n",
       "      <th>Country</th>\n",
       "      <th>Age_Group</th>\n",
       "      <th>CI_width</th>\n",
       "      <th>Malnutrition_Level</th>\n",
       "    </tr>\n",
       "  </thead>\n",
       "  <tbody>\n",
       "    <tr>\n",
       "      <td>0</td>\n",
       "      <td>Africa</td>\n",
       "      <td>Female</td>\n",
       "      <td>2019</td>\n",
       "      <td>13.68140</td>\n",
       "      <td>21.37380</td>\n",
       "      <td>17.32080</td>\n",
       "      <td>Senegal</td>\n",
       "      <td>Adult</td>\n",
       "      <td>7.69236</td>\n",
       "      <td>Moderate</td>\n",
       "    </tr>\n",
       "    <tr>\n",
       "      <td>1</td>\n",
       "      <td>Western Pacific</td>\n",
       "      <td>Male</td>\n",
       "      <td>2017</td>\n",
       "      <td>0.04792</td>\n",
       "      <td>0.73164</td>\n",
       "      <td>0.26032</td>\n",
       "      <td>American Samoa</td>\n",
       "      <td>Adult</td>\n",
       "      <td>0.68372</td>\n",
       "      <td>Low</td>\n",
       "    </tr>\n",
       "    <tr>\n",
       "      <td>2</td>\n",
       "      <td>Africa</td>\n",
       "      <td>Female</td>\n",
       "      <td>2021</td>\n",
       "      <td>3.97204</td>\n",
       "      <td>8.07702</td>\n",
       "      <td>5.79511</td>\n",
       "      <td>Gabon</td>\n",
       "      <td>Adult</td>\n",
       "      <td>4.10498</td>\n",
       "      <td>Low</td>\n",
       "    </tr>\n",
       "    <tr>\n",
       "      <td>3</td>\n",
       "      <td>Western Pacific</td>\n",
       "      <td>Both</td>\n",
       "      <td>2017</td>\n",
       "      <td>2.42823</td>\n",
       "      <td>3.84215</td>\n",
       "      <td>3.09065</td>\n",
       "      <td>Mongolia</td>\n",
       "      <td>Adult</td>\n",
       "      <td>1.41392</td>\n",
       "      <td>Low</td>\n",
       "    </tr>\n",
       "    <tr>\n",
       "      <td>4</td>\n",
       "      <td>Africa</td>\n",
       "      <td>Female</td>\n",
       "      <td>2016</td>\n",
       "      <td>6.65567</td>\n",
       "      <td>10.25310</td>\n",
       "      <td>8.37172</td>\n",
       "      <td>Sierra Leone</td>\n",
       "      <td>Adult</td>\n",
       "      <td>3.59745</td>\n",
       "      <td>Low</td>\n",
       "    </tr>\n",
       "    <tr>\n",
       "      <td>...</td>\n",
       "      <td>...</td>\n",
       "      <td>...</td>\n",
       "      <td>...</td>\n",
       "      <td>...</td>\n",
       "      <td>...</td>\n",
       "      <td>...</td>\n",
       "      <td>...</td>\n",
       "      <td>...</td>\n",
       "      <td>...</td>\n",
       "      <td>...</td>\n",
       "    </tr>\n",
       "    <tr>\n",
       "      <td>55435</td>\n",
       "      <td>Americas</td>\n",
       "      <td>Female</td>\n",
       "      <td>2013</td>\n",
       "      <td>2.79550</td>\n",
       "      <td>5.71434</td>\n",
       "      <td>4.14069</td>\n",
       "      <td>Haiti</td>\n",
       "      <td>Children</td>\n",
       "      <td>2.91884</td>\n",
       "      <td>Low</td>\n",
       "    </tr>\n",
       "    <tr>\n",
       "      <td>55436</td>\n",
       "      <td>Europe</td>\n",
       "      <td>Both</td>\n",
       "      <td>2018</td>\n",
       "      <td>5.42817</td>\n",
       "      <td>10.21840</td>\n",
       "      <td>7.57499</td>\n",
       "      <td>Tajikistan</td>\n",
       "      <td>Children</td>\n",
       "      <td>4.79023</td>\n",
       "      <td>Low</td>\n",
       "    </tr>\n",
       "    <tr>\n",
       "      <td>55437</td>\n",
       "      <td>Western Pacific</td>\n",
       "      <td>Both</td>\n",
       "      <td>2016</td>\n",
       "      <td>0.62172</td>\n",
       "      <td>3.50706</td>\n",
       "      <td>1.70365</td>\n",
       "      <td>Papua New Guinea</td>\n",
       "      <td>Children</td>\n",
       "      <td>2.88534</td>\n",
       "      <td>Low</td>\n",
       "    </tr>\n",
       "    <tr>\n",
       "      <td>55438</td>\n",
       "      <td>Western Pacific</td>\n",
       "      <td>Female</td>\n",
       "      <td>2020</td>\n",
       "      <td>0.06415</td>\n",
       "      <td>2.81018</td>\n",
       "      <td>0.73407</td>\n",
       "      <td>Samoa</td>\n",
       "      <td>Children</td>\n",
       "      <td>2.74603</td>\n",
       "      <td>Low</td>\n",
       "    </tr>\n",
       "    <tr>\n",
       "      <td>55439</td>\n",
       "      <td>Europe</td>\n",
       "      <td>Male</td>\n",
       "      <td>2018</td>\n",
       "      <td>0.46517</td>\n",
       "      <td>7.30748</td>\n",
       "      <td>2.54279</td>\n",
       "      <td>Iceland</td>\n",
       "      <td>Children</td>\n",
       "      <td>6.84231</td>\n",
       "      <td>Low</td>\n",
       "    </tr>\n",
       "  </tbody>\n",
       "</table>\n",
       "<p>55440 rows × 10 columns</p>\n",
       "</div>"
      ],
      "text/plain": [
       "                Region  Gender  Year  LowerBound  UpperBound  Mean_Estimate  \\\n",
       "0               Africa  Female  2019    13.68140    21.37380       17.32080   \n",
       "1      Western Pacific    Male  2017     0.04792     0.73164        0.26032   \n",
       "2               Africa  Female  2021     3.97204     8.07702        5.79511   \n",
       "3      Western Pacific    Both  2017     2.42823     3.84215        3.09065   \n",
       "4               Africa  Female  2016     6.65567    10.25310        8.37172   \n",
       "...                ...     ...   ...         ...         ...            ...   \n",
       "55435         Americas  Female  2013     2.79550     5.71434        4.14069   \n",
       "55436           Europe    Both  2018     5.42817    10.21840        7.57499   \n",
       "55437  Western Pacific    Both  2016     0.62172     3.50706        1.70365   \n",
       "55438  Western Pacific  Female  2020     0.06415     2.81018        0.73407   \n",
       "55439           Europe    Male  2018     0.46517     7.30748        2.54279   \n",
       "\n",
       "                Country Age_Group  CI_width Malnutrition_Level  \n",
       "0               Senegal     Adult   7.69236           Moderate  \n",
       "1        American Samoa     Adult   0.68372                Low  \n",
       "2                 Gabon     Adult   4.10498                Low  \n",
       "3              Mongolia     Adult   1.41392                Low  \n",
       "4          Sierra Leone     Adult   3.59745                Low  \n",
       "...                 ...       ...       ...                ...  \n",
       "55435             Haiti  Children   2.91884                Low  \n",
       "55436        Tajikistan  Children   4.79023                Low  \n",
       "55437  Papua New Guinea  Children   2.88534                Low  \n",
       "55438             Samoa  Children   2.74603                Low  \n",
       "55439           Iceland  Children   6.84231                Low  \n",
       "\n",
       "[55440 rows x 10 columns]"
      ]
     },
     "execution_count": 147,
     "metadata": {},
     "output_type": "execute_result"
    }
   ],
   "source": [
    "pd.read_sql_query(\"SELECT * from malnutrition\",myconnection)"
   ]
  },
  {
   "cell_type": "markdown",
   "metadata": {},
   "source": [
    "### QUERIES"
   ]
  },
  {
   "cell_type": "markdown",
   "metadata": {},
   "source": [
    "### REGARDING OBESITY TABLE"
   ]
  },
  {
   "cell_type": "markdown",
   "metadata": {},
   "source": [
    "**1.Top 5 regions with the highest average obesity levels in the most recent year(2022)**"
   ]
  },
  {
   "cell_type": "code",
   "execution_count": 148,
   "metadata": {},
   "outputs": [
    {
     "data": {
      "text/html": [
       "<div>\n",
       "<style scoped>\n",
       "    .dataframe tbody tr th:only-of-type {\n",
       "        vertical-align: middle;\n",
       "    }\n",
       "\n",
       "    .dataframe tbody tr th {\n",
       "        vertical-align: top;\n",
       "    }\n",
       "\n",
       "    .dataframe thead th {\n",
       "        text-align: right;\n",
       "    }\n",
       "</style>\n",
       "<table border=\"1\" class=\"dataframe\">\n",
       "  <thead>\n",
       "    <tr style=\"text-align: right;\">\n",
       "      <th></th>\n",
       "      <th>Region</th>\n",
       "      <th>Avgerage_obesity</th>\n",
       "    </tr>\n",
       "  </thead>\n",
       "  <tbody>\n",
       "    <tr>\n",
       "      <td>0</td>\n",
       "      <td>Western Pacific</td>\n",
       "      <td>22.189885</td>\n",
       "    </tr>\n",
       "    <tr>\n",
       "      <td>1</td>\n",
       "      <td>Americas</td>\n",
       "      <td>20.596400</td>\n",
       "    </tr>\n",
       "    <tr>\n",
       "      <td>2</td>\n",
       "      <td>Eastern Mediterranean</td>\n",
       "      <td>17.860997</td>\n",
       "    </tr>\n",
       "    <tr>\n",
       "      <td>3</td>\n",
       "      <td>Europe</td>\n",
       "      <td>12.942221</td>\n",
       "    </tr>\n",
       "    <tr>\n",
       "      <td>4</td>\n",
       "      <td>South-East Asia</td>\n",
       "      <td>7.998009</td>\n",
       "    </tr>\n",
       "  </tbody>\n",
       "</table>\n",
       "</div>"
      ],
      "text/plain": [
       "                  Region  Avgerage_obesity\n",
       "0        Western Pacific         22.189885\n",
       "1               Americas         20.596400\n",
       "2  Eastern Mediterranean         17.860997\n",
       "3                 Europe         12.942221\n",
       "4        South-East Asia          7.998009"
      ]
     },
     "execution_count": 148,
     "metadata": {},
     "output_type": "execute_result"
    }
   ],
   "source": [
    "pd.read_sql_query(\"SELECT Region, AVG(Mean_Estimate) AS Avgerage_obesity FROM obesity WHERE Year = 2022 GROUP BY Region ORDER BY Avgerage_obesity DESC LIMIT 5\",myconnection)"
   ]
  },
  {
   "cell_type": "markdown",
   "metadata": {},
   "source": [
    "**2.Top 5 countries with highest obesity estimates**"
   ]
  },
  {
   "cell_type": "code",
   "execution_count": 149,
   "metadata": {},
   "outputs": [
    {
     "data": {
      "text/html": [
       "<div>\n",
       "<style scoped>\n",
       "    .dataframe tbody tr th:only-of-type {\n",
       "        vertical-align: middle;\n",
       "    }\n",
       "\n",
       "    .dataframe tbody tr th {\n",
       "        vertical-align: top;\n",
       "    }\n",
       "\n",
       "    .dataframe thead th {\n",
       "        text-align: right;\n",
       "    }\n",
       "</style>\n",
       "<table border=\"1\" class=\"dataframe\">\n",
       "  <thead>\n",
       "    <tr style=\"text-align: right;\">\n",
       "      <th></th>\n",
       "      <th>Country</th>\n",
       "      <th>Highest_Obesity</th>\n",
       "    </tr>\n",
       "  </thead>\n",
       "  <tbody>\n",
       "    <tr>\n",
       "      <td>0</td>\n",
       "      <td>American Samoa</td>\n",
       "      <td>80.6093</td>\n",
       "    </tr>\n",
       "    <tr>\n",
       "      <td>1</td>\n",
       "      <td>Tonga</td>\n",
       "      <td>79.0533</td>\n",
       "    </tr>\n",
       "    <tr>\n",
       "      <td>2</td>\n",
       "      <td>Samoa</td>\n",
       "      <td>72.6159</td>\n",
       "    </tr>\n",
       "    <tr>\n",
       "      <td>3</td>\n",
       "      <td>Tokelau</td>\n",
       "      <td>72.4867</td>\n",
       "    </tr>\n",
       "    <tr>\n",
       "      <td>4</td>\n",
       "      <td>Cook Islands</td>\n",
       "      <td>71.5139</td>\n",
       "    </tr>\n",
       "  </tbody>\n",
       "</table>\n",
       "</div>"
      ],
      "text/plain": [
       "          Country  Highest_Obesity\n",
       "0  American Samoa          80.6093\n",
       "1           Tonga          79.0533\n",
       "2           Samoa          72.6159\n",
       "3         Tokelau          72.4867\n",
       "4    Cook Islands          71.5139"
      ]
     },
     "execution_count": 149,
     "metadata": {},
     "output_type": "execute_result"
    }
   ],
   "source": [
    "pd.read_sql_query(\"SELECT  Country, MAX(Mean_Estimate) AS Highest_Obesity FROM obesity GROUP BY Country ORDER BY Highest_Obesity DESC LIMIT 5\",myconnection)"
   ]
  },
  {
   "cell_type": "markdown",
   "metadata": {},
   "source": [
    "**3.Obesity trend in India over the years(Mean_estimate)**"
   ]
  },
  {
   "cell_type": "code",
   "execution_count": 150,
   "metadata": {},
   "outputs": [
    {
     "data": {
      "text/html": [
       "<div>\n",
       "<style scoped>\n",
       "    .dataframe tbody tr th:only-of-type {\n",
       "        vertical-align: middle;\n",
       "    }\n",
       "\n",
       "    .dataframe tbody tr th {\n",
       "        vertical-align: top;\n",
       "    }\n",
       "\n",
       "    .dataframe thead th {\n",
       "        text-align: right;\n",
       "    }\n",
       "</style>\n",
       "<table border=\"1\" class=\"dataframe\">\n",
       "  <thead>\n",
       "    <tr style=\"text-align: right;\">\n",
       "      <th></th>\n",
       "      <th>Year</th>\n",
       "      <th>Average_Obesity</th>\n",
       "    </tr>\n",
       "  </thead>\n",
       "  <tbody>\n",
       "    <tr>\n",
       "      <td>0</td>\n",
       "      <td>2012</td>\n",
       "      <td>2.473178</td>\n",
       "    </tr>\n",
       "    <tr>\n",
       "      <td>1</td>\n",
       "      <td>2013</td>\n",
       "      <td>2.634653</td>\n",
       "    </tr>\n",
       "    <tr>\n",
       "      <td>2</td>\n",
       "      <td>2014</td>\n",
       "      <td>2.798748</td>\n",
       "    </tr>\n",
       "    <tr>\n",
       "      <td>3</td>\n",
       "      <td>2015</td>\n",
       "      <td>2.972814</td>\n",
       "    </tr>\n",
       "    <tr>\n",
       "      <td>4</td>\n",
       "      <td>2016</td>\n",
       "      <td>3.159577</td>\n",
       "    </tr>\n",
       "    <tr>\n",
       "      <td>5</td>\n",
       "      <td>2017</td>\n",
       "      <td>3.362175</td>\n",
       "    </tr>\n",
       "    <tr>\n",
       "      <td>6</td>\n",
       "      <td>2018</td>\n",
       "      <td>3.579292</td>\n",
       "    </tr>\n",
       "    <tr>\n",
       "      <td>7</td>\n",
       "      <td>2019</td>\n",
       "      <td>3.809013</td>\n",
       "    </tr>\n",
       "    <tr>\n",
       "      <td>8</td>\n",
       "      <td>2020</td>\n",
       "      <td>4.051149</td>\n",
       "    </tr>\n",
       "    <tr>\n",
       "      <td>9</td>\n",
       "      <td>2021</td>\n",
       "      <td>4.307815</td>\n",
       "    </tr>\n",
       "    <tr>\n",
       "      <td>10</td>\n",
       "      <td>2022</td>\n",
       "      <td>4.579180</td>\n",
       "    </tr>\n",
       "  </tbody>\n",
       "</table>\n",
       "</div>"
      ],
      "text/plain": [
       "    Year  Average_Obesity\n",
       "0   2012         2.473178\n",
       "1   2013         2.634653\n",
       "2   2014         2.798748\n",
       "3   2015         2.972814\n",
       "4   2016         3.159577\n",
       "5   2017         3.362175\n",
       "6   2018         3.579292\n",
       "7   2019         3.809013\n",
       "8   2020         4.051149\n",
       "9   2021         4.307815\n",
       "10  2022         4.579180"
      ]
     },
     "execution_count": 150,
     "metadata": {},
     "output_type": "execute_result"
    }
   ],
   "source": [
    "pd.read_sql_query(\"SELECT Year, AVG(Mean_Estimate) AS Average_Obesity FROM obesity WHERE Country = 'India' GROUP BY Year ORDER BY Year\",myconnection)"
   ]
  },
  {
   "cell_type": "markdown",
   "metadata": {},
   "source": [
    "**4.Average obesity by gender**"
   ]
  },
  {
   "cell_type": "code",
   "execution_count": 151,
   "metadata": {},
   "outputs": [
    {
     "data": {
      "text/html": [
       "<div>\n",
       "<style scoped>\n",
       "    .dataframe tbody tr th:only-of-type {\n",
       "        vertical-align: middle;\n",
       "    }\n",
       "\n",
       "    .dataframe tbody tr th {\n",
       "        vertical-align: top;\n",
       "    }\n",
       "\n",
       "    .dataframe thead th {\n",
       "        text-align: right;\n",
       "    }\n",
       "</style>\n",
       "<table border=\"1\" class=\"dataframe\">\n",
       "  <thead>\n",
       "    <tr style=\"text-align: right;\">\n",
       "      <th></th>\n",
       "      <th>Gender</th>\n",
       "      <th>Avg_Obesity</th>\n",
       "    </tr>\n",
       "  </thead>\n",
       "  <tbody>\n",
       "    <tr>\n",
       "      <td>0</td>\n",
       "      <td>Both</td>\n",
       "      <td>12.781970</td>\n",
       "    </tr>\n",
       "    <tr>\n",
       "      <td>1</td>\n",
       "      <td>Male</td>\n",
       "      <td>12.776696</td>\n",
       "    </tr>\n",
       "    <tr>\n",
       "      <td>2</td>\n",
       "      <td>Female</td>\n",
       "      <td>12.724456</td>\n",
       "    </tr>\n",
       "  </tbody>\n",
       "</table>\n",
       "</div>"
      ],
      "text/plain": [
       "   Gender  Avg_Obesity\n",
       "0    Both    12.781970\n",
       "1    Male    12.776696\n",
       "2  Female    12.724456"
      ]
     },
     "execution_count": 151,
     "metadata": {},
     "output_type": "execute_result"
    }
   ],
   "source": [
    "pd.read_sql_query(\"SELECT Gender, AVG(Mean_Estimate) AS Avg_Obesity FROM obesity GROUP BY Gender\",myconnection)"
   ]
  },
  {
   "cell_type": "markdown",
   "metadata": {},
   "source": [
    "**5.Country count by obesity level category and age group**"
   ]
  },
  {
   "cell_type": "code",
   "execution_count": 152,
   "metadata": {},
   "outputs": [
    {
     "data": {
      "text/html": [
       "<div>\n",
       "<style scoped>\n",
       "    .dataframe tbody tr th:only-of-type {\n",
       "        vertical-align: middle;\n",
       "    }\n",
       "\n",
       "    .dataframe tbody tr th {\n",
       "        vertical-align: top;\n",
       "    }\n",
       "\n",
       "    .dataframe thead th {\n",
       "        text-align: right;\n",
       "    }\n",
       "</style>\n",
       "<table border=\"1\" class=\"dataframe\">\n",
       "  <thead>\n",
       "    <tr style=\"text-align: right;\">\n",
       "      <th></th>\n",
       "      <th>Obesity_Level</th>\n",
       "      <th>Age_Group</th>\n",
       "      <th>Country_Count</th>\n",
       "    </tr>\n",
       "  </thead>\n",
       "  <tbody>\n",
       "    <tr>\n",
       "      <td>0</td>\n",
       "      <td>High</td>\n",
       "      <td>Adult</td>\n",
       "      <td>94</td>\n",
       "    </tr>\n",
       "    <tr>\n",
       "      <td>1</td>\n",
       "      <td>High</td>\n",
       "      <td>Children</td>\n",
       "      <td>11</td>\n",
       "    </tr>\n",
       "    <tr>\n",
       "      <td>2</td>\n",
       "      <td>Low</td>\n",
       "      <td>Adult</td>\n",
       "      <td>176</td>\n",
       "    </tr>\n",
       "    <tr>\n",
       "      <td>3</td>\n",
       "      <td>Low</td>\n",
       "      <td>Children</td>\n",
       "      <td>210</td>\n",
       "    </tr>\n",
       "    <tr>\n",
       "      <td>4</td>\n",
       "      <td>Moderate</td>\n",
       "      <td>Adult</td>\n",
       "      <td>99</td>\n",
       "    </tr>\n",
       "    <tr>\n",
       "      <td>5</td>\n",
       "      <td>Moderate</td>\n",
       "      <td>Children</td>\n",
       "      <td>26</td>\n",
       "    </tr>\n",
       "  </tbody>\n",
       "</table>\n",
       "</div>"
      ],
      "text/plain": [
       "  Obesity_Level Age_Group  Country_Count\n",
       "0          High     Adult             94\n",
       "1          High  Children             11\n",
       "2           Low     Adult            176\n",
       "3           Low  Children            210\n",
       "4      Moderate     Adult             99\n",
       "5      Moderate  Children             26"
      ]
     },
     "execution_count": 152,
     "metadata": {},
     "output_type": "execute_result"
    }
   ],
   "source": [
    "pd.read_sql_query(\"SELECT Obesity_Level,Age_Group,COUNT(DISTINCT Country) AS Country_Count FROM obesity GROUP BY Obesity_Level, Age_Group ORDER BY Obesity_Level, Age_Group\",myconnection)"
   ]
  },
  {
   "cell_type": "markdown",
   "metadata": {},
   "source": [
    "**6.Top 5 countries least reliable countries(with highest CI_Width) and Top 5 most consistent countries (smallest average CI_Width)**"
   ]
  },
  {
   "cell_type": "markdown",
   "metadata": {},
   "source": [
    "**Top 5 countries least reliable countries(with highest CI_Width)**"
   ]
  },
  {
   "cell_type": "code",
   "execution_count": 153,
   "metadata": {},
   "outputs": [
    {
     "data": {
      "text/html": [
       "<div>\n",
       "<style scoped>\n",
       "    .dataframe tbody tr th:only-of-type {\n",
       "        vertical-align: middle;\n",
       "    }\n",
       "\n",
       "    .dataframe tbody tr th {\n",
       "        vertical-align: top;\n",
       "    }\n",
       "\n",
       "    .dataframe thead th {\n",
       "        text-align: right;\n",
       "    }\n",
       "</style>\n",
       "<table border=\"1\" class=\"dataframe\">\n",
       "  <thead>\n",
       "    <tr style=\"text-align: right;\">\n",
       "      <th></th>\n",
       "      <th>Country</th>\n",
       "      <th>Average_CI</th>\n",
       "    </tr>\n",
       "  </thead>\n",
       "  <tbody>\n",
       "    <tr>\n",
       "      <td>0</td>\n",
       "      <td>Bermuda</td>\n",
       "      <td>24.593418</td>\n",
       "    </tr>\n",
       "    <tr>\n",
       "      <td>1</td>\n",
       "      <td>American Samoa</td>\n",
       "      <td>23.113530</td>\n",
       "    </tr>\n",
       "    <tr>\n",
       "      <td>2</td>\n",
       "      <td>Antigua and Barbuda</td>\n",
       "      <td>22.016214</td>\n",
       "    </tr>\n",
       "    <tr>\n",
       "      <td>3</td>\n",
       "      <td>Puerto Rico</td>\n",
       "      <td>21.698679</td>\n",
       "    </tr>\n",
       "    <tr>\n",
       "      <td>4</td>\n",
       "      <td>Grenada</td>\n",
       "      <td>21.458488</td>\n",
       "    </tr>\n",
       "  </tbody>\n",
       "</table>\n",
       "</div>"
      ],
      "text/plain": [
       "               Country  Average_CI\n",
       "0              Bermuda   24.593418\n",
       "1       American Samoa   23.113530\n",
       "2  Antigua and Barbuda   22.016214\n",
       "3          Puerto Rico   21.698679\n",
       "4              Grenada   21.458488"
      ]
     },
     "execution_count": 153,
     "metadata": {},
     "output_type": "execute_result"
    }
   ],
   "source": [
    "pd.read_sql_query(\"SELECT Country, AVG(CI_Width) AS Average_CI FROM obesity GROUP BY Country ORDER BY Average_CI DESC LIMIT 5\",myconnection)"
   ]
  },
  {
   "cell_type": "markdown",
   "metadata": {},
   "source": [
    "**Top 5 most consistent countries (smallest average CI_Width)**"
   ]
  },
  {
   "cell_type": "code",
   "execution_count": 154,
   "metadata": {},
   "outputs": [
    {
     "data": {
      "text/html": [
       "<div>\n",
       "<style scoped>\n",
       "    .dataframe tbody tr th:only-of-type {\n",
       "        vertical-align: middle;\n",
       "    }\n",
       "\n",
       "    .dataframe tbody tr th {\n",
       "        vertical-align: top;\n",
       "    }\n",
       "\n",
       "    .dataframe thead th {\n",
       "        text-align: right;\n",
       "    }\n",
       "</style>\n",
       "<table border=\"1\" class=\"dataframe\">\n",
       "  <thead>\n",
       "    <tr style=\"text-align: right;\">\n",
       "      <th></th>\n",
       "      <th>Country</th>\n",
       "      <th>Average_CI</th>\n",
       "    </tr>\n",
       "  </thead>\n",
       "  <tbody>\n",
       "    <tr>\n",
       "      <td>0</td>\n",
       "      <td>Global</td>\n",
       "      <td>0.708952</td>\n",
       "    </tr>\n",
       "    <tr>\n",
       "      <td>1</td>\n",
       "      <td>Low &amp; Middle Income</td>\n",
       "      <td>0.861059</td>\n",
       "    </tr>\n",
       "    <tr>\n",
       "      <td>2</td>\n",
       "      <td>South-East Asia Region</td>\n",
       "      <td>1.017775</td>\n",
       "    </tr>\n",
       "    <tr>\n",
       "      <td>3</td>\n",
       "      <td>India</td>\n",
       "      <td>1.140133</td>\n",
       "    </tr>\n",
       "    <tr>\n",
       "      <td>4</td>\n",
       "      <td>Japan</td>\n",
       "      <td>1.155902</td>\n",
       "    </tr>\n",
       "  </tbody>\n",
       "</table>\n",
       "</div>"
      ],
      "text/plain": [
       "                  Country  Average_CI\n",
       "0                  Global    0.708952\n",
       "1     Low & Middle Income    0.861059\n",
       "2  South-East Asia Region    1.017775\n",
       "3                   India    1.140133\n",
       "4                   Japan    1.155902"
      ]
     },
     "execution_count": 154,
     "metadata": {},
     "output_type": "execute_result"
    }
   ],
   "source": [
    "pd.read_sql_query(\"SELECT Country, AVG(CI_Width) AS Average_CI FROM obesity GROUP BY Country ORDER BY Average_CI ASC LIMIT 5\",myconnection)"
   ]
  },
  {
   "cell_type": "markdown",
   "metadata": {},
   "source": [
    "**7.Average obesity by age group**"
   ]
  },
  {
   "cell_type": "code",
   "execution_count": 155,
   "metadata": {},
   "outputs": [
    {
     "data": {
      "text/html": [
       "<div>\n",
       "<style scoped>\n",
       "    .dataframe tbody tr th:only-of-type {\n",
       "        vertical-align: middle;\n",
       "    }\n",
       "\n",
       "    .dataframe tbody tr th {\n",
       "        vertical-align: top;\n",
       "    }\n",
       "\n",
       "    .dataframe thead th {\n",
       "        text-align: right;\n",
       "    }\n",
       "</style>\n",
       "<table border=\"1\" class=\"dataframe\">\n",
       "  <thead>\n",
       "    <tr style=\"text-align: right;\">\n",
       "      <th></th>\n",
       "      <th>Age_group</th>\n",
       "      <th>Average_Obesity</th>\n",
       "    </tr>\n",
       "  </thead>\n",
       "  <tbody>\n",
       "    <tr>\n",
       "      <td>0</td>\n",
       "      <td>Adult</td>\n",
       "      <td>21.833224</td>\n",
       "    </tr>\n",
       "    <tr>\n",
       "      <td>1</td>\n",
       "      <td>Children</td>\n",
       "      <td>9.736980</td>\n",
       "    </tr>\n",
       "  </tbody>\n",
       "</table>\n",
       "</div>"
      ],
      "text/plain": [
       "  Age_group  Average_Obesity\n",
       "0     Adult        21.833224\n",
       "1  Children         9.736980"
      ]
     },
     "execution_count": 155,
     "metadata": {},
     "output_type": "execute_result"
    }
   ],
   "source": [
    "pd.read_sql_query(\"SELECT Age_group, AVG(Mean_Estimate) AS Average_Obesity FROM obesity GROUP BY age_group\",myconnection)"
   ]
  },
  {
   "cell_type": "markdown",
   "metadata": {},
   "source": [
    "**8.Top 10 Countries with consistent low obesity (low average + low CI)over the years**"
   ]
  },
  {
   "cell_type": "code",
   "execution_count": 156,
   "metadata": {},
   "outputs": [
    {
     "data": {
      "text/html": [
       "<div>\n",
       "<style scoped>\n",
       "    .dataframe tbody tr th:only-of-type {\n",
       "        vertical-align: middle;\n",
       "    }\n",
       "\n",
       "    .dataframe tbody tr th {\n",
       "        vertical-align: top;\n",
       "    }\n",
       "\n",
       "    .dataframe thead th {\n",
       "        text-align: right;\n",
       "    }\n",
       "</style>\n",
       "<table border=\"1\" class=\"dataframe\">\n",
       "  <thead>\n",
       "    <tr style=\"text-align: right;\">\n",
       "      <th></th>\n",
       "      <th>Country</th>\n",
       "      <th>Avg_Obesity</th>\n",
       "      <th>Avg_CI</th>\n",
       "    </tr>\n",
       "  </thead>\n",
       "  <tbody>\n",
       "    <tr>\n",
       "      <td>0</td>\n",
       "      <td>Timor-Leste</td>\n",
       "      <td>0.994067</td>\n",
       "      <td>1.273569</td>\n",
       "    </tr>\n",
       "    <tr>\n",
       "      <td>1</td>\n",
       "      <td>Ethiopia</td>\n",
       "      <td>1.491995</td>\n",
       "      <td>1.589414</td>\n",
       "    </tr>\n",
       "    <tr>\n",
       "      <td>2</td>\n",
       "      <td>Burkina Faso</td>\n",
       "      <td>1.721496</td>\n",
       "      <td>1.531514</td>\n",
       "    </tr>\n",
       "    <tr>\n",
       "      <td>3</td>\n",
       "      <td>Rwanda</td>\n",
       "      <td>1.767194</td>\n",
       "      <td>2.360578</td>\n",
       "    </tr>\n",
       "    <tr>\n",
       "      <td>4</td>\n",
       "      <td>Bangladesh</td>\n",
       "      <td>1.976673</td>\n",
       "      <td>1.663507</td>\n",
       "    </tr>\n",
       "    <tr>\n",
       "      <td>5</td>\n",
       "      <td>Madagascar</td>\n",
       "      <td>1.984110</td>\n",
       "      <td>4.356886</td>\n",
       "    </tr>\n",
       "    <tr>\n",
       "      <td>6</td>\n",
       "      <td>Malawi</td>\n",
       "      <td>2.391324</td>\n",
       "      <td>2.632713</td>\n",
       "    </tr>\n",
       "    <tr>\n",
       "      <td>7</td>\n",
       "      <td>Nepal</td>\n",
       "      <td>2.494255</td>\n",
       "      <td>3.098051</td>\n",
       "    </tr>\n",
       "    <tr>\n",
       "      <td>8</td>\n",
       "      <td>Mozambique</td>\n",
       "      <td>2.772244</td>\n",
       "      <td>2.764630</td>\n",
       "    </tr>\n",
       "    <tr>\n",
       "      <td>9</td>\n",
       "      <td>Niger</td>\n",
       "      <td>3.080739</td>\n",
       "      <td>4.666968</td>\n",
       "    </tr>\n",
       "  </tbody>\n",
       "</table>\n",
       "</div>"
      ],
      "text/plain": [
       "        Country  Avg_Obesity    Avg_CI\n",
       "0   Timor-Leste     0.994067  1.273569\n",
       "1      Ethiopia     1.491995  1.589414\n",
       "2  Burkina Faso     1.721496  1.531514\n",
       "3        Rwanda     1.767194  2.360578\n",
       "4    Bangladesh     1.976673  1.663507\n",
       "5    Madagascar     1.984110  4.356886\n",
       "6        Malawi     2.391324  2.632713\n",
       "7         Nepal     2.494255  3.098051\n",
       "8    Mozambique     2.772244  2.764630\n",
       "9         Niger     3.080739  4.666968"
      ]
     },
     "execution_count": 156,
     "metadata": {},
     "output_type": "execute_result"
    }
   ],
   "source": [
    "pd.read_sql_query(\"SELECT Country, AVG(Mean_Estimate) AS Avg_Obesity, AVG(CI_Width) AS Avg_CI FROM obesity GROUP BY Country HAVING Avg_Obesity < 10 AND Avg_CI < 5 ORDER BY Avg_Obesity ASC LIMIT 10\",myconnection)"
   ]
  },
  {
   "cell_type": "markdown",
   "metadata": {},
   "source": [
    "**9.Countries where female obesity exceeds male by large margin (same year)**"
   ]
  },
  {
   "cell_type": "code",
   "execution_count": 157,
   "metadata": {},
   "outputs": [
    {
     "data": {
      "text/html": [
       "<div>\n",
       "<style scoped>\n",
       "    .dataframe tbody tr th:only-of-type {\n",
       "        vertical-align: middle;\n",
       "    }\n",
       "\n",
       "    .dataframe tbody tr th {\n",
       "        vertical-align: top;\n",
       "    }\n",
       "\n",
       "    .dataframe thead th {\n",
       "        text-align: right;\n",
       "    }\n",
       "</style>\n",
       "<table border=\"1\" class=\"dataframe\">\n",
       "  <thead>\n",
       "    <tr style=\"text-align: right;\">\n",
       "      <th></th>\n",
       "      <th>Country</th>\n",
       "      <th>Avg_Difference</th>\n",
       "    </tr>\n",
       "  </thead>\n",
       "  <tbody>\n",
       "    <tr>\n",
       "      <td>0</td>\n",
       "      <td>Bahamas</td>\n",
       "      <td>7.110319</td>\n",
       "    </tr>\n",
       "    <tr>\n",
       "      <td>1</td>\n",
       "      <td>Iraq</td>\n",
       "      <td>6.218424</td>\n",
       "    </tr>\n",
       "    <tr>\n",
       "      <td>2</td>\n",
       "      <td>Saint Vincent and the Grenadines</td>\n",
       "      <td>5.804739</td>\n",
       "    </tr>\n",
       "    <tr>\n",
       "      <td>3</td>\n",
       "      <td>Egypt</td>\n",
       "      <td>5.736947</td>\n",
       "    </tr>\n",
       "    <tr>\n",
       "      <td>4</td>\n",
       "      <td>Mauritania</td>\n",
       "      <td>5.468251</td>\n",
       "    </tr>\n",
       "    <tr>\n",
       "      <td>5</td>\n",
       "      <td>South Africa</td>\n",
       "      <td>5.459567</td>\n",
       "    </tr>\n",
       "    <tr>\n",
       "      <td>6</td>\n",
       "      <td>Lesotho</td>\n",
       "      <td>5.007415</td>\n",
       "    </tr>\n",
       "    <tr>\n",
       "      <td>7</td>\n",
       "      <td>Jamaica</td>\n",
       "      <td>4.593305</td>\n",
       "    </tr>\n",
       "    <tr>\n",
       "      <td>8</td>\n",
       "      <td>Eswatini</td>\n",
       "      <td>4.186110</td>\n",
       "    </tr>\n",
       "    <tr>\n",
       "      <td>9</td>\n",
       "      <td>Dominica</td>\n",
       "      <td>4.134254</td>\n",
       "    </tr>\n",
       "  </tbody>\n",
       "</table>\n",
       "</div>"
      ],
      "text/plain": [
       "                            Country  Avg_Difference\n",
       "0                           Bahamas        7.110319\n",
       "1                              Iraq        6.218424\n",
       "2  Saint Vincent and the Grenadines        5.804739\n",
       "3                             Egypt        5.736947\n",
       "4                        Mauritania        5.468251\n",
       "5                      South Africa        5.459567\n",
       "6                           Lesotho        5.007415\n",
       "7                           Jamaica        4.593305\n",
       "8                          Eswatini        4.186110\n",
       "9                          Dominica        4.134254"
      ]
     },
     "execution_count": 157,
     "metadata": {},
     "output_type": "execute_result"
    }
   ],
   "source": [
    "pd.read_sql_query(\"SELECT ob1.Country,AVG(ob1.Mean_Estimate - ob2.Mean_Estimate) AS Avg_Difference FROM obesity as ob1 JOIN obesity as ob2 ON ob1.Country = ob2.Country AND ob1.Year = ob2.Year AND ob1.age_group = ob2.age_group WHERE ob1.Gender = 'Female' AND ob2.Gender = 'Male' GROUP BY ob1.Country ORDER BY Avg_Difference DESC LIMIT 10\",myconnection)"
   ]
  },
  {
   "cell_type": "markdown",
   "metadata": {},
   "source": [
    "**10.Global average obesity percentage per year**"
   ]
  },
  {
   "cell_type": "code",
   "execution_count": 158,
   "metadata": {},
   "outputs": [
    {
     "data": {
      "text/html": [
       "<div>\n",
       "<style scoped>\n",
       "    .dataframe tbody tr th:only-of-type {\n",
       "        vertical-align: middle;\n",
       "    }\n",
       "\n",
       "    .dataframe tbody tr th {\n",
       "        vertical-align: top;\n",
       "    }\n",
       "\n",
       "    .dataframe thead th {\n",
       "        text-align: right;\n",
       "    }\n",
       "</style>\n",
       "<table border=\"1\" class=\"dataframe\">\n",
       "  <thead>\n",
       "    <tr style=\"text-align: right;\">\n",
       "      <th></th>\n",
       "      <th>Year</th>\n",
       "      <th>Global_Avg_Obesity</th>\n",
       "    </tr>\n",
       "  </thead>\n",
       "  <tbody>\n",
       "    <tr>\n",
       "      <td>0</td>\n",
       "      <td>2012</td>\n",
       "      <td>11.061970</td>\n",
       "    </tr>\n",
       "    <tr>\n",
       "      <td>1</td>\n",
       "      <td>2013</td>\n",
       "      <td>11.359638</td>\n",
       "    </tr>\n",
       "    <tr>\n",
       "      <td>2</td>\n",
       "      <td>2014</td>\n",
       "      <td>11.670344</td>\n",
       "    </tr>\n",
       "    <tr>\n",
       "      <td>3</td>\n",
       "      <td>2015</td>\n",
       "      <td>11.994231</td>\n",
       "    </tr>\n",
       "    <tr>\n",
       "      <td>4</td>\n",
       "      <td>2016</td>\n",
       "      <td>12.333907</td>\n",
       "    </tr>\n",
       "    <tr>\n",
       "      <td>5</td>\n",
       "      <td>2017</td>\n",
       "      <td>12.689997</td>\n",
       "    </tr>\n",
       "    <tr>\n",
       "      <td>6</td>\n",
       "      <td>2018</td>\n",
       "      <td>13.060297</td>\n",
       "    </tr>\n",
       "    <tr>\n",
       "      <td>7</td>\n",
       "      <td>2019</td>\n",
       "      <td>13.444604</td>\n",
       "    </tr>\n",
       "    <tr>\n",
       "      <td>8</td>\n",
       "      <td>2020</td>\n",
       "      <td>13.843002</td>\n",
       "    </tr>\n",
       "    <tr>\n",
       "      <td>9</td>\n",
       "      <td>2021</td>\n",
       "      <td>14.250923</td>\n",
       "    </tr>\n",
       "    <tr>\n",
       "      <td>10</td>\n",
       "      <td>2022</td>\n",
       "      <td>14.662533</td>\n",
       "    </tr>\n",
       "  </tbody>\n",
       "</table>\n",
       "</div>"
      ],
      "text/plain": [
       "    Year  Global_Avg_Obesity\n",
       "0   2012           11.061970\n",
       "1   2013           11.359638\n",
       "2   2014           11.670344\n",
       "3   2015           11.994231\n",
       "4   2016           12.333907\n",
       "5   2017           12.689997\n",
       "6   2018           13.060297\n",
       "7   2019           13.444604\n",
       "8   2020           13.843002\n",
       "9   2021           14.250923\n",
       "10  2022           14.662533"
      ]
     },
     "execution_count": 158,
     "metadata": {},
     "output_type": "execute_result"
    }
   ],
   "source": [
    "pd.read_sql_query(\"SELECT Year, AVG(Mean_Estimate) AS Global_Avg_Obesity FROM obesity GROUP BY Year ORDER BY Year\",myconnection)"
   ]
  },
  {
   "cell_type": "markdown",
   "metadata": {},
   "source": [
    "### REGARDING MALNUTRITION TABLE"
   ]
  },
  {
   "cell_type": "markdown",
   "metadata": {},
   "source": [
    "**1.Avg.malnutrition by age group**"
   ]
  },
  {
   "cell_type": "code",
   "execution_count": 159,
   "metadata": {},
   "outputs": [
    {
     "data": {
      "text/html": [
       "<div>\n",
       "<style scoped>\n",
       "    .dataframe tbody tr th:only-of-type {\n",
       "        vertical-align: middle;\n",
       "    }\n",
       "\n",
       "    .dataframe tbody tr th {\n",
       "        vertical-align: top;\n",
       "    }\n",
       "\n",
       "    .dataframe thead th {\n",
       "        text-align: right;\n",
       "    }\n",
       "</style>\n",
       "<table border=\"1\" class=\"dataframe\">\n",
       "  <thead>\n",
       "    <tr style=\"text-align: right;\">\n",
       "      <th></th>\n",
       "      <th>Age_group</th>\n",
       "      <th>Average_Malnutrition</th>\n",
       "    </tr>\n",
       "  </thead>\n",
       "  <tbody>\n",
       "    <tr>\n",
       "      <td>0</td>\n",
       "      <td>Adult</td>\n",
       "      <td>5.940619</td>\n",
       "    </tr>\n",
       "    <tr>\n",
       "      <td>1</td>\n",
       "      <td>Children</td>\n",
       "      <td>5.159062</td>\n",
       "    </tr>\n",
       "  </tbody>\n",
       "</table>\n",
       "</div>"
      ],
      "text/plain": [
       "  Age_group  Average_Malnutrition\n",
       "0     Adult              5.940619\n",
       "1  Children              5.159062"
      ]
     },
     "execution_count": 159,
     "metadata": {},
     "output_type": "execute_result"
    }
   ],
   "source": [
    "pd.read_sql_query(\"SELECT Age_group, AVG(Mean_Estimate) AS Average_Malnutrition FROM malnutrition GROUP BY Age_group\",myconnection)"
   ]
  },
  {
   "cell_type": "markdown",
   "metadata": {},
   "source": [
    "**2.Top 5 countries with highest malnutrition(mean_estimate)**"
   ]
  },
  {
   "cell_type": "code",
   "execution_count": 160,
   "metadata": {},
   "outputs": [
    {
     "data": {
      "text/html": [
       "<div>\n",
       "<style scoped>\n",
       "    .dataframe tbody tr th:only-of-type {\n",
       "        vertical-align: middle;\n",
       "    }\n",
       "\n",
       "    .dataframe tbody tr th {\n",
       "        vertical-align: top;\n",
       "    }\n",
       "\n",
       "    .dataframe thead th {\n",
       "        text-align: right;\n",
       "    }\n",
       "</style>\n",
       "<table border=\"1\" class=\"dataframe\">\n",
       "  <thead>\n",
       "    <tr style=\"text-align: right;\">\n",
       "      <th></th>\n",
       "      <th>Country</th>\n",
       "      <th>Maximum_Malnutrition</th>\n",
       "    </tr>\n",
       "  </thead>\n",
       "  <tbody>\n",
       "    <tr>\n",
       "      <td>0</td>\n",
       "      <td>Eritrea</td>\n",
       "      <td>35.8941</td>\n",
       "    </tr>\n",
       "    <tr>\n",
       "      <td>1</td>\n",
       "      <td>India</td>\n",
       "      <td>31.9008</td>\n",
       "    </tr>\n",
       "    <tr>\n",
       "      <td>2</td>\n",
       "      <td>Ethiopia</td>\n",
       "      <td>29.3041</td>\n",
       "    </tr>\n",
       "    <tr>\n",
       "      <td>3</td>\n",
       "      <td>Timor-Leste</td>\n",
       "      <td>27.6195</td>\n",
       "    </tr>\n",
       "    <tr>\n",
       "      <td>4</td>\n",
       "      <td>South-East Asia Region</td>\n",
       "      <td>27.4597</td>\n",
       "    </tr>\n",
       "  </tbody>\n",
       "</table>\n",
       "</div>"
      ],
      "text/plain": [
       "                  Country  Maximum_Malnutrition\n",
       "0                 Eritrea               35.8941\n",
       "1                   India               31.9008\n",
       "2                Ethiopia               29.3041\n",
       "3             Timor-Leste               27.6195\n",
       "4  South-East Asia Region               27.4597"
      ]
     },
     "execution_count": 160,
     "metadata": {},
     "output_type": "execute_result"
    }
   ],
   "source": [
    "pd.read_sql_query(\"SELECT Country, MAX(Mean_Estimate) AS Maximum_Malnutrition FROM malnutrition GROUP BY Country ORDER BY Maximum_Malnutrition DESC LIMIT 5\",myconnection)"
   ]
  },
  {
   "cell_type": "markdown",
   "metadata": {},
   "source": [
    "**3.Malnutrition trend in African region over the years**"
   ]
  },
  {
   "cell_type": "code",
   "execution_count": 161,
   "metadata": {},
   "outputs": [
    {
     "data": {
      "text/html": [
       "<div>\n",
       "<style scoped>\n",
       "    .dataframe tbody tr th:only-of-type {\n",
       "        vertical-align: middle;\n",
       "    }\n",
       "\n",
       "    .dataframe tbody tr th {\n",
       "        vertical-align: top;\n",
       "    }\n",
       "\n",
       "    .dataframe thead th {\n",
       "        text-align: right;\n",
       "    }\n",
       "</style>\n",
       "<table border=\"1\" class=\"dataframe\">\n",
       "  <thead>\n",
       "    <tr style=\"text-align: right;\">\n",
       "      <th></th>\n",
       "      <th>Year</th>\n",
       "      <th>Average_Malnutrition</th>\n",
       "    </tr>\n",
       "  </thead>\n",
       "  <tbody>\n",
       "    <tr>\n",
       "      <td>0</td>\n",
       "      <td>2012</td>\n",
       "      <td>8.832788</td>\n",
       "    </tr>\n",
       "    <tr>\n",
       "      <td>1</td>\n",
       "      <td>2013</td>\n",
       "      <td>8.850308</td>\n",
       "    </tr>\n",
       "    <tr>\n",
       "      <td>2</td>\n",
       "      <td>2014</td>\n",
       "      <td>8.674850</td>\n",
       "    </tr>\n",
       "    <tr>\n",
       "      <td>3</td>\n",
       "      <td>2015</td>\n",
       "      <td>8.589475</td>\n",
       "    </tr>\n",
       "    <tr>\n",
       "      <td>4</td>\n",
       "      <td>2016</td>\n",
       "      <td>8.445991</td>\n",
       "    </tr>\n",
       "    <tr>\n",
       "      <td>5</td>\n",
       "      <td>2017</td>\n",
       "      <td>8.456211</td>\n",
       "    </tr>\n",
       "    <tr>\n",
       "      <td>6</td>\n",
       "      <td>2018</td>\n",
       "      <td>8.411776</td>\n",
       "    </tr>\n",
       "    <tr>\n",
       "      <td>7</td>\n",
       "      <td>2019</td>\n",
       "      <td>8.264820</td>\n",
       "    </tr>\n",
       "    <tr>\n",
       "      <td>8</td>\n",
       "      <td>2020</td>\n",
       "      <td>8.297686</td>\n",
       "    </tr>\n",
       "    <tr>\n",
       "      <td>9</td>\n",
       "      <td>2021</td>\n",
       "      <td>8.299303</td>\n",
       "    </tr>\n",
       "    <tr>\n",
       "      <td>10</td>\n",
       "      <td>2022</td>\n",
       "      <td>8.203679</td>\n",
       "    </tr>\n",
       "  </tbody>\n",
       "</table>\n",
       "</div>"
      ],
      "text/plain": [
       "    Year  Average_Malnutrition\n",
       "0   2012              8.832788\n",
       "1   2013              8.850308\n",
       "2   2014              8.674850\n",
       "3   2015              8.589475\n",
       "4   2016              8.445991\n",
       "5   2017              8.456211\n",
       "6   2018              8.411776\n",
       "7   2019              8.264820\n",
       "8   2020              8.297686\n",
       "9   2021              8.299303\n",
       "10  2022              8.203679"
      ]
     },
     "execution_count": 161,
     "metadata": {},
     "output_type": "execute_result"
    }
   ],
   "source": [
    "pd.read_sql_query(\"SELECT Year, AVG(Mean_Estimate) AS Average_Malnutrition FROM malnutrition WHERE Region = 'Africa' GROUP BY Year ORDER BY Year\",myconnection)"
   ]
  },
  {
   "cell_type": "markdown",
   "metadata": {},
   "source": [
    "**4.Gender-based average malnutrition**"
   ]
  },
  {
   "cell_type": "code",
   "execution_count": 162,
   "metadata": {},
   "outputs": [
    {
     "data": {
      "text/html": [
       "<div>\n",
       "<style scoped>\n",
       "    .dataframe tbody tr th:only-of-type {\n",
       "        vertical-align: middle;\n",
       "    }\n",
       "\n",
       "    .dataframe tbody tr th {\n",
       "        vertical-align: top;\n",
       "    }\n",
       "\n",
       "    .dataframe thead th {\n",
       "        text-align: right;\n",
       "    }\n",
       "</style>\n",
       "<table border=\"1\" class=\"dataframe\">\n",
       "  <thead>\n",
       "    <tr style=\"text-align: right;\">\n",
       "      <th></th>\n",
       "      <th>Gender</th>\n",
       "      <th>Average_Malnutrition</th>\n",
       "    </tr>\n",
       "  </thead>\n",
       "  <tbody>\n",
       "    <tr>\n",
       "      <td>0</td>\n",
       "      <td>Female</td>\n",
       "      <td>4.675483</td>\n",
       "    </tr>\n",
       "    <tr>\n",
       "      <td>1</td>\n",
       "      <td>Male</td>\n",
       "      <td>6.026317</td>\n",
       "    </tr>\n",
       "    <tr>\n",
       "      <td>2</td>\n",
       "      <td>Both</td>\n",
       "      <td>5.361553</td>\n",
       "    </tr>\n",
       "  </tbody>\n",
       "</table>\n",
       "</div>"
      ],
      "text/plain": [
       "   Gender  Average_Malnutrition\n",
       "0  Female              4.675483\n",
       "1    Male              6.026317\n",
       "2    Both              5.361553"
      ]
     },
     "execution_count": 162,
     "metadata": {},
     "output_type": "execute_result"
    }
   ],
   "source": [
    "pd.read_sql_query(\"SELECT Gender, AVG(Mean_Estimate) AS Average_Malnutrition FROM malnutrition GROUP BY Gender\",myconnection)"
   ]
  },
  {
   "cell_type": "markdown",
   "metadata": {},
   "source": [
    "**5.Malnutrition level-wise (average CI_Width by age group)**"
   ]
  },
  {
   "cell_type": "code",
   "execution_count": 163,
   "metadata": {},
   "outputs": [
    {
     "data": {
      "text/html": [
       "<div>\n",
       "<style scoped>\n",
       "    .dataframe tbody tr th:only-of-type {\n",
       "        vertical-align: middle;\n",
       "    }\n",
       "\n",
       "    .dataframe tbody tr th {\n",
       "        vertical-align: top;\n",
       "    }\n",
       "\n",
       "    .dataframe thead th {\n",
       "        text-align: right;\n",
       "    }\n",
       "</style>\n",
       "<table border=\"1\" class=\"dataframe\">\n",
       "  <thead>\n",
       "    <tr style=\"text-align: right;\">\n",
       "      <th></th>\n",
       "      <th>Malnutrition_Level</th>\n",
       "      <th>Age_group</th>\n",
       "      <th>Average_CI_Width</th>\n",
       "    </tr>\n",
       "  </thead>\n",
       "  <tbody>\n",
       "    <tr>\n",
       "      <td>0</td>\n",
       "      <td>Moderate</td>\n",
       "      <td>Adult</td>\n",
       "      <td>7.639442</td>\n",
       "    </tr>\n",
       "    <tr>\n",
       "      <td>1</td>\n",
       "      <td>Low</td>\n",
       "      <td>Adult</td>\n",
       "      <td>2.635897</td>\n",
       "    </tr>\n",
       "    <tr>\n",
       "      <td>2</td>\n",
       "      <td>High</td>\n",
       "      <td>Adult</td>\n",
       "      <td>9.253292</td>\n",
       "    </tr>\n",
       "    <tr>\n",
       "      <td>3</td>\n",
       "      <td>Low</td>\n",
       "      <td>Children</td>\n",
       "      <td>4.437167</td>\n",
       "    </tr>\n",
       "    <tr>\n",
       "      <td>4</td>\n",
       "      <td>Moderate</td>\n",
       "      <td>Children</td>\n",
       "      <td>9.891133</td>\n",
       "    </tr>\n",
       "    <tr>\n",
       "      <td>5</td>\n",
       "      <td>High</td>\n",
       "      <td>Children</td>\n",
       "      <td>7.876140</td>\n",
       "    </tr>\n",
       "  </tbody>\n",
       "</table>\n",
       "</div>"
      ],
      "text/plain": [
       "  Malnutrition_Level Age_group  Average_CI_Width\n",
       "0           Moderate     Adult          7.639442\n",
       "1                Low     Adult          2.635897\n",
       "2               High     Adult          9.253292\n",
       "3                Low  Children          4.437167\n",
       "4           Moderate  Children          9.891133\n",
       "5               High  Children          7.876140"
      ]
     },
     "execution_count": 163,
     "metadata": {},
     "output_type": "execute_result"
    }
   ],
   "source": [
    "pd.read_sql_query(\"SELECT Malnutrition_Level, Age_group, AVG(CI_Width) AS Average_CI_Width FROM malnutrition GROUP BY Malnutrition_Level, Age_group\",myconnection)"
   ]
  },
  {
   "cell_type": "markdown",
   "metadata": {},
   "source": [
    "**6.Yearly malnutrition change in specific countries(India, Nigeria, Brazil)**"
   ]
  },
  {
   "cell_type": "code",
   "execution_count": 164,
   "metadata": {},
   "outputs": [
    {
     "data": {
      "text/html": [
       "<div>\n",
       "<style scoped>\n",
       "    .dataframe tbody tr th:only-of-type {\n",
       "        vertical-align: middle;\n",
       "    }\n",
       "\n",
       "    .dataframe tbody tr th {\n",
       "        vertical-align: top;\n",
       "    }\n",
       "\n",
       "    .dataframe thead th {\n",
       "        text-align: right;\n",
       "    }\n",
       "</style>\n",
       "<table border=\"1\" class=\"dataframe\">\n",
       "  <thead>\n",
       "    <tr style=\"text-align: right;\">\n",
       "      <th></th>\n",
       "      <th>Country</th>\n",
       "      <th>Year</th>\n",
       "      <th>Average_Malnutrition</th>\n",
       "    </tr>\n",
       "  </thead>\n",
       "  <tbody>\n",
       "    <tr>\n",
       "      <td>0</td>\n",
       "      <td>Brazil</td>\n",
       "      <td>2012</td>\n",
       "      <td>2.838653</td>\n",
       "    </tr>\n",
       "    <tr>\n",
       "      <td>1</td>\n",
       "      <td>Brazil</td>\n",
       "      <td>2013</td>\n",
       "      <td>2.781387</td>\n",
       "    </tr>\n",
       "    <tr>\n",
       "      <td>2</td>\n",
       "      <td>Brazil</td>\n",
       "      <td>2014</td>\n",
       "      <td>2.735034</td>\n",
       "    </tr>\n",
       "    <tr>\n",
       "      <td>3</td>\n",
       "      <td>Brazil</td>\n",
       "      <td>2015</td>\n",
       "      <td>2.698948</td>\n",
       "    </tr>\n",
       "    <tr>\n",
       "      <td>4</td>\n",
       "      <td>Brazil</td>\n",
       "      <td>2016</td>\n",
       "      <td>2.672242</td>\n",
       "    </tr>\n",
       "    <tr>\n",
       "      <td>5</td>\n",
       "      <td>Brazil</td>\n",
       "      <td>2017</td>\n",
       "      <td>2.653567</td>\n",
       "    </tr>\n",
       "    <tr>\n",
       "      <td>6</td>\n",
       "      <td>Brazil</td>\n",
       "      <td>2018</td>\n",
       "      <td>2.641574</td>\n",
       "    </tr>\n",
       "    <tr>\n",
       "      <td>7</td>\n",
       "      <td>Brazil</td>\n",
       "      <td>2019</td>\n",
       "      <td>2.634596</td>\n",
       "    </tr>\n",
       "    <tr>\n",
       "      <td>8</td>\n",
       "      <td>Brazil</td>\n",
       "      <td>2020</td>\n",
       "      <td>2.629412</td>\n",
       "    </tr>\n",
       "    <tr>\n",
       "      <td>9</td>\n",
       "      <td>Brazil</td>\n",
       "      <td>2021</td>\n",
       "      <td>2.626638</td>\n",
       "    </tr>\n",
       "    <tr>\n",
       "      <td>10</td>\n",
       "      <td>Brazil</td>\n",
       "      <td>2022</td>\n",
       "      <td>2.626852</td>\n",
       "    </tr>\n",
       "    <tr>\n",
       "      <td>11</td>\n",
       "      <td>India</td>\n",
       "      <td>2012</td>\n",
       "      <td>25.192437</td>\n",
       "    </tr>\n",
       "    <tr>\n",
       "      <td>12</td>\n",
       "      <td>India</td>\n",
       "      <td>2013</td>\n",
       "      <td>24.608118</td>\n",
       "    </tr>\n",
       "    <tr>\n",
       "      <td>13</td>\n",
       "      <td>India</td>\n",
       "      <td>2014</td>\n",
       "      <td>24.013358</td>\n",
       "    </tr>\n",
       "    <tr>\n",
       "      <td>14</td>\n",
       "      <td>India</td>\n",
       "      <td>2015</td>\n",
       "      <td>23.399620</td>\n",
       "    </tr>\n",
       "    <tr>\n",
       "      <td>15</td>\n",
       "      <td>India</td>\n",
       "      <td>2016</td>\n",
       "      <td>22.771375</td>\n",
       "    </tr>\n",
       "    <tr>\n",
       "      <td>16</td>\n",
       "      <td>India</td>\n",
       "      <td>2017</td>\n",
       "      <td>22.140418</td>\n",
       "    </tr>\n",
       "    <tr>\n",
       "      <td>17</td>\n",
       "      <td>India</td>\n",
       "      <td>2018</td>\n",
       "      <td>21.511675</td>\n",
       "    </tr>\n",
       "    <tr>\n",
       "      <td>18</td>\n",
       "      <td>India</td>\n",
       "      <td>2019</td>\n",
       "      <td>20.887198</td>\n",
       "    </tr>\n",
       "    <tr>\n",
       "      <td>19</td>\n",
       "      <td>India</td>\n",
       "      <td>2020</td>\n",
       "      <td>20.273681</td>\n",
       "    </tr>\n",
       "    <tr>\n",
       "      <td>20</td>\n",
       "      <td>India</td>\n",
       "      <td>2021</td>\n",
       "      <td>19.676078</td>\n",
       "    </tr>\n",
       "    <tr>\n",
       "      <td>21</td>\n",
       "      <td>India</td>\n",
       "      <td>2022</td>\n",
       "      <td>19.092014</td>\n",
       "    </tr>\n",
       "    <tr>\n",
       "      <td>22</td>\n",
       "      <td>Nigeria</td>\n",
       "      <td>2012</td>\n",
       "      <td>11.248457</td>\n",
       "    </tr>\n",
       "    <tr>\n",
       "      <td>23</td>\n",
       "      <td>Nigeria</td>\n",
       "      <td>2013</td>\n",
       "      <td>11.316422</td>\n",
       "    </tr>\n",
       "    <tr>\n",
       "      <td>24</td>\n",
       "      <td>Nigeria</td>\n",
       "      <td>2014</td>\n",
       "      <td>11.416175</td>\n",
       "    </tr>\n",
       "    <tr>\n",
       "      <td>25</td>\n",
       "      <td>Nigeria</td>\n",
       "      <td>2015</td>\n",
       "      <td>11.541387</td>\n",
       "    </tr>\n",
       "    <tr>\n",
       "      <td>26</td>\n",
       "      <td>Nigeria</td>\n",
       "      <td>2016</td>\n",
       "      <td>11.686107</td>\n",
       "    </tr>\n",
       "    <tr>\n",
       "      <td>27</td>\n",
       "      <td>Nigeria</td>\n",
       "      <td>2017</td>\n",
       "      <td>11.842103</td>\n",
       "    </tr>\n",
       "    <tr>\n",
       "      <td>28</td>\n",
       "      <td>Nigeria</td>\n",
       "      <td>2018</td>\n",
       "      <td>12.001993</td>\n",
       "    </tr>\n",
       "    <tr>\n",
       "      <td>29</td>\n",
       "      <td>Nigeria</td>\n",
       "      <td>2019</td>\n",
       "      <td>12.168213</td>\n",
       "    </tr>\n",
       "    <tr>\n",
       "      <td>30</td>\n",
       "      <td>Nigeria</td>\n",
       "      <td>2020</td>\n",
       "      <td>12.340928</td>\n",
       "    </tr>\n",
       "    <tr>\n",
       "      <td>31</td>\n",
       "      <td>Nigeria</td>\n",
       "      <td>2021</td>\n",
       "      <td>12.519244</td>\n",
       "    </tr>\n",
       "    <tr>\n",
       "      <td>32</td>\n",
       "      <td>Nigeria</td>\n",
       "      <td>2022</td>\n",
       "      <td>12.700027</td>\n",
       "    </tr>\n",
       "  </tbody>\n",
       "</table>\n",
       "</div>"
      ],
      "text/plain": [
       "    Country  Year  Average_Malnutrition\n",
       "0    Brazil  2012              2.838653\n",
       "1    Brazil  2013              2.781387\n",
       "2    Brazil  2014              2.735034\n",
       "3    Brazil  2015              2.698948\n",
       "4    Brazil  2016              2.672242\n",
       "5    Brazil  2017              2.653567\n",
       "6    Brazil  2018              2.641574\n",
       "7    Brazil  2019              2.634596\n",
       "8    Brazil  2020              2.629412\n",
       "9    Brazil  2021              2.626638\n",
       "10   Brazil  2022              2.626852\n",
       "11    India  2012             25.192437\n",
       "12    India  2013             24.608118\n",
       "13    India  2014             24.013358\n",
       "14    India  2015             23.399620\n",
       "15    India  2016             22.771375\n",
       "16    India  2017             22.140418\n",
       "17    India  2018             21.511675\n",
       "18    India  2019             20.887198\n",
       "19    India  2020             20.273681\n",
       "20    India  2021             19.676078\n",
       "21    India  2022             19.092014\n",
       "22  Nigeria  2012             11.248457\n",
       "23  Nigeria  2013             11.316422\n",
       "24  Nigeria  2014             11.416175\n",
       "25  Nigeria  2015             11.541387\n",
       "26  Nigeria  2016             11.686107\n",
       "27  Nigeria  2017             11.842103\n",
       "28  Nigeria  2018             12.001993\n",
       "29  Nigeria  2019             12.168213\n",
       "30  Nigeria  2020             12.340928\n",
       "31  Nigeria  2021             12.519244\n",
       "32  Nigeria  2022             12.700027"
      ]
     },
     "execution_count": 164,
     "metadata": {},
     "output_type": "execute_result"
    }
   ],
   "source": [
    "pd.read_sql_query(\"SELECT Country, Year, AVG(Mean_Estimate) AS Average_Malnutrition FROM malnutrition WHERE Country IN ('India', 'Nigeria', 'Brazil') GROUP BY Country, Year ORDER BY Country, Year\",myconnection)"
   ]
  },
  {
   "cell_type": "markdown",
   "metadata": {},
   "source": [
    "**7.Regions with lowest malnutrition averages**"
   ]
  },
  {
   "cell_type": "code",
   "execution_count": 165,
   "metadata": {},
   "outputs": [
    {
     "data": {
      "text/html": [
       "<div>\n",
       "<style scoped>\n",
       "    .dataframe tbody tr th:only-of-type {\n",
       "        vertical-align: middle;\n",
       "    }\n",
       "\n",
       "    .dataframe tbody tr th {\n",
       "        vertical-align: top;\n",
       "    }\n",
       "\n",
       "    .dataframe thead th {\n",
       "        text-align: right;\n",
       "    }\n",
       "</style>\n",
       "<table border=\"1\" class=\"dataframe\">\n",
       "  <thead>\n",
       "    <tr style=\"text-align: right;\">\n",
       "      <th></th>\n",
       "      <th>Region</th>\n",
       "      <th>Average_Malnutrition</th>\n",
       "    </tr>\n",
       "  </thead>\n",
       "  <tbody>\n",
       "    <tr>\n",
       "      <td>0</td>\n",
       "      <td>Europe</td>\n",
       "      <td>2.740261</td>\n",
       "    </tr>\n",
       "    <tr>\n",
       "      <td>1</td>\n",
       "      <td>Americas</td>\n",
       "      <td>3.466196</td>\n",
       "    </tr>\n",
       "    <tr>\n",
       "      <td>2</td>\n",
       "      <td>Western Pacific</td>\n",
       "      <td>3.469725</td>\n",
       "    </tr>\n",
       "    <tr>\n",
       "      <td>3</td>\n",
       "      <td>Eastern Mediterranean</td>\n",
       "      <td>6.717939</td>\n",
       "    </tr>\n",
       "    <tr>\n",
       "      <td>4</td>\n",
       "      <td>Africa</td>\n",
       "      <td>8.483988</td>\n",
       "    </tr>\n",
       "    <tr>\n",
       "      <td>5</td>\n",
       "      <td>South-East Asia</td>\n",
       "      <td>13.105380</td>\n",
       "    </tr>\n",
       "  </tbody>\n",
       "</table>\n",
       "</div>"
      ],
      "text/plain": [
       "                  Region  Average_Malnutrition\n",
       "0                 Europe              2.740261\n",
       "1               Americas              3.466196\n",
       "2        Western Pacific              3.469725\n",
       "3  Eastern Mediterranean              6.717939\n",
       "4                 Africa              8.483988\n",
       "5        South-East Asia             13.105380"
      ]
     },
     "execution_count": 165,
     "metadata": {},
     "output_type": "execute_result"
    }
   ],
   "source": [
    "pd.read_sql_query(\"SELECT Region, AVG(Mean_Estimate) AS Average_Malnutrition FROM malnutrition GROUP BY Region ORDER BY Average_Malnutrition ASC\",myconnection)"
   ]
  },
  {
   "cell_type": "markdown",
   "metadata": {},
   "source": [
    "**8. Countries with increasing malnutrition (💡 Hint: Use MIN() and MAX()on Mean_Estimate per country to compare early vs. recent malnutrition levels, and filter where the difference is positive using HAVING.)** "
   ]
  },
  {
   "cell_type": "code",
   "execution_count": 166,
   "metadata": {},
   "outputs": [
    {
     "data": {
      "text/html": [
       "<div>\n",
       "<style scoped>\n",
       "    .dataframe tbody tr th:only-of-type {\n",
       "        vertical-align: middle;\n",
       "    }\n",
       "\n",
       "    .dataframe tbody tr th {\n",
       "        vertical-align: top;\n",
       "    }\n",
       "\n",
       "    .dataframe thead th {\n",
       "        text-align: right;\n",
       "    }\n",
       "</style>\n",
       "<table border=\"1\" class=\"dataframe\">\n",
       "  <thead>\n",
       "    <tr style=\"text-align: right;\">\n",
       "      <th></th>\n",
       "      <th>Country</th>\n",
       "      <th>Minimum_Malnutrition</th>\n",
       "      <th>Maximum_Malnutrition</th>\n",
       "    </tr>\n",
       "  </thead>\n",
       "  <tbody>\n",
       "    <tr>\n",
       "      <td>0</td>\n",
       "      <td>Senegal</td>\n",
       "      <td>10.98750</td>\n",
       "      <td>24.41280</td>\n",
       "    </tr>\n",
       "    <tr>\n",
       "      <td>1</td>\n",
       "      <td>American Samoa</td>\n",
       "      <td>0.24652</td>\n",
       "      <td>1.14696</td>\n",
       "    </tr>\n",
       "    <tr>\n",
       "      <td>2</td>\n",
       "      <td>Gabon</td>\n",
       "      <td>3.96353</td>\n",
       "      <td>9.82883</td>\n",
       "    </tr>\n",
       "    <tr>\n",
       "      <td>3</td>\n",
       "      <td>Mongolia</td>\n",
       "      <td>2.35090</td>\n",
       "      <td>5.11756</td>\n",
       "    </tr>\n",
       "    <tr>\n",
       "      <td>4</td>\n",
       "      <td>Sierra Leone</td>\n",
       "      <td>2.73102</td>\n",
       "      <td>9.85371</td>\n",
       "    </tr>\n",
       "    <tr>\n",
       "      <td>...</td>\n",
       "      <td>...</td>\n",
       "      <td>...</td>\n",
       "      <td>...</td>\n",
       "    </tr>\n",
       "    <tr>\n",
       "      <td>205</td>\n",
       "      <td>Global</td>\n",
       "      <td>6.73861</td>\n",
       "      <td>14.44310</td>\n",
       "    </tr>\n",
       "    <tr>\n",
       "      <td>206</td>\n",
       "      <td>Dominica</td>\n",
       "      <td>2.62909</td>\n",
       "      <td>5.89922</td>\n",
       "    </tr>\n",
       "    <tr>\n",
       "      <td>207</td>\n",
       "      <td>France</td>\n",
       "      <td>1.66191</td>\n",
       "      <td>5.49493</td>\n",
       "    </tr>\n",
       "    <tr>\n",
       "      <td>208</td>\n",
       "      <td>Azerbaijan</td>\n",
       "      <td>1.54480</td>\n",
       "      <td>6.55103</td>\n",
       "    </tr>\n",
       "    <tr>\n",
       "      <td>209</td>\n",
       "      <td>Guinea</td>\n",
       "      <td>5.32263</td>\n",
       "      <td>12.23930</td>\n",
       "    </tr>\n",
       "  </tbody>\n",
       "</table>\n",
       "<p>210 rows × 3 columns</p>\n",
       "</div>"
      ],
      "text/plain": [
       "            Country  Minimum_Malnutrition  Maximum_Malnutrition\n",
       "0           Senegal              10.98750              24.41280\n",
       "1    American Samoa               0.24652               1.14696\n",
       "2             Gabon               3.96353               9.82883\n",
       "3          Mongolia               2.35090               5.11756\n",
       "4      Sierra Leone               2.73102               9.85371\n",
       "..              ...                   ...                   ...\n",
       "205          Global               6.73861              14.44310\n",
       "206        Dominica               2.62909               5.89922\n",
       "207          France               1.66191               5.49493\n",
       "208      Azerbaijan               1.54480               6.55103\n",
       "209          Guinea               5.32263              12.23930\n",
       "\n",
       "[210 rows x 3 columns]"
      ]
     },
     "execution_count": 166,
     "metadata": {},
     "output_type": "execute_result"
    }
   ],
   "source": [
    "pd.read_sql_query(\"SELECT Country,MIN(Mean_Estimate) AS Minimum_Malnutrition, MAX(Mean_Estimate) AS Maximum_Malnutrition FROM malnutrition GROUP BY Country HAVING MAX(Mean_Estimate) - MIN(Mean_Estimate) > 0\",myconnection)"
   ]
  },
  {
   "cell_type": "markdown",
   "metadata": {},
   "source": [
    "**9.Min/Max malnutrition levels year-wise comparison**"
   ]
  },
  {
   "cell_type": "code",
   "execution_count": 167,
   "metadata": {},
   "outputs": [
    {
     "data": {
      "text/html": [
       "<div>\n",
       "<style scoped>\n",
       "    .dataframe tbody tr th:only-of-type {\n",
       "        vertical-align: middle;\n",
       "    }\n",
       "\n",
       "    .dataframe tbody tr th {\n",
       "        vertical-align: top;\n",
       "    }\n",
       "\n",
       "    .dataframe thead th {\n",
       "        text-align: right;\n",
       "    }\n",
       "</style>\n",
       "<table border=\"1\" class=\"dataframe\">\n",
       "  <thead>\n",
       "    <tr style=\"text-align: right;\">\n",
       "      <th></th>\n",
       "      <th>Year</th>\n",
       "      <th>Minimum_Level</th>\n",
       "      <th>Maximum_Level</th>\n",
       "    </tr>\n",
       "  </thead>\n",
       "  <tbody>\n",
       "    <tr>\n",
       "      <td>0</td>\n",
       "      <td>2012</td>\n",
       "      <td>0.17531</td>\n",
       "      <td>35.8941</td>\n",
       "    </tr>\n",
       "    <tr>\n",
       "      <td>1</td>\n",
       "      <td>2013</td>\n",
       "      <td>0.17642</td>\n",
       "      <td>35.6944</td>\n",
       "    </tr>\n",
       "    <tr>\n",
       "      <td>2</td>\n",
       "      <td>2014</td>\n",
       "      <td>0.17777</td>\n",
       "      <td>35.4982</td>\n",
       "    </tr>\n",
       "    <tr>\n",
       "      <td>3</td>\n",
       "      <td>2015</td>\n",
       "      <td>0.17844</td>\n",
       "      <td>35.3130</td>\n",
       "    </tr>\n",
       "    <tr>\n",
       "      <td>4</td>\n",
       "      <td>2016</td>\n",
       "      <td>0.17880</td>\n",
       "      <td>35.1477</td>\n",
       "    </tr>\n",
       "    <tr>\n",
       "      <td>5</td>\n",
       "      <td>2017</td>\n",
       "      <td>0.17929</td>\n",
       "      <td>34.9979</td>\n",
       "    </tr>\n",
       "    <tr>\n",
       "      <td>6</td>\n",
       "      <td>2018</td>\n",
       "      <td>0.17980</td>\n",
       "      <td>34.8562</td>\n",
       "    </tr>\n",
       "    <tr>\n",
       "      <td>7</td>\n",
       "      <td>2019</td>\n",
       "      <td>0.18043</td>\n",
       "      <td>34.7160</td>\n",
       "    </tr>\n",
       "    <tr>\n",
       "      <td>8</td>\n",
       "      <td>2020</td>\n",
       "      <td>0.18199</td>\n",
       "      <td>34.5784</td>\n",
       "    </tr>\n",
       "    <tr>\n",
       "      <td>9</td>\n",
       "      <td>2021</td>\n",
       "      <td>0.18472</td>\n",
       "      <td>34.4292</td>\n",
       "    </tr>\n",
       "    <tr>\n",
       "      <td>10</td>\n",
       "      <td>2022</td>\n",
       "      <td>0.18817</td>\n",
       "      <td>34.2620</td>\n",
       "    </tr>\n",
       "  </tbody>\n",
       "</table>\n",
       "</div>"
      ],
      "text/plain": [
       "    Year  Minimum_Level  Maximum_Level\n",
       "0   2012        0.17531        35.8941\n",
       "1   2013        0.17642        35.6944\n",
       "2   2014        0.17777        35.4982\n",
       "3   2015        0.17844        35.3130\n",
       "4   2016        0.17880        35.1477\n",
       "5   2017        0.17929        34.9979\n",
       "6   2018        0.17980        34.8562\n",
       "7   2019        0.18043        34.7160\n",
       "8   2020        0.18199        34.5784\n",
       "9   2021        0.18472        34.4292\n",
       "10  2022        0.18817        34.2620"
      ]
     },
     "execution_count": 167,
     "metadata": {},
     "output_type": "execute_result"
    }
   ],
   "source": [
    "pd.read_sql_query(\"SELECT Year,MIN(Mean_Estimate) AS Minimum_Level,MAX(Mean_Estimate) AS Maximum_Level FROM malnutrition GROUP BY Year ORDER BY Year\",myconnection)"
   ]
  },
  {
   "cell_type": "markdown",
   "metadata": {},
   "source": [
    "**10.High CI_Width flags for monitoring(CI_width > 5)**"
   ]
  },
  {
   "cell_type": "code",
   "execution_count": 168,
   "metadata": {},
   "outputs": [
    {
     "data": {
      "text/html": [
       "<div>\n",
       "<style scoped>\n",
       "    .dataframe tbody tr th:only-of-type {\n",
       "        vertical-align: middle;\n",
       "    }\n",
       "\n",
       "    .dataframe tbody tr th {\n",
       "        vertical-align: top;\n",
       "    }\n",
       "\n",
       "    .dataframe thead th {\n",
       "        text-align: right;\n",
       "    }\n",
       "</style>\n",
       "<table border=\"1\" class=\"dataframe\">\n",
       "  <thead>\n",
       "    <tr style=\"text-align: right;\">\n",
       "      <th></th>\n",
       "      <th>Region</th>\n",
       "      <th>Gender</th>\n",
       "      <th>Year</th>\n",
       "      <th>LowerBound</th>\n",
       "      <th>UpperBound</th>\n",
       "      <th>Mean_Estimate</th>\n",
       "      <th>Country</th>\n",
       "      <th>Age_Group</th>\n",
       "      <th>CI_width</th>\n",
       "      <th>Malnutrition_Level</th>\n",
       "    </tr>\n",
       "  </thead>\n",
       "  <tbody>\n",
       "    <tr>\n",
       "      <td>0</td>\n",
       "      <td>Africa</td>\n",
       "      <td>Female</td>\n",
       "      <td>2019</td>\n",
       "      <td>13.68140</td>\n",
       "      <td>21.37380</td>\n",
       "      <td>17.32080</td>\n",
       "      <td>Senegal</td>\n",
       "      <td>Adult</td>\n",
       "      <td>7.69236</td>\n",
       "      <td>Moderate</td>\n",
       "    </tr>\n",
       "    <tr>\n",
       "      <td>1</td>\n",
       "      <td>Africa</td>\n",
       "      <td>Male</td>\n",
       "      <td>2012</td>\n",
       "      <td>9.45811</td>\n",
       "      <td>14.89630</td>\n",
       "      <td>12.08960</td>\n",
       "      <td>Lesotho</td>\n",
       "      <td>Adult</td>\n",
       "      <td>5.43817</td>\n",
       "      <td>Moderate</td>\n",
       "    </tr>\n",
       "    <tr>\n",
       "      <td>2</td>\n",
       "      <td>Africa</td>\n",
       "      <td>Both</td>\n",
       "      <td>2018</td>\n",
       "      <td>9.45368</td>\n",
       "      <td>15.47580</td>\n",
       "      <td>12.27350</td>\n",
       "      <td>Gambia</td>\n",
       "      <td>Adult</td>\n",
       "      <td>6.02215</td>\n",
       "      <td>Moderate</td>\n",
       "    </tr>\n",
       "    <tr>\n",
       "      <td>3</td>\n",
       "      <td>Africa</td>\n",
       "      <td>Both</td>\n",
       "      <td>2022</td>\n",
       "      <td>9.28885</td>\n",
       "      <td>18.96020</td>\n",
       "      <td>13.62750</td>\n",
       "      <td>Congo</td>\n",
       "      <td>Adult</td>\n",
       "      <td>9.67138</td>\n",
       "      <td>Moderate</td>\n",
       "    </tr>\n",
       "    <tr>\n",
       "      <td>4</td>\n",
       "      <td>South-East Asia</td>\n",
       "      <td>Female</td>\n",
       "      <td>2019</td>\n",
       "      <td>10.23360</td>\n",
       "      <td>16.57560</td>\n",
       "      <td>13.26020</td>\n",
       "      <td>Myanmar</td>\n",
       "      <td>Adult</td>\n",
       "      <td>6.34202</td>\n",
       "      <td>Moderate</td>\n",
       "    </tr>\n",
       "    <tr>\n",
       "      <td>...</td>\n",
       "      <td>...</td>\n",
       "      <td>...</td>\n",
       "      <td>...</td>\n",
       "      <td>...</td>\n",
       "      <td>...</td>\n",
       "      <td>...</td>\n",
       "      <td>...</td>\n",
       "      <td>...</td>\n",
       "      <td>...</td>\n",
       "      <td>...</td>\n",
       "    </tr>\n",
       "    <tr>\n",
       "      <td>19137</td>\n",
       "      <td>Africa</td>\n",
       "      <td>Both</td>\n",
       "      <td>2012</td>\n",
       "      <td>3.79641</td>\n",
       "      <td>15.44800</td>\n",
       "      <td>8.65436</td>\n",
       "      <td>Equatorial Guinea</td>\n",
       "      <td>Children</td>\n",
       "      <td>11.65160</td>\n",
       "      <td>Low</td>\n",
       "    </tr>\n",
       "    <tr>\n",
       "      <td>19138</td>\n",
       "      <td>Africa</td>\n",
       "      <td>Female</td>\n",
       "      <td>2017</td>\n",
       "      <td>3.08950</td>\n",
       "      <td>20.23360</td>\n",
       "      <td>9.69737</td>\n",
       "      <td>Cabo Verde</td>\n",
       "      <td>Children</td>\n",
       "      <td>17.14410</td>\n",
       "      <td>Low</td>\n",
       "    </tr>\n",
       "    <tr>\n",
       "      <td>19139</td>\n",
       "      <td>Western Pacific</td>\n",
       "      <td>Male</td>\n",
       "      <td>2022</td>\n",
       "      <td>1.32455</td>\n",
       "      <td>14.87040</td>\n",
       "      <td>6.02405</td>\n",
       "      <td>Fiji</td>\n",
       "      <td>Children</td>\n",
       "      <td>13.54590</td>\n",
       "      <td>Low</td>\n",
       "    </tr>\n",
       "    <tr>\n",
       "      <td>19140</td>\n",
       "      <td>Africa</td>\n",
       "      <td>Both</td>\n",
       "      <td>2012</td>\n",
       "      <td>1.73144</td>\n",
       "      <td>7.06341</td>\n",
       "      <td>3.78337</td>\n",
       "      <td>Lesotho</td>\n",
       "      <td>Children</td>\n",
       "      <td>5.33197</td>\n",
       "      <td>Low</td>\n",
       "    </tr>\n",
       "    <tr>\n",
       "      <td>19141</td>\n",
       "      <td>Europe</td>\n",
       "      <td>Male</td>\n",
       "      <td>2018</td>\n",
       "      <td>0.46517</td>\n",
       "      <td>7.30748</td>\n",
       "      <td>2.54279</td>\n",
       "      <td>Iceland</td>\n",
       "      <td>Children</td>\n",
       "      <td>6.84231</td>\n",
       "      <td>Low</td>\n",
       "    </tr>\n",
       "  </tbody>\n",
       "</table>\n",
       "<p>19142 rows × 10 columns</p>\n",
       "</div>"
      ],
      "text/plain": [
       "                Region  Gender  Year  LowerBound  UpperBound  Mean_Estimate  \\\n",
       "0               Africa  Female  2019    13.68140    21.37380       17.32080   \n",
       "1               Africa    Male  2012     9.45811    14.89630       12.08960   \n",
       "2               Africa    Both  2018     9.45368    15.47580       12.27350   \n",
       "3               Africa    Both  2022     9.28885    18.96020       13.62750   \n",
       "4      South-East Asia  Female  2019    10.23360    16.57560       13.26020   \n",
       "...                ...     ...   ...         ...         ...            ...   \n",
       "19137           Africa    Both  2012     3.79641    15.44800        8.65436   \n",
       "19138           Africa  Female  2017     3.08950    20.23360        9.69737   \n",
       "19139  Western Pacific    Male  2022     1.32455    14.87040        6.02405   \n",
       "19140           Africa    Both  2012     1.73144     7.06341        3.78337   \n",
       "19141           Europe    Male  2018     0.46517     7.30748        2.54279   \n",
       "\n",
       "                 Country Age_Group  CI_width Malnutrition_Level  \n",
       "0                Senegal     Adult   7.69236           Moderate  \n",
       "1                Lesotho     Adult   5.43817           Moderate  \n",
       "2                 Gambia     Adult   6.02215           Moderate  \n",
       "3                  Congo     Adult   9.67138           Moderate  \n",
       "4                Myanmar     Adult   6.34202           Moderate  \n",
       "...                  ...       ...       ...                ...  \n",
       "19137  Equatorial Guinea  Children  11.65160                Low  \n",
       "19138         Cabo Verde  Children  17.14410                Low  \n",
       "19139               Fiji  Children  13.54590                Low  \n",
       "19140            Lesotho  Children   5.33197                Low  \n",
       "19141            Iceland  Children   6.84231                Low  \n",
       "\n",
       "[19142 rows x 10 columns]"
      ]
     },
     "execution_count": 168,
     "metadata": {},
     "output_type": "execute_result"
    }
   ],
   "source": [
    "pd.read_sql_query(\"SELECT * FROM malnutrition WHERE CI_width > 5\",myconnection)"
   ]
  },
  {
   "cell_type": "markdown",
   "metadata": {},
   "source": [
    "### REGARDING BOTH OBESITY AND MALNUTRITION"
   ]
  },
  {
   "cell_type": "markdown",
   "metadata": {},
   "source": [
    "**1.Obesity vs malnutrition comparison by country(any 5 countries)**"
   ]
  },
  {
   "cell_type": "code",
   "execution_count": 169,
   "metadata": {},
   "outputs": [
    {
     "data": {
      "text/html": [
       "<div>\n",
       "<style scoped>\n",
       "    .dataframe tbody tr th:only-of-type {\n",
       "        vertical-align: middle;\n",
       "    }\n",
       "\n",
       "    .dataframe tbody tr th {\n",
       "        vertical-align: top;\n",
       "    }\n",
       "\n",
       "    .dataframe thead th {\n",
       "        text-align: right;\n",
       "    }\n",
       "</style>\n",
       "<table border=\"1\" class=\"dataframe\">\n",
       "  <thead>\n",
       "    <tr style=\"text-align: right;\">\n",
       "      <th></th>\n",
       "      <th>Country</th>\n",
       "      <th>Year</th>\n",
       "      <th>Obesity</th>\n",
       "      <th>Malnutrition</th>\n",
       "    </tr>\n",
       "  </thead>\n",
       "  <tbody>\n",
       "    <tr>\n",
       "      <td>0</td>\n",
       "      <td>Qatar</td>\n",
       "      <td>2014</td>\n",
       "      <td>35.40680</td>\n",
       "      <td>2.20807</td>\n",
       "    </tr>\n",
       "    <tr>\n",
       "      <td>1</td>\n",
       "      <td>Qatar</td>\n",
       "      <td>2014</td>\n",
       "      <td>35.40680</td>\n",
       "      <td>2.20807</td>\n",
       "    </tr>\n",
       "    <tr>\n",
       "      <td>2</td>\n",
       "      <td>Myanmar</td>\n",
       "      <td>2019</td>\n",
       "      <td>8.67824</td>\n",
       "      <td>13.26020</td>\n",
       "    </tr>\n",
       "    <tr>\n",
       "      <td>3</td>\n",
       "      <td>Myanmar</td>\n",
       "      <td>2019</td>\n",
       "      <td>8.67824</td>\n",
       "      <td>13.26020</td>\n",
       "    </tr>\n",
       "    <tr>\n",
       "      <td>4</td>\n",
       "      <td>Qatar</td>\n",
       "      <td>2016</td>\n",
       "      <td>43.35970</td>\n",
       "      <td>2.96356</td>\n",
       "    </tr>\n",
       "    <tr>\n",
       "      <td>...</td>\n",
       "      <td>...</td>\n",
       "      <td>...</td>\n",
       "      <td>...</td>\n",
       "      <td>...</td>\n",
       "    </tr>\n",
       "    <tr>\n",
       "      <td>6595</td>\n",
       "      <td>Qatar</td>\n",
       "      <td>2020</td>\n",
       "      <td>26.64920</td>\n",
       "      <td>4.82062</td>\n",
       "    </tr>\n",
       "    <tr>\n",
       "      <td>6596</td>\n",
       "      <td>Qatar</td>\n",
       "      <td>2020</td>\n",
       "      <td>28.80220</td>\n",
       "      <td>4.82062</td>\n",
       "    </tr>\n",
       "    <tr>\n",
       "      <td>6597</td>\n",
       "      <td>Qatar</td>\n",
       "      <td>2020</td>\n",
       "      <td>27.89770</td>\n",
       "      <td>4.82062</td>\n",
       "    </tr>\n",
       "    <tr>\n",
       "      <td>6598</td>\n",
       "      <td>Qatar</td>\n",
       "      <td>2020</td>\n",
       "      <td>26.64920</td>\n",
       "      <td>4.82062</td>\n",
       "    </tr>\n",
       "    <tr>\n",
       "      <td>6599</td>\n",
       "      <td>Qatar</td>\n",
       "      <td>2020</td>\n",
       "      <td>28.80220</td>\n",
       "      <td>4.82062</td>\n",
       "    </tr>\n",
       "  </tbody>\n",
       "</table>\n",
       "<p>6600 rows × 4 columns</p>\n",
       "</div>"
      ],
      "text/plain": [
       "      Country  Year   Obesity  Malnutrition\n",
       "0       Qatar  2014  35.40680       2.20807\n",
       "1       Qatar  2014  35.40680       2.20807\n",
       "2     Myanmar  2019   8.67824      13.26020\n",
       "3     Myanmar  2019   8.67824      13.26020\n",
       "4       Qatar  2016  43.35970       2.96356\n",
       "...       ...   ...       ...           ...\n",
       "6595    Qatar  2020  26.64920       4.82062\n",
       "6596    Qatar  2020  28.80220       4.82062\n",
       "6597    Qatar  2020  27.89770       4.82062\n",
       "6598    Qatar  2020  26.64920       4.82062\n",
       "6599    Qatar  2020  28.80220       4.82062\n",
       "\n",
       "[6600 rows x 4 columns]"
      ]
     },
     "execution_count": 169,
     "metadata": {},
     "output_type": "execute_result"
    }
   ],
   "source": [
    "pd.read_sql_query(\"SELECT o.Country, o.Year, o.Mean_Estimate AS Obesity, m.Mean_Estimate AS Malnutrition FROM obesity as o JOIN malnutrition as m ON o.Country = m.Country AND o.Year = m.Year AND o.Gender = m.Gender AND o.age_group = m.age_group WHERE o.Country IN ('India', 'Brazil', 'Qatar', 'Myanmar', 'Bangladesh')\",myconnection)"
   ]
  },
  {
   "cell_type": "markdown",
   "metadata": {},
   "source": [
    "**2.Gender-based disparity in both obesity and malnutrition**"
   ]
  },
  {
   "cell_type": "code",
   "execution_count": 170,
   "metadata": {},
   "outputs": [
    {
     "data": {
      "text/html": [
       "<div>\n",
       "<style scoped>\n",
       "    .dataframe tbody tr th:only-of-type {\n",
       "        vertical-align: middle;\n",
       "    }\n",
       "\n",
       "    .dataframe tbody tr th {\n",
       "        vertical-align: top;\n",
       "    }\n",
       "\n",
       "    .dataframe thead th {\n",
       "        text-align: right;\n",
       "    }\n",
       "</style>\n",
       "<table border=\"1\" class=\"dataframe\">\n",
       "  <thead>\n",
       "    <tr style=\"text-align: right;\">\n",
       "      <th></th>\n",
       "      <th>Gender</th>\n",
       "      <th>Avg_Obesity</th>\n",
       "      <th>Avg_Malnutrition</th>\n",
       "    </tr>\n",
       "  </thead>\n",
       "  <tbody>\n",
       "    <tr>\n",
       "      <td>0</td>\n",
       "      <td>Male</td>\n",
       "      <td>11.706916</td>\n",
       "      <td>6.048918</td>\n",
       "    </tr>\n",
       "    <tr>\n",
       "      <td>1</td>\n",
       "      <td>Female</td>\n",
       "      <td>10.163956</td>\n",
       "      <td>4.416873</td>\n",
       "    </tr>\n",
       "    <tr>\n",
       "      <td>2</td>\n",
       "      <td>Both</td>\n",
       "      <td>10.968940</td>\n",
       "      <td>5.245862</td>\n",
       "    </tr>\n",
       "  </tbody>\n",
       "</table>\n",
       "</div>"
      ],
      "text/plain": [
       "   Gender  Avg_Obesity  Avg_Malnutrition\n",
       "0    Male    11.706916          6.048918\n",
       "1  Female    10.163956          4.416873\n",
       "2    Both    10.968940          5.245862"
      ]
     },
     "execution_count": 170,
     "metadata": {},
     "output_type": "execute_result"
    }
   ],
   "source": [
    "pd.read_sql_query(\"SELECT o.Gender,AVG(o.Mean_Estimate) AS Avg_Obesity,AVG(m.Mean_Estimate) AS Avg_Malnutrition FROM obesity as o JOIN malnutrition as m ON o.Country = m.Country AND o.Year = m.Year AND o.Gender = m.Gender AND o.Age_group = m.Age_group GROUP BY o.Gender\",myconnection)"
   ]
  },
  {
   "cell_type": "markdown",
   "metadata": {},
   "source": [
    "**3.Region-wise avg estimates side-by-side(Africa and America)**"
   ]
  },
  {
   "cell_type": "code",
   "execution_count": 171,
   "metadata": {},
   "outputs": [
    {
     "data": {
      "text/html": [
       "<div>\n",
       "<style scoped>\n",
       "    .dataframe tbody tr th:only-of-type {\n",
       "        vertical-align: middle;\n",
       "    }\n",
       "\n",
       "    .dataframe tbody tr th {\n",
       "        vertical-align: top;\n",
       "    }\n",
       "\n",
       "    .dataframe thead th {\n",
       "        text-align: right;\n",
       "    }\n",
       "</style>\n",
       "<table border=\"1\" class=\"dataframe\">\n",
       "  <thead>\n",
       "    <tr style=\"text-align: right;\">\n",
       "      <th></th>\n",
       "      <th>Region</th>\n",
       "      <th>Avg_Obesity</th>\n",
       "      <th>Avg_Malnutrition</th>\n",
       "    </tr>\n",
       "  </thead>\n",
       "  <tbody>\n",
       "    <tr>\n",
       "      <td>0</td>\n",
       "      <td>Africa</td>\n",
       "      <td>4.680644</td>\n",
       "      <td>8.007080</td>\n",
       "    </tr>\n",
       "    <tr>\n",
       "      <td>1</td>\n",
       "      <td>Americas</td>\n",
       "      <td>16.004622</td>\n",
       "      <td>3.355566</td>\n",
       "    </tr>\n",
       "  </tbody>\n",
       "</table>\n",
       "</div>"
      ],
      "text/plain": [
       "     Region  Avg_Obesity  Avg_Malnutrition\n",
       "0    Africa     4.680644          8.007080\n",
       "1  Americas    16.004622          3.355566"
      ]
     },
     "execution_count": 171,
     "metadata": {},
     "output_type": "execute_result"
    }
   ],
   "source": [
    "pd.read_sql_query(\"SELECT o.Region,AVG(o.Mean_Estimate) AS Avg_Obesity,AVG(m.Mean_Estimate) AS Avg_Malnutrition FROM obesity as o JOIN malnutrition as m ON o.Country = m.Country AND o.Year = m.Year AND o.Gender = m.Gender AND o.Age_group = m.Age_group WHERE o.Region IN ('Africa', 'Americas')GROUP BY o.Region\",myconnection)"
   ]
  },
  {
   "cell_type": "markdown",
   "metadata": {},
   "source": [
    "**4.Countries with obesity up & malnutrition down**"
   ]
  },
  {
   "cell_type": "code",
   "execution_count": 172,
   "metadata": {},
   "outputs": [
    {
     "data": {
      "text/html": [
       "<div>\n",
       "<style scoped>\n",
       "    .dataframe tbody tr th:only-of-type {\n",
       "        vertical-align: middle;\n",
       "    }\n",
       "\n",
       "    .dataframe tbody tr th {\n",
       "        vertical-align: top;\n",
       "    }\n",
       "\n",
       "    .dataframe thead th {\n",
       "        text-align: right;\n",
       "    }\n",
       "</style>\n",
       "<table border=\"1\" class=\"dataframe\">\n",
       "  <thead>\n",
       "    <tr style=\"text-align: right;\">\n",
       "      <th></th>\n",
       "      <th>Country</th>\n",
       "      <th>Obesity_Increase</th>\n",
       "      <th>Malnutrition_Change</th>\n",
       "    </tr>\n",
       "  </thead>\n",
       "  <tbody>\n",
       "    <tr>\n",
       "      <td>0</td>\n",
       "      <td>Iran, Islamic Republic of</td>\n",
       "      <td>25.932649</td>\n",
       "      <td>8.436950</td>\n",
       "    </tr>\n",
       "    <tr>\n",
       "      <td>1</td>\n",
       "      <td>Iraq</td>\n",
       "      <td>34.475950</td>\n",
       "      <td>3.086680</td>\n",
       "    </tr>\n",
       "    <tr>\n",
       "      <td>2</td>\n",
       "      <td>Greenland</td>\n",
       "      <td>27.458800</td>\n",
       "      <td>2.607790</td>\n",
       "    </tr>\n",
       "    <tr>\n",
       "      <td>3</td>\n",
       "      <td>Panama</td>\n",
       "      <td>34.320340</td>\n",
       "      <td>1.424240</td>\n",
       "    </tr>\n",
       "    <tr>\n",
       "      <td>4</td>\n",
       "      <td>Guinea</td>\n",
       "      <td>10.472640</td>\n",
       "      <td>6.916710</td>\n",
       "    </tr>\n",
       "    <tr>\n",
       "      <td>...</td>\n",
       "      <td>...</td>\n",
       "      <td>...</td>\n",
       "      <td>...</td>\n",
       "    </tr>\n",
       "    <tr>\n",
       "      <td>205</td>\n",
       "      <td>Low &amp; Middle Income</td>\n",
       "      <td>12.928010</td>\n",
       "      <td>12.226449</td>\n",
       "    </tr>\n",
       "    <tr>\n",
       "      <td>206</td>\n",
       "      <td>Gabon</td>\n",
       "      <td>28.172179</td>\n",
       "      <td>5.865300</td>\n",
       "    </tr>\n",
       "    <tr>\n",
       "      <td>207</td>\n",
       "      <td>Greece</td>\n",
       "      <td>26.965711</td>\n",
       "      <td>1.433500</td>\n",
       "    </tr>\n",
       "    <tr>\n",
       "      <td>208</td>\n",
       "      <td>Madagascar</td>\n",
       "      <td>5.532770</td>\n",
       "      <td>16.134340</td>\n",
       "    </tr>\n",
       "    <tr>\n",
       "      <td>209</td>\n",
       "      <td>United Arab Emirates</td>\n",
       "      <td>23.321280</td>\n",
       "      <td>2.908690</td>\n",
       "    </tr>\n",
       "  </tbody>\n",
       "</table>\n",
       "<p>210 rows × 3 columns</p>\n",
       "</div>"
      ],
      "text/plain": [
       "                       Country  Obesity_Increase  Malnutrition_Change\n",
       "0    Iran, Islamic Republic of         25.932649             8.436950\n",
       "1                         Iraq         34.475950             3.086680\n",
       "2                    Greenland         27.458800             2.607790\n",
       "3                       Panama         34.320340             1.424240\n",
       "4                       Guinea         10.472640             6.916710\n",
       "..                         ...               ...                  ...\n",
       "205        Low & Middle Income         12.928010            12.226449\n",
       "206                      Gabon         28.172179             5.865300\n",
       "207                     Greece         26.965711             1.433500\n",
       "208                 Madagascar          5.532770            16.134340\n",
       "209       United Arab Emirates         23.321280             2.908690\n",
       "\n",
       "[210 rows x 3 columns]"
      ]
     },
     "execution_count": 172,
     "metadata": {},
     "output_type": "execute_result"
    }
   ],
   "source": [
    "pd.read_sql_query(\"SELECT o.Country,MAX(o.Mean_Estimate) - MIN(o.Mean_Estimate) AS Obesity_Increase,MAX(m.Mean_Estimate) - MIN(m.Mean_Estimate) AS Malnutrition_Change FROM obesity as o JOIN malnutrition as m ON o.Country = m.Country AND o.Year = m.Year AND o.Gender = m.Gender AND o.Age_group = m.Age_group GROUP BY o.Country\",myconnection)"
   ]
  },
  {
   "cell_type": "markdown",
   "metadata": {},
   "source": [
    "**5.Age-wise trend analysis**"
   ]
  },
  {
   "cell_type": "code",
   "execution_count": 173,
   "metadata": {},
   "outputs": [
    {
     "data": {
      "text/html": [
       "<div>\n",
       "<style scoped>\n",
       "    .dataframe tbody tr th:only-of-type {\n",
       "        vertical-align: middle;\n",
       "    }\n",
       "\n",
       "    .dataframe tbody tr th {\n",
       "        vertical-align: top;\n",
       "    }\n",
       "\n",
       "    .dataframe thead th {\n",
       "        text-align: right;\n",
       "    }\n",
       "</style>\n",
       "<table border=\"1\" class=\"dataframe\">\n",
       "  <thead>\n",
       "    <tr style=\"text-align: right;\">\n",
       "      <th></th>\n",
       "      <th>Year</th>\n",
       "      <th>age_group</th>\n",
       "      <th>Avg_Obesity</th>\n",
       "      <th>Avg_Malnutrition</th>\n",
       "    </tr>\n",
       "  </thead>\n",
       "  <tbody>\n",
       "    <tr>\n",
       "      <td>0</td>\n",
       "      <td>2012</td>\n",
       "      <td>Adult</td>\n",
       "      <td>19.517937</td>\n",
       "      <td>6.443665</td>\n",
       "    </tr>\n",
       "    <tr>\n",
       "      <td>1</td>\n",
       "      <td>2012</td>\n",
       "      <td>Children</td>\n",
       "      <td>8.243314</td>\n",
       "      <td>5.274296</td>\n",
       "    </tr>\n",
       "    <tr>\n",
       "      <td>2</td>\n",
       "      <td>2013</td>\n",
       "      <td>Adult</td>\n",
       "      <td>19.949265</td>\n",
       "      <td>6.320996</td>\n",
       "    </tr>\n",
       "    <tr>\n",
       "      <td>3</td>\n",
       "      <td>2013</td>\n",
       "      <td>Children</td>\n",
       "      <td>8.496429</td>\n",
       "      <td>5.238137</td>\n",
       "    </tr>\n",
       "    <tr>\n",
       "      <td>4</td>\n",
       "      <td>2014</td>\n",
       "      <td>Adult</td>\n",
       "      <td>20.391706</td>\n",
       "      <td>6.206418</td>\n",
       "    </tr>\n",
       "    <tr>\n",
       "      <td>5</td>\n",
       "      <td>2014</td>\n",
       "      <td>Children</td>\n",
       "      <td>8.763223</td>\n",
       "      <td>5.207282</td>\n",
       "    </tr>\n",
       "    <tr>\n",
       "      <td>6</td>\n",
       "      <td>2015</td>\n",
       "      <td>Adult</td>\n",
       "      <td>20.847086</td>\n",
       "      <td>6.099508</td>\n",
       "    </tr>\n",
       "    <tr>\n",
       "      <td>7</td>\n",
       "      <td>2015</td>\n",
       "      <td>Children</td>\n",
       "      <td>9.043279</td>\n",
       "      <td>5.181183</td>\n",
       "    </tr>\n",
       "    <tr>\n",
       "      <td>8</td>\n",
       "      <td>2016</td>\n",
       "      <td>Adult</td>\n",
       "      <td>21.315222</td>\n",
       "      <td>5.999507</td>\n",
       "    </tr>\n",
       "    <tr>\n",
       "      <td>9</td>\n",
       "      <td>2016</td>\n",
       "      <td>Children</td>\n",
       "      <td>9.340136</td>\n",
       "      <td>5.159311</td>\n",
       "    </tr>\n",
       "    <tr>\n",
       "      <td>10</td>\n",
       "      <td>2017</td>\n",
       "      <td>Adult</td>\n",
       "      <td>21.790270</td>\n",
       "      <td>5.906841</td>\n",
       "    </tr>\n",
       "    <tr>\n",
       "      <td>11</td>\n",
       "      <td>2017</td>\n",
       "      <td>Children</td>\n",
       "      <td>9.656573</td>\n",
       "      <td>5.140601</td>\n",
       "    </tr>\n",
       "    <tr>\n",
       "      <td>12</td>\n",
       "      <td>2018</td>\n",
       "      <td>Adult</td>\n",
       "      <td>22.269403</td>\n",
       "      <td>5.820722</td>\n",
       "    </tr>\n",
       "    <tr>\n",
       "      <td>13</td>\n",
       "      <td>2018</td>\n",
       "      <td>Children</td>\n",
       "      <td>9.990595</td>\n",
       "      <td>5.124408</td>\n",
       "    </tr>\n",
       "    <tr>\n",
       "      <td>14</td>\n",
       "      <td>2019</td>\n",
       "      <td>Adult</td>\n",
       "      <td>22.757323</td>\n",
       "      <td>5.741474</td>\n",
       "    </tr>\n",
       "    <tr>\n",
       "      <td>15</td>\n",
       "      <td>2019</td>\n",
       "      <td>Children</td>\n",
       "      <td>10.340365</td>\n",
       "      <td>5.112283</td>\n",
       "    </tr>\n",
       "    <tr>\n",
       "      <td>16</td>\n",
       "      <td>2020</td>\n",
       "      <td>Adult</td>\n",
       "      <td>23.262193</td>\n",
       "      <td>5.667586</td>\n",
       "    </tr>\n",
       "    <tr>\n",
       "      <td>17</td>\n",
       "      <td>2020</td>\n",
       "      <td>Children</td>\n",
       "      <td>10.703271</td>\n",
       "      <td>5.105025</td>\n",
       "    </tr>\n",
       "    <tr>\n",
       "      <td>18</td>\n",
       "      <td>2021</td>\n",
       "      <td>Adult</td>\n",
       "      <td>23.777188</td>\n",
       "      <td>5.599580</td>\n",
       "    </tr>\n",
       "    <tr>\n",
       "      <td>19</td>\n",
       "      <td>2021</td>\n",
       "      <td>Children</td>\n",
       "      <td>11.075502</td>\n",
       "      <td>5.102574</td>\n",
       "    </tr>\n",
       "    <tr>\n",
       "      <td>20</td>\n",
       "      <td>2022</td>\n",
       "      <td>Adult</td>\n",
       "      <td>24.287866</td>\n",
       "      <td>5.540512</td>\n",
       "    </tr>\n",
       "    <tr>\n",
       "      <td>21</td>\n",
       "      <td>2022</td>\n",
       "      <td>Children</td>\n",
       "      <td>11.454089</td>\n",
       "      <td>5.104582</td>\n",
       "    </tr>\n",
       "  </tbody>\n",
       "</table>\n",
       "</div>"
      ],
      "text/plain": [
       "    Year age_group  Avg_Obesity  Avg_Malnutrition\n",
       "0   2012     Adult    19.517937          6.443665\n",
       "1   2012  Children     8.243314          5.274296\n",
       "2   2013     Adult    19.949265          6.320996\n",
       "3   2013  Children     8.496429          5.238137\n",
       "4   2014     Adult    20.391706          6.206418\n",
       "5   2014  Children     8.763223          5.207282\n",
       "6   2015     Adult    20.847086          6.099508\n",
       "7   2015  Children     9.043279          5.181183\n",
       "8   2016     Adult    21.315222          5.999507\n",
       "9   2016  Children     9.340136          5.159311\n",
       "10  2017     Adult    21.790270          5.906841\n",
       "11  2017  Children     9.656573          5.140601\n",
       "12  2018     Adult    22.269403          5.820722\n",
       "13  2018  Children     9.990595          5.124408\n",
       "14  2019     Adult    22.757323          5.741474\n",
       "15  2019  Children    10.340365          5.112283\n",
       "16  2020     Adult    23.262193          5.667586\n",
       "17  2020  Children    10.703271          5.105025\n",
       "18  2021     Adult    23.777188          5.599580\n",
       "19  2021  Children    11.075502          5.102574\n",
       "20  2022     Adult    24.287866          5.540512\n",
       "21  2022  Children    11.454089          5.104582"
      ]
     },
     "execution_count": 173,
     "metadata": {},
     "output_type": "execute_result"
    }
   ],
   "source": [
    "pd.read_sql_query(\"SELECT o.Year, o.age_group,AVG(o.Mean_Estimate) AS Avg_Obesity,AVG(m.Mean_Estimate) AS Avg_Malnutrition FROM obesity as o JOIN malnutrition as m ON o.Country = m.Country AND o.Year = m.Year AND o.Gender = m.Gender AND o.Age_group = m.Age_group GROUP BY o.Year, o.age_group ORDER BY o.Year, o.age_group\",myconnection)"
   ]
  },
  {
   "cell_type": "code",
   "execution_count": 174,
   "metadata": {},
   "outputs": [],
   "source": [
    "myconnection.commit()"
   ]
  },
  {
   "cell_type": "code",
   "execution_count": null,
   "metadata": {},
   "outputs": [],
   "source": [
    "cur.close()"
   ]
  }
 ],
 "metadata": {
  "hide_input": false,
  "kernelspec": {
   "display_name": "Python 3",
   "language": "python",
   "name": "python3"
  },
  "language_info": {
   "codemirror_mode": {
    "name": "ipython",
    "version": 3
   },
   "file_extension": ".py",
   "mimetype": "text/x-python",
   "name": "python",
   "nbconvert_exporter": "python",
   "pygments_lexer": "ipython3",
   "version": "3.7.4"
  },
  "toc": {
   "base_numbering": 1,
   "nav_menu": {},
   "number_sections": true,
   "sideBar": true,
   "skip_h1_title": false,
   "title_cell": "Table of Contents",
   "title_sidebar": "Contents",
   "toc_cell": false,
   "toc_position": {},
   "toc_section_display": true,
   "toc_window_display": true
  },
  "varInspector": {
   "cols": {
    "lenName": 16,
    "lenType": 16,
    "lenVar": 40
   },
   "kernels_config": {
    "python": {
     "delete_cmd_postfix": "",
     "delete_cmd_prefix": "del ",
     "library": "var_list.py",
     "varRefreshCmd": "print(var_dic_list())"
    },
    "r": {
     "delete_cmd_postfix": ") ",
     "delete_cmd_prefix": "rm(",
     "library": "var_list.r",
     "varRefreshCmd": "cat(var_dic_list()) "
    }
   },
   "types_to_exclude": [
    "module",
    "function",
    "builtin_function_or_method",
    "instance",
    "_Feature"
   ],
   "window_display": false
  }
 },
 "nbformat": 4,
 "nbformat_minor": 4
}
